{
 "cells": [
  {
   "cell_type": "code",
   "execution_count": 1,
   "metadata": {},
   "outputs": [],
   "source": [
    "######## Test!!!!"
   ]
  },
  {
   "cell_type": "code",
   "execution_count": 1,
   "metadata": {},
   "outputs": [],
   "source": [
    "import numpy as np,\\\n",
    "pandas as pd,\\\n",
    "seaborn as sns,\\\n",
    "matplotlib.pyplot as plt,\\\n",
    "sklearn.preprocessing as Scaler\n",
    "\n",
    "import sklearn\n",
    "\n",
    "from scipy import stats\n",
    "\n",
    "import warnings\n",
    "warnings.filterwarnings('ignore')\n",
    "\n",
    "%matplotlib inline"
   ]
  },
  {
   "cell_type": "code",
   "execution_count": 2,
   "metadata": {},
   "outputs": [],
   "source": [
    "train_data = pd.read_csv('../input/train.csv')\n",
    "test_data = pd.read_csv('../input/test.csv')"
   ]
  },
  {
   "cell_type": "code",
   "execution_count": 3,
   "metadata": {},
   "outputs": [],
   "source": [
    "features_to_drop = ['GarageArea', 'TotRmsAbvGrd', 'TotalBsmtSF']\n",
    "features_to_trans = ['MiscVal', 'PoolArea', 'LotArea', '3SsnPorch', 'LowQualFinSF',\n",
    "                     'KitchenAbvGr', 'BsmtFinSF2', 'ScreenPorch', 'BsmtHalfBath',\n",
    "                     'EnclosedPorch', 'MasVnrArea', 'OpenPorchSF', 'LotFrontage',\n",
    "                     'BsmtFinSF1', 'WoodDeckSF', '1stFlrSF',\n",
    "                     'GrLivArea', 'BsmtUnfSF', '2ndFlrSF', 'HalfBath']\n",
    "features_categorical = ['LotShape', 'OverallQual', 'OverallCond', 'LandContour', 'YearBuilt', 'Utilities', 'LotConfig',\n",
    "                        'YearRemodAdd', 'GarageFinish', 'MoSold', 'GarageQual', 'YrSold', 'GarageCond', 'PavedDrive',\n",
    "                        'PoolQC', 'Fence', 'MiscFeature', 'SaleType', 'SaleCondition', 'MSZoning', 'MSSubClass',\n",
    "                        'Street', 'Alley', 'LandSlope', 'Neighborhood', 'Condition1', 'Condition2', 'BldgType',\n",
    "                        'HouseStyle', 'RoofStyle', 'RoofMatl', 'Exterior1st', 'Exterior2nd', 'MasVnrType', 'ExterQual',\n",
    "                        'ExterCond', 'Foundation', 'BsmtQual', 'BsmtCond', 'BsmtExposure', 'BsmtFinType1', 'BsmtFinType2',\n",
    "                        'Heating', 'HeatingQC', 'CentralAir', 'Electrical', 'KitchenQual', 'Functional', 'FireplaceQu',\n",
    "                        'GarageType', 'GarageYrBlt']\n",
    "features_numerical = ['LotFrontage', 'LotArea', 'MasVnrArea', 'BsmtFinSF1', 'BsmtFinSF2', 'BsmtUnfSF', '1stFlrSF',\n",
    "                      '2ndFlrSF', 'LowQualFinSF', 'GrLivArea', 'BsmtFullBath', 'BsmtHalfBath', 'FullBath', 'HalfBath',\n",
    "                      'BedroomAbvGr', 'KitchenAbvGr', 'Fireplaces', 'GarageCars', 'WoodDeckSF',\n",
    "                      'OpenPorchSF', 'EnclosedPorch', '3SsnPorch', 'ScreenPorch', 'PoolArea', 'MiscVal']\n",
    "features_not_label_encode = ['YearBuilt', 'YearRemodAdd', 'MoSold', 'YrSold', 'GarageYrBlt','GarageYrBlt']"
   ]
  },
  {
   "cell_type": "code",
   "execution_count": 4,
   "metadata": {},
   "outputs": [],
   "source": [
    "# Join training and test dataframes for easy preprocessing\n",
    "#\n",
    "######################################\n",
    "Y = train_data[['Id', 'SalePrice']]\n",
    "all_data = pd.concat((train_data.drop(columns = ['SalePrice']), test_data))"
   ]
  },
  {
   "cell_type": "code",
   "execution_count": 5,
   "metadata": {},
   "outputs": [],
   "source": [
    "# Get and Split N/A faetures\n",
    "#\n",
    "######################################\n",
    "features_na = (all_data.isnull() == True).sum().sort_values(ascending = False)\n",
    "features_na = features_na[features_na > 0].index\n",
    "features_na_num = [x for x in features_na if x in features_numerical]\n",
    "features_na_cat = [x for x in features_na if x in features_categorical]"
   ]
  },
  {
   "cell_type": "code",
   "execution_count": 6,
   "metadata": {},
   "outputs": [],
   "source": [
    "# Fill NA\n",
    "#\n",
    "######################################\n",
    "all_data = all_data.drop(columns = features_to_drop)\n",
    "\n",
    "all_data['MSZoning'].fillna('RL')\n",
    "all_data['Functional'].fillna('Typ')\n",
    "all_data['Utilities'].fillna('AllPub')\n",
    "all_data['Electrical'].fillna('SBrkr')\n",
    "all_data['SaleType'].fillna('WD')\n",
    "all_data['KitchenQual'].fillna('TA')\n",
    "all_data['Exterior1st'].fillna('VinylSd')\n",
    "all_data['Exterior2nd'].fillna('VinylSd')\n",
    "\n",
    "all_data[features_not_label_encode] = all_data[features_not_label_encode].fillna(0)\n",
    "\n",
    "all_data[features_na_cat] = all_data[features_na_cat].fillna(\"None\")\n",
    "\n",
    "all_data['LotFrontage'] = all_data.groupby(\"Neighborhood\")[\"LotFrontage\"].transform(lambda col: \n",
    "                                                                                    col.fillna(col.dropna().median()))\n",
    "\n",
    "all_data[features_na_num] = all_data[features_na_num].fillna(0)\n"
   ]
  },
  {
   "cell_type": "code",
   "execution_count": 7,
   "metadata": {},
   "outputs": [],
   "source": [
    "# Log Transformation\n",
    "#\n",
    "#######################################\n",
    "Y['SalePrice'] = np.log1p(Y['SalePrice'])\n",
    "\n",
    "all_data[features_to_trans] = np.log1p(all_data[features_to_trans])"
   ]
  },
  {
   "cell_type": "code",
   "execution_count": 8,
   "metadata": {
    "scrolled": true
   },
   "outputs": [
    {
     "data": {
      "text/plain": [
       "(2919, 77)"
      ]
     },
     "execution_count": 8,
     "metadata": {},
     "output_type": "execute_result"
    }
   ],
   "source": [
    "all_data.shape"
   ]
  },
  {
   "cell_type": "code",
   "execution_count": 67,
   "metadata": {},
   "outputs": [],
   "source": [
    "# label encode features\n",
    "#\n",
    "##################################\n",
    "cols = ('FireplaceQu', 'BsmtQual', 'BsmtCond', 'GarageQual', 'GarageCond', \n",
    "        'ExterQual', 'ExterCond','HeatingQC', 'KitchenQual', 'BsmtFinType1', \n",
    "        'BsmtFinType2', 'Functional', 'Fence', 'BsmtExposure', 'GarageFinish', 'LandSlope',\n",
    "        'LotShape', 'PavedDrive', 'Alley', 'CentralAir', 'MSSubClass', 'OverallCond', \n",
    "        'YrSold', 'MoSold')\n",
    "\n",
    "for col in cols:\n",
    "    le = sklearn.preprocessing.LabelEncoder()\n",
    "    le.fit(list(all_data[col].values))\n",
    "    all_data[col] = le.transform(list(all_data[col].values))"
   ]
  },
  {
   "cell_type": "code",
   "execution_count": 103,
   "metadata": {},
   "outputs": [
    {
     "data": {
      "text/plain": [
       "(2919, 77)"
      ]
     },
     "execution_count": 103,
     "metadata": {},
     "output_type": "execute_result"
    }
   ],
   "source": [
    "all_data.shape"
   ]
  },
  {
   "cell_type": "code",
   "execution_count": 104,
   "metadata": {},
   "outputs": [
    {
     "data": {
      "text/plain": [
       "Index(['Id', 'MSSubClass', 'MSZoning', 'LotFrontage', 'LotArea', 'Street',\n",
       "       'Alley', 'LotShape', 'LandContour', 'Utilities', 'LotConfig',\n",
       "       'LandSlope', 'Neighborhood', 'Condition1', 'Condition2', 'BldgType',\n",
       "       'HouseStyle', 'OverallQual', 'OverallCond', 'YearBuilt', 'YearRemodAdd',\n",
       "       'RoofStyle', 'RoofMatl', 'Exterior1st', 'Exterior2nd', 'MasVnrType',\n",
       "       'MasVnrArea', 'ExterQual', 'ExterCond', 'Foundation', 'BsmtQual',\n",
       "       'BsmtCond', 'BsmtExposure', 'BsmtFinType1', 'BsmtFinSF1',\n",
       "       'BsmtFinType2', 'BsmtFinSF2', 'BsmtUnfSF', 'Heating', 'HeatingQC',\n",
       "       'CentralAir', 'Electrical', '1stFlrSF', '2ndFlrSF', 'LowQualFinSF',\n",
       "       'GrLivArea', 'BsmtFullBath', 'BsmtHalfBath', 'FullBath', 'HalfBath',\n",
       "       'BedroomAbvGr', 'KitchenAbvGr', 'KitchenQual', 'Functional',\n",
       "       'Fireplaces', 'FireplaceQu', 'GarageType', 'GarageYrBlt',\n",
       "       'GarageFinish', 'GarageCars', 'GarageQual', 'GarageCond', 'PavedDrive',\n",
       "       'WoodDeckSF', 'OpenPorchSF', 'EnclosedPorch', '3SsnPorch',\n",
       "       'ScreenPorch', 'PoolArea', 'PoolQC', 'Fence', 'MiscFeature', 'MiscVal',\n",
       "       'MoSold', 'YrSold', 'SaleType', 'SaleCondition'],\n",
       "      dtype='object')"
      ]
     },
     "execution_count": 104,
     "metadata": {},
     "output_type": "execute_result"
    }
   ],
   "source": [
    "all_data.columns"
   ]
  },
  {
   "cell_type": "code",
   "execution_count": 9,
   "metadata": {},
   "outputs": [],
   "source": [
    "###### assign dummy variable\n",
    "#\n",
    "#######################################\n",
    "\n",
    "all_data_dum = pd.get_dummies(all_data.drop('Id', axis = 1))"
   ]
  },
  {
   "cell_type": "code",
   "execution_count": 10,
   "metadata": {},
   "outputs": [
    {
     "data": {
      "text/plain": [
       "(2919, 307)"
      ]
     },
     "execution_count": 10,
     "metadata": {},
     "output_type": "execute_result"
    }
   ],
   "source": [
    "all_data_dum.shape"
   ]
  },
  {
   "cell_type": "code",
   "execution_count": 11,
   "metadata": {},
   "outputs": [
    {
     "name": "stdout",
     "output_type": "stream",
     "text": [
      "Index(['MSSubClass', 'LotFrontage', 'LotArea', 'OverallQual', 'OverallCond',\n",
      "       'YearBuilt', 'YearRemodAdd', 'MasVnrArea', 'BsmtFinSF1', 'BsmtFinSF2',\n",
      "       ...\n",
      "       'SaleType_New', 'SaleType_None', 'SaleType_Oth', 'SaleType_WD',\n",
      "       'SaleCondition_Abnorml', 'SaleCondition_AdjLand',\n",
      "       'SaleCondition_Alloca', 'SaleCondition_Family', 'SaleCondition_Normal',\n",
      "       'SaleCondition_Partial'],\n",
      "      dtype='object', length=307)\n"
     ]
    }
   ],
   "source": [
    "print(all_data_dum.columns)"
   ]
  },
  {
   "cell_type": "code",
   "execution_count": 12,
   "metadata": {
    "scrolled": true
   },
   "outputs": [],
   "source": [
    "# Convert Fake numerical Features to strings\n",
    "# \n",
    "#######################################\n",
    "# all_data_dum[['OverallQual', 'OverallCond', 'YearBuilt', 'MSSubClass']] = all_data_dum[\n",
    "#     ['OverallQual', 'OverallCond', 'YearBuilt', 'MSSubClass']].astype(str)"
   ]
  },
  {
   "cell_type": "code",
   "execution_count": 13,
   "metadata": {},
   "outputs": [],
   "source": [
    "# Randomise data\n",
    "# \n",
    "all_data_dum = all_data_dum.sample(frac = 1).reset_index(drop = True)"
   ]
  },
  {
   "cell_type": "code",
   "execution_count": 14,
   "metadata": {},
   "outputs": [],
   "source": [
    "# get training_data\n",
    "#\n",
    "###################\n",
    "training_data = all_data_dum[:len(train_data)]"
   ]
  },
  {
   "cell_type": "code",
   "execution_count": 15,
   "metadata": {},
   "outputs": [],
   "source": [
    "def rmsError(x, y):\n",
    "    return np.sqrt(np.sum(np.power(x - y, 2)) / len(x))"
   ]
  },
  {
   "cell_type": "code",
   "execution_count": 16,
   "metadata": {},
   "outputs": [],
   "source": [
    "from sklearn import linear_model"
   ]
  },
  {
   "cell_type": "code",
   "execution_count": 17,
   "metadata": {},
   "outputs": [],
   "source": [
    "training_set = training_data[ : -400]\n",
    "Y_training_set = Y['SalePrice'][ : -400]\n",
    "cv_set = training_data[-400 : ]\n",
    "Y_cv_set = Y['SalePrice'][-400 : ]"
   ]
  },
  {
   "cell_type": "markdown",
   "metadata": {},
   "source": [
    "Linear regression"
   ]
  },
  {
   "cell_type": "code",
   "execution_count": 18,
   "metadata": {},
   "outputs": [
    {
     "name": "stdout",
     "output_type": "stream",
     "text": [
      "training error =\t 0.3622073785857164\n",
      "cv error =\t\t 0.43752540207660645\n"
     ]
    }
   ],
   "source": [
    "# test 1 : no regression, intercept calculation, no normalization\n",
    "#\n",
    "######################\n",
    "test_model_1 = sklearn.linear_model.LinearRegression(copy_X = True, normalize = False)\n",
    "test_model_1.fit(training_set, Y_training_set)\n",
    "print(\"training error =\\t\", rmsError(test_model_1.predict(training_set), Y_training_set))\n",
    "print(\"cv error =\\t\\t\", rmsError(Y_cv_set, test_model_1.predict(cv_set)))"
   ]
  },
  {
   "cell_type": "code",
   "execution_count": 115,
   "metadata": {},
   "outputs": [
    {
     "name": "stdout",
     "output_type": "stream",
     "text": [
      "training error =\t 0.36027226380280963\n",
      "cv error =\t\t 2164481128751.8142\n"
     ]
    }
   ],
   "source": [
    "# test 3 : no regression, intercept calculation, normalization\n",
    "#\n",
    "######################\n",
    "test_model_3 = sklearn.linear_model.LinearRegression(copy_X = True, normalize = True)\n",
    "test_model_3.fit(training_set, Y_training_set)\n",
    "print(\"training error =\\t\", rmsError(test_model_3.predict(training_set), Y_training_set))\n",
    "print(\"cv error =\\t\\t\", rmsError(Y_cv_set, test_model_3.predict(cv_set)))"
   ]
  },
  {
   "cell_type": "code",
   "execution_count": 116,
   "metadata": {},
   "outputs": [
    {
     "name": "stdout",
     "output_type": "stream",
     "text": [
      "training error =\t 0.3601399449902741\n",
      "cv error =\t\t 0.48838198562002516\n"
     ]
    }
   ],
   "source": [
    "# test 2 : no regression, no intercept calculation, no normalization\n",
    "#\n",
    "######################\n",
    "test_model_2 = sklearn.linear_model.LinearRegression(copy_X = True, fit_intercept=False)\n",
    "test_model_2.fit(training_set, Y_training_set)\n",
    "print(\"training error =\\t\", rmsError(test_model_2.predict(training_set), Y_training_set))\n",
    "print(\"cv error =\\t\\t\", rmsError(Y_cv_set, test_model_2.predict(cv_set)))"
   ]
  },
  {
   "cell_type": "markdown",
   "metadata": {},
   "source": [
    "Ridge regression"
   ]
  },
  {
   "cell_type": "code",
   "execution_count": 117,
   "metadata": {},
   "outputs": [
    {
     "name": "stdout",
     "output_type": "stream",
     "text": [
      "training error =\t 0.388632676278908\n",
      "cv error =\t\t 0.3906191978804503\n"
     ]
    }
   ],
   "source": [
    "# Test 4 : \n",
    "#\n",
    "############################\n",
    "test_model_4 = sklearn.linear_model.Ridge(copy_X = True, fit_intercept = True, alpha = 110, tol = 0.000000001, max_iter = 10000000)\n",
    "test_model_4.fit(training_set, Y_training_set)\n",
    "print(\"training error =\\t\", rmsError(test_model_4.predict(training_set), Y_training_set))\n",
    "print(\"cv error =\\t\\t\", rmsError(Y_cv_set, test_model_4.predict(cv_set)))"
   ]
  },
  {
   "cell_type": "code",
   "execution_count": 124,
   "metadata": {},
   "outputs": [],
   "source": [
    "ar = []\n",
    "ar2 = []\n",
    "indices = []\n",
    "for i in range(1, 2000, 20):\n",
    "    alpha = i * .1\n",
    "#     alpha = (alpha * 1000) / 1000\n",
    "    test_model_41 = sklearn.linear_model.Ridge(copy_X = True, fit_intercept = False, alpha = alpha, max_iter = 1000)\n",
    "    test_model_41.fit(training_set, Y_training_set)\n",
    "    ar.append(rmsError(test_model_41.predict(training_set), Y_training_set))\n",
    "    ar2.append(rmsError(Y_cv_set, test_model_41.predict(cv_set)))\n",
    "    indices.append(str(alpha)[:5])"
   ]
  },
  {
   "cell_type": "code",
   "execution_count": 126,
   "metadata": {},
   "outputs": [
    {
     "data": {
      "text/plain": [
       "(array([ 0,  1,  2,  3,  4,  5,  6,  7,  8,  9, 10, 11, 12, 13, 14, 15, 16,\n",
       "        17, 18, 19, 20, 21, 22, 23, 24, 25, 26, 27, 28, 29, 30, 31, 32, 33,\n",
       "        34, 35, 36, 37, 38, 39, 40, 41, 42, 43, 44, 45, 46, 47, 48, 49, 50,\n",
       "        51, 52, 53, 54, 55, 56, 57, 58, 59, 60, 61, 62, 63, 64, 65, 66, 67,\n",
       "        68, 69, 70, 71, 72, 73, 74, 75, 76, 77, 78, 79, 80, 81, 82, 83, 84,\n",
       "        85, 86, 87, 88, 89, 90, 91, 92, 93, 94, 95, 96, 97, 98, 99]),\n",
       " <a list of 100 Text xticklabel objects>)"
      ]
     },
     "execution_count": 126,
     "metadata": {},
     "output_type": "execute_result"
    },
    {
     "data": {
      "image/png": "[encoded data removed]",
      "text/plain": [
       "<Figure size 432x288 with 1 Axes>"
      ]
     },
     "metadata": {
      "needs_background": "light"
     },
     "output_type": "display_data"
    }
   ],
   "source": [
    "fig = sns.pointplot(indices, ar, color = 'red', legend = True)\n",
    "fig = sns.pointplot(indices, ar2)\n",
    "fig.set(xlabel = 'alpha', ylabel = 'rms error')\n",
    "plt.xticks(rotation = 90)\n",
    "#fig.get_figure().savefig('../images/ridge_alpha.png')"
   ]
  },
  {
   "cell_type": "code",
   "execution_count": 127,
   "metadata": {},
   "outputs": [
    {
     "name": "stdout",
     "output_type": "stream",
     "text": [
      "training error =\t 0.3926762235274348\n",
      "cv error =\t\t 0.3878056600263073\n"
     ]
    }
   ],
   "source": [
    "test_model_42 = sklearn.linear_model.RidgeCV(fit_intercept = True, cv = 6, alphas = [1, 2.2, 2.3, 2.4, 2.5, 2.6, 2.7, 2.8, 2.9, 3, 4, 10, 60, 100, 200])\n",
    "test_model_42.fit(training_set, Y_training_set)\n",
    "print(\"training error =\\t\", rmsError(test_model_42.predict(training_set), Y_training_set))\n",
    "print(\"cv error =\\t\\t\", rmsError(Y_cv_set, test_model_42.predict(cv_set)))"
   ]
  },
  {
   "cell_type": "code",
   "execution_count": 128,
   "metadata": {},
   "outputs": [
    {
     "data": {
      "text/plain": [
       "200"
      ]
     },
     "execution_count": 128,
     "metadata": {},
     "output_type": "execute_result"
    }
   ],
   "source": [
    "test_model_42.alpha_"
   ]
  },
  {
   "cell_type": "code",
   "execution_count": 128,
   "metadata": {},
   "outputs": [],
   "source": [
    "ar = []\n",
    "ar2 = []\n",
    "indices = []\n",
    "for i in range(100, len(training_set), 50):\n",
    "#     alpha = i*.1\n",
    "    test_model_43= sklearn.linear_model.Ridge(copy_X = True, fit_intercept = False, alpha = 2.4, max_iter = 10000000)\n",
    "    test_model_43.fit(training_set[ : i], Y_training_set[ : i])\n",
    "    ar.append(rmsError(test_model_43.predict(training_set), Y_training_set))\n",
    "    ar2.append(rmsError(Y_cv_set, test_model_43.predict(cv_set)))\n",
    "    indices.append(i)"
   ]
  },
  {
   "cell_type": "code",
   "execution_count": 129,
   "metadata": {},
   "outputs": [
    {
     "data": {
      "image/png": "[encoded data removed]",
      "text/plain": [
       "<Figure size 432x288 with 1 Axes>"
      ]
     },
     "metadata": {
      "needs_background": "light"
     },
     "output_type": "display_data"
    }
   ],
   "source": [
    "fig = sns.pointplot(indices, ar, color = 'red')\n",
    "fig = sns.pointplot(indices, ar2)\n",
    "plt.xticks(rotation = 90)\n",
    "fig.set(xlabel = 'samples', ylabel = 'rms error')\n",
    "# fig.get_figure().savefig( '../images/ridge_m.png', dpi = 1000)"
   ]
  },
  {
   "cell_type": "code",
   "execution_count": null,
   "metadata": {},
   "outputs": [],
   "source": []
  },
  {
   "cell_type": "code",
   "execution_count": 131,
   "metadata": {},
   "outputs": [
    {
     "name": "stdout",
     "output_type": "stream",
     "text": [
      "training error =\t 0.40599112886338273\n",
      "cv error =\t\t 0.38144205140805987\n"
     ]
    }
   ],
   "source": [
    "# Lasso test\n",
    "#\n",
    "############################\n",
    "test_model_5 = sklearn.linear_model.Lasso(copy_X = True, max_iter = 100000, fit_intercept = False, alpha = 0.03)\n",
    "test_model_5.fit(training_set, Y_training_set)\n",
    "print(\"training error =\\t\", rmsError(test_model_5.predict(training_set), Y_training_set))\n",
    "print(\"cv error =\\t\\t\", rmsError(Y_cv_set, test_model_5.predict(cv_set)))\n",
    "# print(\"alpha = \", test_model_5.alpha_)"
   ]
  },
  {
   "cell_type": "code",
   "execution_count": 129,
   "metadata": {},
   "outputs": [],
   "source": [
    "ar = []\n",
    "ar2 = []\n",
    "indices = []\n",
    "for i in range(1, 2000, 100):\n",
    "    alpha = i * .0001\n",
    "#     alpha = (alpha * 1000) / 1000\n",
    "    test_model_51 = sklearn.linear_model.Lasso(copy_X = True, fit_intercept = False, alpha = alpha, max_iter = 1000)\n",
    "    test_model_51.fit(training_set, Y_training_set)\n",
    "    ar.append(rmsError(test_model_51.predict(training_set), Y_training_set))\n",
    "    ar2.append(rmsError(Y_cv_set, test_model_51.predict(cv_set)))\n",
    "    indices.append(str(alpha)[:6])"
   ]
  },
  {
   "cell_type": "code",
   "execution_count": 130,
   "metadata": {},
   "outputs": [
    {
     "data": {
      "text/plain": [
       "[Text(0,0.5,'rms error'), Text(0.5,0,'alpha')]"
      ]
     },
     "execution_count": 130,
     "metadata": {},
     "output_type": "execute_result"
    },
    {
     "data": {
      "image/png": "[encoded data removed]",
      "text/plain": [
       "<Figure size 432x288 with 1 Axes>"
      ]
     },
     "metadata": {
      "needs_background": "light"
     },
     "output_type": "display_data"
    }
   ],
   "source": [
    "fig = sns.pointplot(indices, ar, color = 'red')\n",
    "fig = sns.pointplot(indices, ar2)\n",
    "plt.xticks(rotation = 90)\n",
    "fig.set(xlabel = 'alpha', ylabel = 'rms error')\n",
    "# fig.get_figure().savefig('../images/lasso_alpha.png', dpi = 1000)"
   ]
  },
  {
   "cell_type": "code",
   "execution_count": 134,
   "metadata": {},
   "outputs": [],
   "source": [
    "ar = []\n",
    "ar2 = []\n",
    "indices = []\n",
    "for i in range(100, len(training_set), 50):\n",
    "#     alpha = i*.1\n",
    "    test_model_53= sklearn.linear_model.Lasso(copy_X = True, fit_intercept = False, alpha = 0.0029, max_iter = 10000000)\n",
    "    test_model_53.fit(training_set[ : i], Y_training_set[ : i])\n",
    "    ar.append(rmsError(test_model_53.predict(training_set), Y_training_set))\n",
    "    ar2.append(rmsError(Y_cv_set, test_model_53.predict(cv_set)))\n",
    "    indices.append(i)"
   ]
  },
  {
   "cell_type": "code",
   "execution_count": 135,
   "metadata": {},
   "outputs": [
    {
     "data": {
      "image/png": "[encoded data removed]",
      "text/plain": [
       "<Figure size 432x288 with 1 Axes>"
      ]
     },
     "metadata": {
      "needs_background": "light"
     },
     "output_type": "display_data"
    }
   ],
   "source": [
    "fig = sns.pointplot(indices, ar, color = 'red')\n",
    "fig = sns.pointplot(indices, ar2)\n",
    "plt.xticks(rotation = 90)\n",
    "fig.set(xlabel = 'samples', ylabel = 'rms error')\n",
    "fig.get_figure().savefig('../images/lasso_m.png', dpi = 500)"
   ]
  },
  {
   "cell_type": "code",
   "execution_count": 210,
   "metadata": {},
   "outputs": [
    {
     "name": "stdout",
     "output_type": "stream",
     "text": [
      "training error =\t 0.4671477246410791\n",
      "cv error =\t\t 0.4581912442461517\n"
     ]
    }
   ],
   "source": [
    "# Elastic Net\n",
    "#\n",
    "########################################\n",
    "test_model_6 = sklearn.linear_model.ElasticNet(copy_X = True, fit_intercept = False, max_iter = 1000000, alpha = 0.1, l1_ratio = 0.12)\n",
    "test_model_6.fit(training_set, Y_training_set)\n",
    "print(\"training error =\\t\", rmsError(test_model_6.predict(training_set), Y_training_set))\n",
    "print(\"cv error =\\t\\t\", rmsError(Y_cv_set, test_model_6.predict(cv_set))) "
   ]
  },
  {
   "cell_type": "code",
   "execution_count": 203,
   "metadata": {},
   "outputs": [],
   "source": [
    "minar = []\n",
    "ratios = []\n",
    "for r in range(1, 200, 5):\n",
    "#     print(r)\n",
    "#     ratio = r * .01\n",
    "    ratio = 0.10 + r * 0.001\n",
    "    ar = []\n",
    "    ar2 = []\n",
    "    indices = []\n",
    "    for i in range(1, 50000, 500):\n",
    "        alpha = i * .0001\n",
    "        test_model_61 = sklearn.linear_model.ElasticNet(copy_X = True, fit_intercept = False, alpha = alpha, l1_ratio = ratio)    \n",
    "        test_model_61.fit(training_set, Y_training_set)\n",
    "        ar.append(rmsError(test_model_61.predict(training_set), Y_training_set))\n",
    "        ar2.append(rmsError(Y_cv_set, test_model_61.predict(cv_set)))\n",
    "        indices.append(str(alpha)[:6])\n",
    "    minar.append(np.min(ar2))\n",
    "    ratios.append(str(ratio)[:4])"
   ]
  },
  {
   "cell_type": "code",
   "execution_count": 204,
   "metadata": {},
   "outputs": [
    {
     "data": {
      "image/png": "[encoded data removed]",
      "text/plain": [
       "<Figure size 432x288 with 1 Axes>"
      ]
     },
     "metadata": {
      "needs_background": "light"
     },
     "output_type": "display_data"
    }
   ],
   "source": [
    "figg = sns.pointplot(x = ratios, y = minar, color = 'green')\n",
    "plt.xticks(rotation = 90)\n",
    "figg.set(xlabel = 'ratio', ylabel = 'min(error)')\n",
    "# figg.get_figure().savefig('../images/elastic_ratio2.png', dpi = 500)"
   ]
  },
  {
   "cell_type": "code",
   "execution_count": 207,
   "metadata": {},
   "outputs": [],
   "source": [
    "ar = []\n",
    "ar2 = []\n",
    "indices = []\n",
    "for i in range(1, 2500, 100):\n",
    "    alpha = i * .0001\n",
    "    test_model_61 = sklearn.linear_model.ElasticNet(copy_X = True, fit_intercept = False, alpha = alpha, l1_ratio = 0.12)    \n",
    "    test_model_61.fit(training_set, Y_training_set)\n",
    "    ar.append(rmsError(test_model_61.predict(training_set), Y_training_set))\n",
    "    ar2.append(rmsError(Y_cv_set, test_model_61.predict(cv_set)))\n",
    "    indices.append(str(alpha)[:6])"
   ]
  },
  {
   "cell_type": "code",
   "execution_count": 209,
   "metadata": {
    "scrolled": true
   },
   "outputs": [
    {
     "data": {
      "image/png": "[encoded data removed]",
      "text/plain": [
       "<Figure size 432x288 with 1 Axes>"
      ]
     },
     "metadata": {
      "needs_background": "light"
     },
     "output_type": "display_data"
    }
   ],
   "source": [
    "fig = sns.pointplot(indices, ar, color = 'red')\n",
    "fig = sns.pointplot(indices, ar2)\n",
    "plt.xticks(rotation = 90)\n",
    "fig.set(xlabel = 'alpha', ylabel = 'rms error')\n",
    "# fig.get_figure().savefig('../images/elastic_alpha.png', dpi = 500)\n",
    "# print(\"min = \", np.min(ar2))"
   ]
  },
  {
   "cell_type": "code",
   "execution_count": 164,
   "metadata": {},
   "outputs": [
    {
     "name": "stdout",
     "output_type": "stream",
     "text": [
      "min =  0.4219056765028322\n"
     ]
    },
    {
     "data": {
      "image/png": "[encoded data removed]",
      "text/plain": [
       "<Figure size 432x288 with 1 Axes>"
      ]
     },
     "metadata": {
      "needs_background": "light"
     },
     "output_type": "display_data"
    }
   ],
   "source": [
    "fig = sns.pointplot(indices, ar, color = 'red')\n",
    "fig = sns.pointplot(indices, ar2)\n",
    "plt.xticks(rotation = 90)\n",
    "fig.set(xlabel = 'alpha', ylabel = 'rms error')\n",
    "# fig.get_figure().savefig('../images/elastic_alpha.png', dpi = 500)\n",
    "print(\"min = \", np.min(ar2))"
   ]
  },
  {
   "cell_type": "code",
   "execution_count": 212,
   "metadata": {},
   "outputs": [
    {
     "name": "stdout",
     "output_type": "stream",
     "text": [
      "training error =\t 0.4258412892993831\n",
      "cv error =\t\t 0.4094112031734413\n"
     ]
    }
   ],
   "source": [
    "test_model_8 = sklearn.linear_model.Lasso(copy_X = True, max_iter = 100000, fit_intercept = False, alpha = 0.0029)\n",
    "test_model_8.fit(training_data, Y['SalePrice'])\n",
    "print(\"training error =\\t\", rmsError(test_model_8.predict(training_data), Y['SalePrice']))\n",
    "print(\"cv error =\\t\\t\", rmsError(Y_cv_set, test_model_8.predict(cv_set)))\n",
    "# print(\"alpha = \", test_model_8.alpha_)"
   ]
  },
  {
   "cell_type": "code",
   "execution_count": 217,
   "metadata": {},
   "outputs": [],
   "source": [
    "temp = pd.DataFrame()\n",
    "temp['Id'] = test_data['Id']"
   ]
  },
  {
   "cell_type": "code",
   "execution_count": 218,
   "metadata": {},
   "outputs": [],
   "source": [
    "temp['SalePrice'] = pd.DataFrame(np.expm1(test_model_8.predict(all_data_dum[len(train_data) : ])))"
   ]
  },
  {
   "cell_type": "code",
   "execution_count": 219,
   "metadata": {},
   "outputs": [
    {
     "data": {
      "text/html": [
       "<div>\n",
       "<style scoped>\n",
       "    .dataframe tbody tr th:only-of-type {\n",
       "        vertical-align: middle;\n",
       "    }\n",
       "\n",
       "    .dataframe tbody tr th {\n",
       "        vertical-align: top;\n",
       "    }\n",
       "\n",
       "    .dataframe thead th {\n",
       "        text-align: right;\n",
       "    }\n",
       "</style>\n",
       "<table border=\"1\" class=\"dataframe\">\n",
       "  <thead>\n",
       "    <tr style=\"text-align: right;\">\n",
       "      <th></th>\n",
       "      <th>Id</th>\n",
       "      <th>SalePrice</th>\n",
       "    </tr>\n",
       "  </thead>\n",
       "  <tbody>\n",
       "    <tr>\n",
       "      <th>0</th>\n",
       "      <td>1461</td>\n",
       "      <td>166237.800574</td>\n",
       "    </tr>\n",
       "    <tr>\n",
       "      <th>1</th>\n",
       "      <td>1462</td>\n",
       "      <td>154465.781203</td>\n",
       "    </tr>\n",
       "    <tr>\n",
       "      <th>2</th>\n",
       "      <td>1463</td>\n",
       "      <td>164415.864123</td>\n",
       "    </tr>\n",
       "    <tr>\n",
       "      <th>3</th>\n",
       "      <td>1464</td>\n",
       "      <td>166964.500849</td>\n",
       "    </tr>\n",
       "    <tr>\n",
       "      <th>4</th>\n",
       "      <td>1465</td>\n",
       "      <td>171406.631705</td>\n",
       "    </tr>\n",
       "    <tr>\n",
       "      <th>5</th>\n",
       "      <td>1466</td>\n",
       "      <td>152017.018011</td>\n",
       "    </tr>\n",
       "    <tr>\n",
       "      <th>6</th>\n",
       "      <td>1467</td>\n",
       "      <td>159842.962153</td>\n",
       "    </tr>\n",
       "    <tr>\n",
       "      <th>7</th>\n",
       "      <td>1468</td>\n",
       "      <td>168299.009975</td>\n",
       "    </tr>\n",
       "    <tr>\n",
       "      <th>8</th>\n",
       "      <td>1469</td>\n",
       "      <td>163458.575946</td>\n",
       "    </tr>\n",
       "    <tr>\n",
       "      <th>9</th>\n",
       "      <td>1470</td>\n",
       "      <td>166691.080581</td>\n",
       "    </tr>\n",
       "    <tr>\n",
       "      <th>10</th>\n",
       "      <td>1471</td>\n",
       "      <td>167051.757422</td>\n",
       "    </tr>\n",
       "    <tr>\n",
       "      <th>11</th>\n",
       "      <td>1472</td>\n",
       "      <td>190254.947276</td>\n",
       "    </tr>\n",
       "    <tr>\n",
       "      <th>12</th>\n",
       "      <td>1473</td>\n",
       "      <td>176930.659580</td>\n",
       "    </tr>\n",
       "    <tr>\n",
       "      <th>13</th>\n",
       "      <td>1474</td>\n",
       "      <td>218071.440675</td>\n",
       "    </tr>\n",
       "    <tr>\n",
       "      <th>14</th>\n",
       "      <td>1475</td>\n",
       "      <td>204282.039686</td>\n",
       "    </tr>\n",
       "    <tr>\n",
       "      <th>15</th>\n",
       "      <td>1476</td>\n",
       "      <td>183085.012595</td>\n",
       "    </tr>\n",
       "    <tr>\n",
       "      <th>16</th>\n",
       "      <td>1477</td>\n",
       "      <td>141502.781222</td>\n",
       "    </tr>\n",
       "    <tr>\n",
       "      <th>17</th>\n",
       "      <td>1478</td>\n",
       "      <td>204216.255065</td>\n",
       "    </tr>\n",
       "    <tr>\n",
       "      <th>18</th>\n",
       "      <td>1479</td>\n",
       "      <td>174333.862545</td>\n",
       "    </tr>\n",
       "    <tr>\n",
       "      <th>19</th>\n",
       "      <td>1480</td>\n",
       "      <td>218617.713974</td>\n",
       "    </tr>\n",
       "    <tr>\n",
       "      <th>20</th>\n",
       "      <td>1481</td>\n",
       "      <td>173327.354241</td>\n",
       "    </tr>\n",
       "    <tr>\n",
       "      <th>21</th>\n",
       "      <td>1482</td>\n",
       "      <td>172168.553599</td>\n",
       "    </tr>\n",
       "    <tr>\n",
       "      <th>22</th>\n",
       "      <td>1483</td>\n",
       "      <td>131424.977745</td>\n",
       "    </tr>\n",
       "    <tr>\n",
       "      <th>23</th>\n",
       "      <td>1484</td>\n",
       "      <td>145215.135873</td>\n",
       "    </tr>\n",
       "    <tr>\n",
       "      <th>24</th>\n",
       "      <td>1485</td>\n",
       "      <td>182169.354912</td>\n",
       "    </tr>\n",
       "    <tr>\n",
       "      <th>25</th>\n",
       "      <td>1486</td>\n",
       "      <td>163548.060309</td>\n",
       "    </tr>\n",
       "    <tr>\n",
       "      <th>26</th>\n",
       "      <td>1487</td>\n",
       "      <td>162609.260316</td>\n",
       "    </tr>\n",
       "    <tr>\n",
       "      <th>27</th>\n",
       "      <td>1488</td>\n",
       "      <td>220478.990290</td>\n",
       "    </tr>\n",
       "    <tr>\n",
       "      <th>28</th>\n",
       "      <td>1489</td>\n",
       "      <td>135481.738069</td>\n",
       "    </tr>\n",
       "    <tr>\n",
       "      <th>29</th>\n",
       "      <td>1490</td>\n",
       "      <td>174528.378360</td>\n",
       "    </tr>\n",
       "    <tr>\n",
       "      <th>...</th>\n",
       "      <td>...</td>\n",
       "      <td>...</td>\n",
       "    </tr>\n",
       "    <tr>\n",
       "      <th>1429</th>\n",
       "      <td>2890</td>\n",
       "      <td>151795.132653</td>\n",
       "    </tr>\n",
       "    <tr>\n",
       "      <th>1430</th>\n",
       "      <td>2891</td>\n",
       "      <td>132711.112273</td>\n",
       "    </tr>\n",
       "    <tr>\n",
       "      <th>1431</th>\n",
       "      <td>2892</td>\n",
       "      <td>163477.423407</td>\n",
       "    </tr>\n",
       "    <tr>\n",
       "      <th>1432</th>\n",
       "      <td>2893</td>\n",
       "      <td>155745.438543</td>\n",
       "    </tr>\n",
       "    <tr>\n",
       "      <th>1433</th>\n",
       "      <td>2894</td>\n",
       "      <td>145944.113097</td>\n",
       "    </tr>\n",
       "    <tr>\n",
       "      <th>1434</th>\n",
       "      <td>2895</td>\n",
       "      <td>189502.405374</td>\n",
       "    </tr>\n",
       "    <tr>\n",
       "      <th>1435</th>\n",
       "      <td>2896</td>\n",
       "      <td>196880.257442</td>\n",
       "    </tr>\n",
       "    <tr>\n",
       "      <th>1436</th>\n",
       "      <td>2897</td>\n",
       "      <td>158372.416154</td>\n",
       "    </tr>\n",
       "    <tr>\n",
       "      <th>1437</th>\n",
       "      <td>2898</td>\n",
       "      <td>157841.445685</td>\n",
       "    </tr>\n",
       "    <tr>\n",
       "      <th>1438</th>\n",
       "      <td>2899</td>\n",
       "      <td>130766.834787</td>\n",
       "    </tr>\n",
       "    <tr>\n",
       "      <th>1439</th>\n",
       "      <td>2900</td>\n",
       "      <td>78784.764437</td>\n",
       "    </tr>\n",
       "    <tr>\n",
       "      <th>1440</th>\n",
       "      <td>2901</td>\n",
       "      <td>149419.012805</td>\n",
       "    </tr>\n",
       "    <tr>\n",
       "      <th>1441</th>\n",
       "      <td>2902</td>\n",
       "      <td>112411.296706</td>\n",
       "    </tr>\n",
       "    <tr>\n",
       "      <th>1442</th>\n",
       "      <td>2903</td>\n",
       "      <td>193421.826760</td>\n",
       "    </tr>\n",
       "    <tr>\n",
       "      <th>1443</th>\n",
       "      <td>2904</td>\n",
       "      <td>218701.299595</td>\n",
       "    </tr>\n",
       "    <tr>\n",
       "      <th>1444</th>\n",
       "      <td>2905</td>\n",
       "      <td>210471.586618</td>\n",
       "    </tr>\n",
       "    <tr>\n",
       "      <th>1445</th>\n",
       "      <td>2906</td>\n",
       "      <td>122544.399556</td>\n",
       "    </tr>\n",
       "    <tr>\n",
       "      <th>1446</th>\n",
       "      <td>2907</td>\n",
       "      <td>163617.088329</td>\n",
       "    </tr>\n",
       "    <tr>\n",
       "      <th>1447</th>\n",
       "      <td>2908</td>\n",
       "      <td>148538.132537</td>\n",
       "    </tr>\n",
       "    <tr>\n",
       "      <th>1448</th>\n",
       "      <td>2909</td>\n",
       "      <td>147749.141706</td>\n",
       "    </tr>\n",
       "    <tr>\n",
       "      <th>1449</th>\n",
       "      <td>2910</td>\n",
       "      <td>159807.085091</td>\n",
       "    </tr>\n",
       "    <tr>\n",
       "      <th>1450</th>\n",
       "      <td>2911</td>\n",
       "      <td>168352.559457</td>\n",
       "    </tr>\n",
       "    <tr>\n",
       "      <th>1451</th>\n",
       "      <td>2912</td>\n",
       "      <td>161721.136366</td>\n",
       "    </tr>\n",
       "    <tr>\n",
       "      <th>1452</th>\n",
       "      <td>2913</td>\n",
       "      <td>152941.699439</td>\n",
       "    </tr>\n",
       "    <tr>\n",
       "      <th>1453</th>\n",
       "      <td>2914</td>\n",
       "      <td>152977.628032</td>\n",
       "    </tr>\n",
       "    <tr>\n",
       "      <th>1454</th>\n",
       "      <td>2915</td>\n",
       "      <td>155991.287598</td>\n",
       "    </tr>\n",
       "    <tr>\n",
       "      <th>1455</th>\n",
       "      <td>2916</td>\n",
       "      <td>169835.627583</td>\n",
       "    </tr>\n",
       "    <tr>\n",
       "      <th>1456</th>\n",
       "      <td>2917</td>\n",
       "      <td>179024.563032</td>\n",
       "    </tr>\n",
       "    <tr>\n",
       "      <th>1457</th>\n",
       "      <td>2918</td>\n",
       "      <td>169582.185707</td>\n",
       "    </tr>\n",
       "    <tr>\n",
       "      <th>1458</th>\n",
       "      <td>2919</td>\n",
       "      <td>179101.194213</td>\n",
       "    </tr>\n",
       "  </tbody>\n",
       "</table>\n",
       "<p>1459 rows × 2 columns</p>\n",
       "</div>"
      ],
      "text/plain": [
       "        Id      SalePrice\n",
       "0     1461  166237.800574\n",
       "1     1462  154465.781203\n",
       "2     1463  164415.864123\n",
       "3     1464  166964.500849\n",
       "4     1465  171406.631705\n",
       "5     1466  152017.018011\n",
       "6     1467  159842.962153\n",
       "7     1468  168299.009975\n",
       "8     1469  163458.575946\n",
       "9     1470  166691.080581\n",
       "10    1471  167051.757422\n",
       "11    1472  190254.947276\n",
       "12    1473  176930.659580\n",
       "13    1474  218071.440675\n",
       "14    1475  204282.039686\n",
       "15    1476  183085.012595\n",
       "16    1477  141502.781222\n",
       "17    1478  204216.255065\n",
       "18    1479  174333.862545\n",
       "19    1480  218617.713974\n",
       "20    1481  173327.354241\n",
       "21    1482  172168.553599\n",
       "22    1483  131424.977745\n",
       "23    1484  145215.135873\n",
       "24    1485  182169.354912\n",
       "25    1486  163548.060309\n",
       "26    1487  162609.260316\n",
       "27    1488  220478.990290\n",
       "28    1489  135481.738069\n",
       "29    1490  174528.378360\n",
       "...    ...            ...\n",
       "1429  2890  151795.132653\n",
       "1430  2891  132711.112273\n",
       "1431  2892  163477.423407\n",
       "1432  2893  155745.438543\n",
       "1433  2894  145944.113097\n",
       "1434  2895  189502.405374\n",
       "1435  2896  196880.257442\n",
       "1436  2897  158372.416154\n",
       "1437  2898  157841.445685\n",
       "1438  2899  130766.834787\n",
       "1439  2900   78784.764437\n",
       "1440  2901  149419.012805\n",
       "1441  2902  112411.296706\n",
       "1442  2903  193421.826760\n",
       "1443  2904  218701.299595\n",
       "1444  2905  210471.586618\n",
       "1445  2906  122544.399556\n",
       "1446  2907  163617.088329\n",
       "1447  2908  148538.132537\n",
       "1448  2909  147749.141706\n",
       "1449  2910  159807.085091\n",
       "1450  2911  168352.559457\n",
       "1451  2912  161721.136366\n",
       "1452  2913  152941.699439\n",
       "1453  2914  152977.628032\n",
       "1454  2915  155991.287598\n",
       "1455  2916  169835.627583\n",
       "1456  2917  179024.563032\n",
       "1457  2918  169582.185707\n",
       "1458  2919  179101.194213\n",
       "\n",
       "[1459 rows x 2 columns]"
      ]
     },
     "execution_count": 219,
     "metadata": {},
     "output_type": "execute_result"
    }
   ],
   "source": [
    "temp"
   ]
  },
  {
   "cell_type": "code",
   "execution_count": 220,
   "metadata": {},
   "outputs": [],
   "source": [
    "temp.to_csv('../Output/out.csv', index = False)"
   ]
  },
  {
   "cell_type": "code",
   "execution_count": null,
   "metadata": {},
   "outputs": [],
   "source": []
  }
 ],
 "metadata": {
  "kernelspec": {
   "display_name": "Python 3",
   "language": "python",
   "name": "python3"
  },
  "language_info": {
   "codemirror_mode": {
    "name": "ipython",
    "version": 3
   },
   "file_extension": ".py",
   "mimetype": "text/x-python",
   "name": "python",
   "nbconvert_exporter": "python",
   "pygments_lexer": "ipython3",
   "version": "3.7.0"
  }
 },
 "nbformat": 4,
 "nbformat_minor": 2
}
