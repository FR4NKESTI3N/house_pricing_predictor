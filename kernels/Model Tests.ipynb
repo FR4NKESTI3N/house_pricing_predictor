{
 "cells": [
  {
   "cell_type": "code",
   "execution_count": 77,
   "metadata": {},
   "outputs": [],
   "source": [
    "######## Test!!!!"
   ]
  },
  {
   "cell_type": "code",
   "execution_count": 126,
   "metadata": {},
   "outputs": [],
   "source": [
    "import numpy as np,\\\n",
    "pandas as pd,\\\n",
    "seaborn as sns,\\\n",
    "matplotlib.pyplot as plt,\\\n",
    "sklearn.preprocessing as Scaler\n",
    "\n",
    "import sklearn\n",
    "\n",
    "from scipy import stats\n",
    "\n",
    "import warnings\n",
    "warnings.filterwarnings('ignore')\n",
    "\n",
    "%matplotlib inline"
   ]
  },
  {
   "cell_type": "code",
   "execution_count": 127,
   "metadata": {},
   "outputs": [],
   "source": [
    "train_data = pd.read_csv('../input/train.csv')\n",
    "test_data = pd.read_csv('../input/test.csv')"
   ]
  },
  {
   "cell_type": "code",
   "execution_count": 128,
   "metadata": {},
   "outputs": [],
   "source": [
    "features_to_drop = ['GarageArea', 'TotRmsAbvGrd', 'TotalBsmtSF']\n",
    "features_to_trans = ['MiscVal', 'PoolArea', 'LotArea', '3SsnPorch', 'LowQualFinSF',\n",
    "                     'KitchenAbvGr', 'BsmtFinSF2', 'ScreenPorch', 'BsmtHalfBath',\n",
    "                     'EnclosedPorch', 'MasVnrArea', 'OpenPorchSF', 'LotFrontage',\n",
    "                     'BsmtFinSF1', 'WoodDeckSF', '1stFlrSF',\n",
    "                     'GrLivArea', 'BsmtUnfSF', '2ndFlrSF', 'HalfBath']\n",
    "features_categorical = ['LotShape', 'OverallQual', 'OverallCond', 'LandContour', 'YearBuilt', 'Utilities', 'LotConfig',\n",
    "                        'YearRemodAdd', 'GarageFinish', 'MoSold', 'GarageQual', 'YrSold', 'GarageCond', 'PavedDrive',\n",
    "                        'PoolQC', 'Fence', 'MiscFeature', 'SaleType', 'SaleCondition', 'MSZoning', 'MSSubClass',\n",
    "                        'Street', 'Alley', 'LandSlope', 'Neighborhood', 'Condition1', 'Condition2', 'BldgType',\n",
    "                        'HouseStyle', 'RoofStyle', 'RoofMatl', 'Exterior1st', 'Exterior2nd', 'MasVnrType', 'ExterQual',\n",
    "                        'ExterCond', 'Foundation', 'BsmtQual', 'BsmtCond', 'BsmtExposure', 'BsmtFinType1', 'BsmtFinType2',\n",
    "                        'Heating', 'HeatingQC', 'CentralAir', 'Electrical', 'KitchenQual', 'Functional', 'FireplaceQu',\n",
    "                        'GarageType', 'GarageYrBlt']\n",
    "features_numerical = ['LotFrontage', 'LotArea', 'MasVnrArea', 'BsmtFinSF1', 'BsmtFinSF2', 'BsmtUnfSF', '1stFlrSF',\n",
    "                      '2ndFlrSF', 'LowQualFinSF', 'GrLivArea', 'BsmtFullBath', 'BsmtHalfBath', 'FullBath', 'HalfBath',\n",
    "                      'BedroomAbvGr', 'KitchenAbvGr', 'Fireplaces', 'GarageCars', 'WoodDeckSF',\n",
    "                      'OpenPorchSF', 'EnclosedPorch', '3SsnPorch', 'ScreenPorch', 'PoolArea', 'MiscVal']\n",
    "features_not_label_encode = ['YearBuilt', 'YearRemodAdd', 'MoSold', 'YrSold', 'GarageYrBlt','GarageYrBlt']"
   ]
  },
  {
   "cell_type": "code",
   "execution_count": 129,
   "metadata": {},
   "outputs": [],
   "source": [
    "features_to_drop = ['GarageArea', 'TotRmsAbvGrd', 'TotalBsmtSF']\n",
    "features_to_trans = ['MiscVal', 'PoolArea', 'LotArea', '3SsnPorch', 'LowQualFinSF',\n",
    "                     'KitchenAbvGr', 'BsmtFinSF2', 'ScreenPorch', 'BsmtHalfBath',\n",
    "                     'EnclosedPorch', 'MasVnrArea', 'OpenPorchSF', 'LotFrontage',\n",
    "                     'BsmtFinSF1', 'WoodDeckSF', '1stFlrSF',\n",
    "                     'GrLivArea', 'BsmtUnfSF', '2ndFlrSF', 'HalfBath']\n",
    "features_categorical = ['LotShape', 'OverallQual', 'OverallCond', 'LandContour', 'YearBuilt', 'Utilities', 'LotConfig',\n",
    "                        'YearRemodAdd', 'GarageFinish', 'MoSold', 'GarageQual', 'YrSold', 'GarageCond', 'PavedDrive',\n",
    "                        'PoolQC', 'Fence', 'MiscFeature', 'SaleType', 'SaleCondition', 'MSZoning', 'MSSubClass',\n",
    "                        'Street', 'Alley', 'LandSlope', 'Neighborhood', 'Condition1', 'Condition2', 'BldgType',\n",
    "                        'HouseStyle', 'RoofStyle', 'RoofMatl', 'Exterior1st', 'Exterior2nd', 'MasVnrType', 'ExterQual',\n",
    "                        'ExterCond', 'Foundation', 'BsmtQual', 'BsmtCond', 'BsmtExposure', 'BsmtFinType1', 'BsmtFinType2',\n",
    "                        'Heating', 'HeatingQC', 'CentralAir', 'Electrical', 'KitchenQual', 'Functional', 'FireplaceQu',\n",
    "                        'GarageType', 'GarageYrBlt']\n",
    "features_numerical = ['LotFrontage', 'LotArea', 'MasVnrArea', 'BsmtFinSF1', 'BsmtFinSF2', 'BsmtUnfSF', '1stFlrSF',\n",
    "                      '2ndFlrSF', 'LowQualFinSF', 'GrLivArea', 'BsmtFullBath', 'BsmtHalfBath', 'FullBath', 'HalfBath',\n",
    "                      'BedroomAbvGr', 'KitchenAbvGr', 'Fireplaces', 'GarageCars', 'WoodDeckSF',\n",
    "                      'OpenPorchSF', 'EnclosedPorch', '3SsnPorch', 'ScreenPorch', 'PoolArea', 'MiscVal']\n",
    "features_not_label_encode = ['YearBuilt', 'YearRemodAdd', 'MoSold', 'YrSold', 'GarageYrBlt','GarageYrBlt']\n",
    "features_na_cat = ['LotShape', 'OverallQual', 'OverallCond', 'LandContour', 'YearBuilt', 'Utilities', 'LotConfig',\n",
    "                        'YearRemodAdd', 'GarageFinish', 'MoSold', 'GarageQual', 'YrSold', 'GarageCond', 'PavedDrive',\n",
    "                        'PoolQC', 'Fence', 'MiscFeature', 'SaleType', 'SaleCondition', 'MSZoning', 'MSSubClass',\n",
    "                        'Street', 'Alley', 'LandSlope', 'Neighborhood', 'Condition1', 'Condition2', 'BldgType',\n",
    "                        'HouseStyle', 'RoofStyle', 'RoofMatl', 'Exterior1st', 'Exterior2nd', 'MasVnrType', 'ExterQual',\n",
    "                        'ExterCond', 'Foundation', 'BsmtQual', 'BsmtCond', 'BsmtExposure', 'BsmtFinType1', 'BsmtFinType2',\n",
    "                        'Heating', 'HeatingQC', 'CentralAir', 'Electrical', 'KitchenQual', 'Functional', 'FireplaceQu',\n",
    "                        'GarageType', 'GarageYrBlt']"
   ]
  },
  {
   "cell_type": "code",
   "execution_count": 130,
   "metadata": {},
   "outputs": [],
   "source": [
    "train_data = train_data.sample(frac = 1).reset_index(drop = True)"
   ]
  },
  {
   "cell_type": "code",
   "execution_count": 131,
   "metadata": {},
   "outputs": [],
   "source": [
    "# # Join training and test dataframes for easy preprocessing\n",
    "# #\n",
    "# ######################################\n",
    "Y = train_data[['Id', 'SalePrice']]\n",
    "all_data = pd.concat((train_data.drop(columns = ['SalePrice']), test_data))"
   ]
  },
  {
   "cell_type": "code",
   "execution_count": 132,
   "metadata": {},
   "outputs": [],
   "source": [
    "# Join training and test dataframes for easy preprocessing\n",
    "#\n",
    "######################################\n",
    "# Y = train_data[['Id', 'SalePrice']]\n",
    "# all_data = pd.concat((train_data, test_data))"
   ]
  },
  {
   "cell_type": "code",
   "execution_count": 133,
   "metadata": {},
   "outputs": [],
   "source": [
    "# Get and Split N/A faetures\n",
    "#\n",
    "######################################\n",
    "features_na = (all_data.isnull() == True).sum().sort_values(ascending = False)\n",
    "features_na = features_na[features_na > 0].index\n",
    "# features_na_num = [x for x in features_na if x in features_numerical]\n",
    "# features_na_cat = [x for x in features_na if x in features_categorical]"
   ]
  },
  {
   "cell_type": "code",
   "execution_count": 134,
   "metadata": {},
   "outputs": [],
   "source": [
    "# Fill NA\n",
    "#\n",
    "######################################\n",
    "all_data = all_data.drop(columns = features_to_drop)\n",
    "\n",
    "all_data['MSZoning'].fillna('RL')\n",
    "all_data['Functional'].fillna('Typ')\n",
    "all_data['Utilities'].fillna('AllPub')\n",
    "all_data['Electrical'].fillna('SBrkr')\n",
    "all_data['SaleType'].fillna('WD')\n",
    "all_data['KitchenQual'].fillna('TA')\n",
    "all_data['Exterior1st'].fillna('VinylSd')\n",
    "all_data['Exterior2nd'].fillna('VinylSd')\n",
    "\n",
    "all_data[features_not_label_encode] = all_data[features_not_label_encode].fillna(0)\n",
    "\n",
    "all_data[features_na_cat] = all_data[features_na_cat].fillna(\"None\")\n",
    "\n",
    "all_data['LotFrontage'] = all_data.groupby(\"Neighborhood\")[\"LotFrontage\"].transform(lambda col: \n",
    "                                                                                    col.fillna(col.dropna().median()))\n",
    "\n",
    "all_data[features_na_num] = all_data[features_na_num].fillna(0)\n"
   ]
  },
  {
   "cell_type": "code",
   "execution_count": 135,
   "metadata": {},
   "outputs": [],
   "source": [
    "# Log Transformation\n",
    "#\n",
    "#######################################\n",
    "Y['SalePrice'] = np.log1p(Y['SalePrice'])\n",
    "\n",
    "all_data[features_to_trans] = np.log1p(all_data[features_to_trans])\n",
    "# all_data['SalePrice'] = np.log1p(all_data['SalePrice'])"
   ]
  },
  {
   "cell_type": "code",
   "execution_count": 136,
   "metadata": {},
   "outputs": [],
   "source": [
    "# label encode features\n",
    "#\n",
    "##################################\n",
    "cols = ('FireplaceQu', 'BsmtQual', 'BsmtCond', 'GarageQual', 'GarageCond', \n",
    "        'ExterQual', 'ExterCond','HeatingQC', 'PoolQC', 'KitchenQual', 'BsmtFinType1', \n",
    "        'BsmtFinType2', 'Functional', 'Fence', 'BsmtExposure', 'GarageFinish', 'LandSlope',\n",
    "        'LotShape', 'PavedDrive', 'Street', 'Alley', 'CentralAir', 'MSSubClass', 'OverallCond', \n",
    "        'YrSold', 'MoSold')\n",
    "\n",
    "for col in features_categorical:\n",
    "# for col in cols:\n",
    "    le = sklearn.preprocessing.LabelEncoder()\n",
    "    le.fit(list(all_data[col].values))\n",
    "    all_data[col] = le.transform(list(all_data[col].values))"
   ]
  },
  {
   "cell_type": "code",
   "execution_count": 137,
   "metadata": {},
   "outputs": [],
   "source": [
    "###### assign dummy variable\n",
    "#\n",
    "#######################################\n",
    "\n",
    "all_data_dum = pd.get_dummies(all_data.drop('Id', axis = 1))"
   ]
  },
  {
   "cell_type": "code",
   "execution_count": 138,
   "metadata": {
    "scrolled": true
   },
   "outputs": [
    {
     "data": {
      "text/plain": [
       "(2919, 76)"
      ]
     },
     "execution_count": 138,
     "metadata": {},
     "output_type": "execute_result"
    }
   ],
   "source": [
    "all_data_dum.shape"
   ]
  },
  {
   "cell_type": "code",
   "execution_count": 139,
   "metadata": {},
   "outputs": [],
   "source": [
    "# Y = all_data_dum['SalePrice'][:len(train_data)]\n",
    "# all_data_dum = all_data_dum.drop(columns = ['SalePrice'])"
   ]
  },
  {
   "cell_type": "code",
   "execution_count": 140,
   "metadata": {
    "scrolled": true
   },
   "outputs": [
    {
     "data": {
      "text/html": [
       "<div>\n",
       "<style scoped>\n",
       "    .dataframe tbody tr th:only-of-type {\n",
       "        vertical-align: middle;\n",
       "    }\n",
       "\n",
       "    .dataframe tbody tr th {\n",
       "        vertical-align: top;\n",
       "    }\n",
       "\n",
       "    .dataframe thead th {\n",
       "        text-align: right;\n",
       "    }\n",
       "</style>\n",
       "<table border=\"1\" class=\"dataframe\">\n",
       "  <thead>\n",
       "    <tr style=\"text-align: right;\">\n",
       "      <th></th>\n",
       "      <th>Id</th>\n",
       "      <th>SalePrice</th>\n",
       "    </tr>\n",
       "  </thead>\n",
       "  <tbody>\n",
       "    <tr>\n",
       "      <th>0</th>\n",
       "      <td>906</td>\n",
       "      <td>11.759793</td>\n",
       "    </tr>\n",
       "    <tr>\n",
       "      <th>1</th>\n",
       "      <td>322</td>\n",
       "      <td>12.777055</td>\n",
       "    </tr>\n",
       "    <tr>\n",
       "      <th>2</th>\n",
       "      <td>191</td>\n",
       "      <td>12.660331</td>\n",
       "    </tr>\n",
       "    <tr>\n",
       "      <th>3</th>\n",
       "      <td>239</td>\n",
       "      <td>12.669810</td>\n",
       "    </tr>\n",
       "    <tr>\n",
       "      <th>4</th>\n",
       "      <td>905</td>\n",
       "      <td>11.740069</td>\n",
       "    </tr>\n",
       "    <tr>\n",
       "      <th>5</th>\n",
       "      <td>423</td>\n",
       "      <td>11.635152</td>\n",
       "    </tr>\n",
       "    <tr>\n",
       "      <th>6</th>\n",
       "      <td>1280</td>\n",
       "      <td>11.133143</td>\n",
       "    </tr>\n",
       "    <tr>\n",
       "      <th>7</th>\n",
       "      <td>401</td>\n",
       "      <td>12.411056</td>\n",
       "    </tr>\n",
       "    <tr>\n",
       "      <th>8</th>\n",
       "      <td>883</td>\n",
       "      <td>12.089544</td>\n",
       "    </tr>\n",
       "    <tr>\n",
       "      <th>9</th>\n",
       "      <td>1329</td>\n",
       "      <td>12.452937</td>\n",
       "    </tr>\n",
       "    <tr>\n",
       "      <th>10</th>\n",
       "      <td>232</td>\n",
       "      <td>12.906694</td>\n",
       "    </tr>\n",
       "    <tr>\n",
       "      <th>11</th>\n",
       "      <td>137</td>\n",
       "      <td>11.870607</td>\n",
       "    </tr>\n",
       "    <tr>\n",
       "      <th>12</th>\n",
       "      <td>123</td>\n",
       "      <td>11.820418</td>\n",
       "    </tr>\n",
       "    <tr>\n",
       "      <th>13</th>\n",
       "      <td>379</td>\n",
       "      <td>12.885205</td>\n",
       "    </tr>\n",
       "    <tr>\n",
       "      <th>14</th>\n",
       "      <td>537</td>\n",
       "      <td>12.144203</td>\n",
       "    </tr>\n",
       "    <tr>\n",
       "      <th>15</th>\n",
       "      <td>1232</td>\n",
       "      <td>11.794345</td>\n",
       "    </tr>\n",
       "    <tr>\n",
       "      <th>16</th>\n",
       "      <td>200</td>\n",
       "      <td>12.524166</td>\n",
       "    </tr>\n",
       "    <tr>\n",
       "      <th>17</th>\n",
       "      <td>496</td>\n",
       "      <td>10.460271</td>\n",
       "    </tr>\n",
       "    <tr>\n",
       "      <th>18</th>\n",
       "      <td>1343</td>\n",
       "      <td>12.339296</td>\n",
       "    </tr>\n",
       "    <tr>\n",
       "      <th>19</th>\n",
       "      <td>1281</td>\n",
       "      <td>12.332710</td>\n",
       "    </tr>\n",
       "    <tr>\n",
       "      <th>20</th>\n",
       "      <td>538</td>\n",
       "      <td>11.619544</td>\n",
       "    </tr>\n",
       "    <tr>\n",
       "      <th>21</th>\n",
       "      <td>141</td>\n",
       "      <td>11.652696</td>\n",
       "    </tr>\n",
       "    <tr>\n",
       "      <th>22</th>\n",
       "      <td>826</td>\n",
       "      <td>12.861001</td>\n",
       "    </tr>\n",
       "    <tr>\n",
       "      <th>23</th>\n",
       "      <td>697</td>\n",
       "      <td>11.396403</td>\n",
       "    </tr>\n",
       "    <tr>\n",
       "      <th>24</th>\n",
       "      <td>57</td>\n",
       "      <td>12.058158</td>\n",
       "    </tr>\n",
       "    <tr>\n",
       "      <th>25</th>\n",
       "      <td>26</td>\n",
       "      <td>12.454108</td>\n",
       "    </tr>\n",
       "    <tr>\n",
       "      <th>26</th>\n",
       "      <td>443</td>\n",
       "      <td>12.000898</td>\n",
       "    </tr>\n",
       "    <tr>\n",
       "      <th>27</th>\n",
       "      <td>1400</td>\n",
       "      <td>11.831023</td>\n",
       "    </tr>\n",
       "    <tr>\n",
       "      <th>28</th>\n",
       "      <td>762</td>\n",
       "      <td>11.512935</td>\n",
       "    </tr>\n",
       "    <tr>\n",
       "      <th>29</th>\n",
       "      <td>937</td>\n",
       "      <td>12.127576</td>\n",
       "    </tr>\n",
       "    <tr>\n",
       "      <th>...</th>\n",
       "      <td>...</td>\n",
       "      <td>...</td>\n",
       "    </tr>\n",
       "    <tr>\n",
       "      <th>1430</th>\n",
       "      <td>347</td>\n",
       "      <td>11.928348</td>\n",
       "    </tr>\n",
       "    <tr>\n",
       "      <th>1431</th>\n",
       "      <td>855</td>\n",
       "      <td>12.043560</td>\n",
       "    </tr>\n",
       "    <tr>\n",
       "      <th>1432</th>\n",
       "      <td>570</td>\n",
       "      <td>11.820123</td>\n",
       "    </tr>\n",
       "    <tr>\n",
       "      <th>1433</th>\n",
       "      <td>236</td>\n",
       "      <td>11.402005</td>\n",
       "    </tr>\n",
       "    <tr>\n",
       "      <th>1434</th>\n",
       "      <td>1241</td>\n",
       "      <td>12.323416</td>\n",
       "    </tr>\n",
       "    <tr>\n",
       "      <th>1435</th>\n",
       "      <td>39</td>\n",
       "      <td>11.599112</td>\n",
       "    </tr>\n",
       "    <tr>\n",
       "      <th>1436</th>\n",
       "      <td>861</td>\n",
       "      <td>12.154521</td>\n",
       "    </tr>\n",
       "    <tr>\n",
       "      <th>1437</th>\n",
       "      <td>328</td>\n",
       "      <td>11.886219</td>\n",
       "    </tr>\n",
       "    <tr>\n",
       "      <th>1438</th>\n",
       "      <td>1040</td>\n",
       "      <td>11.289794</td>\n",
       "    </tr>\n",
       "    <tr>\n",
       "      <th>1439</th>\n",
       "      <td>1324</td>\n",
       "      <td>11.320566</td>\n",
       "    </tr>\n",
       "    <tr>\n",
       "      <th>1440</th>\n",
       "      <td>111</td>\n",
       "      <td>11.827013</td>\n",
       "    </tr>\n",
       "    <tr>\n",
       "      <th>1441</th>\n",
       "      <td>220</td>\n",
       "      <td>12.027191</td>\n",
       "    </tr>\n",
       "    <tr>\n",
       "      <th>1442</th>\n",
       "      <td>662</td>\n",
       "      <td>12.904210</td>\n",
       "    </tr>\n",
       "    <tr>\n",
       "      <th>1443</th>\n",
       "      <td>1206</td>\n",
       "      <td>12.513193</td>\n",
       "    </tr>\n",
       "    <tr>\n",
       "      <th>1444</th>\n",
       "      <td>565</td>\n",
       "      <td>12.498746</td>\n",
       "    </tr>\n",
       "    <tr>\n",
       "      <th>1445</th>\n",
       "      <td>715</td>\n",
       "      <td>11.779136</td>\n",
       "    </tr>\n",
       "    <tr>\n",
       "      <th>1446</th>\n",
       "      <td>1101</td>\n",
       "      <td>11.002117</td>\n",
       "    </tr>\n",
       "    <tr>\n",
       "      <th>1447</th>\n",
       "      <td>341</td>\n",
       "      <td>12.220473</td>\n",
       "    </tr>\n",
       "    <tr>\n",
       "      <th>1448</th>\n",
       "      <td>524</td>\n",
       "      <td>12.126764</td>\n",
       "    </tr>\n",
       "    <tr>\n",
       "      <th>1449</th>\n",
       "      <td>150</td>\n",
       "      <td>11.652696</td>\n",
       "    </tr>\n",
       "    <tr>\n",
       "      <th>1450</th>\n",
       "      <td>212</td>\n",
       "      <td>12.133507</td>\n",
       "    </tr>\n",
       "    <tr>\n",
       "      <th>1451</th>\n",
       "      <td>1251</td>\n",
       "      <td>12.404928</td>\n",
       "    </tr>\n",
       "    <tr>\n",
       "      <th>1452</th>\n",
       "      <td>1063</td>\n",
       "      <td>11.407576</td>\n",
       "    </tr>\n",
       "    <tr>\n",
       "      <th>1453</th>\n",
       "      <td>358</td>\n",
       "      <td>11.805603</td>\n",
       "    </tr>\n",
       "    <tr>\n",
       "      <th>1454</th>\n",
       "      <td>599</td>\n",
       "      <td>12.289959</td>\n",
       "    </tr>\n",
       "    <tr>\n",
       "      <th>1455</th>\n",
       "      <td>1178</td>\n",
       "      <td>11.652696</td>\n",
       "    </tr>\n",
       "    <tr>\n",
       "      <th>1456</th>\n",
       "      <td>383</td>\n",
       "      <td>12.271397</td>\n",
       "    </tr>\n",
       "    <tr>\n",
       "      <th>1457</th>\n",
       "      <td>229</td>\n",
       "      <td>11.736077</td>\n",
       "    </tr>\n",
       "    <tr>\n",
       "      <th>1458</th>\n",
       "      <td>1433</td>\n",
       "      <td>11.074436</td>\n",
       "    </tr>\n",
       "    <tr>\n",
       "      <th>1459</th>\n",
       "      <td>74</td>\n",
       "      <td>11.883806</td>\n",
       "    </tr>\n",
       "  </tbody>\n",
       "</table>\n",
       "<p>1460 rows × 2 columns</p>\n",
       "</div>"
      ],
      "text/plain": [
       "        Id  SalePrice\n",
       "0      906  11.759793\n",
       "1      322  12.777055\n",
       "2      191  12.660331\n",
       "3      239  12.669810\n",
       "4      905  11.740069\n",
       "5      423  11.635152\n",
       "6     1280  11.133143\n",
       "7      401  12.411056\n",
       "8      883  12.089544\n",
       "9     1329  12.452937\n",
       "10     232  12.906694\n",
       "11     137  11.870607\n",
       "12     123  11.820418\n",
       "13     379  12.885205\n",
       "14     537  12.144203\n",
       "15    1232  11.794345\n",
       "16     200  12.524166\n",
       "17     496  10.460271\n",
       "18    1343  12.339296\n",
       "19    1281  12.332710\n",
       "20     538  11.619544\n",
       "21     141  11.652696\n",
       "22     826  12.861001\n",
       "23     697  11.396403\n",
       "24      57  12.058158\n",
       "25      26  12.454108\n",
       "26     443  12.000898\n",
       "27    1400  11.831023\n",
       "28     762  11.512935\n",
       "29     937  12.127576\n",
       "...    ...        ...\n",
       "1430   347  11.928348\n",
       "1431   855  12.043560\n",
       "1432   570  11.820123\n",
       "1433   236  11.402005\n",
       "1434  1241  12.323416\n",
       "1435    39  11.599112\n",
       "1436   861  12.154521\n",
       "1437   328  11.886219\n",
       "1438  1040  11.289794\n",
       "1439  1324  11.320566\n",
       "1440   111  11.827013\n",
       "1441   220  12.027191\n",
       "1442   662  12.904210\n",
       "1443  1206  12.513193\n",
       "1444   565  12.498746\n",
       "1445   715  11.779136\n",
       "1446  1101  11.002117\n",
       "1447   341  12.220473\n",
       "1448   524  12.126764\n",
       "1449   150  11.652696\n",
       "1450   212  12.133507\n",
       "1451  1251  12.404928\n",
       "1452  1063  11.407576\n",
       "1453   358  11.805603\n",
       "1454   599  12.289959\n",
       "1455  1178  11.652696\n",
       "1456   383  12.271397\n",
       "1457   229  11.736077\n",
       "1458  1433  11.074436\n",
       "1459    74  11.883806\n",
       "\n",
       "[1460 rows x 2 columns]"
      ]
     },
     "execution_count": 140,
     "metadata": {},
     "output_type": "execute_result"
    }
   ],
   "source": [
    "Y"
   ]
  },
  {
   "cell_type": "code",
   "execution_count": 141,
   "metadata": {},
   "outputs": [],
   "source": [
    "from sklearn import preprocessing"
   ]
  },
  {
   "cell_type": "code",
   "execution_count": 142,
   "metadata": {},
   "outputs": [],
   "source": [
    "# poly2 = sklearn.preprocessing.PolynomialFeatures(degree = 2)\n",
    "# poly2.fit(all_data_dum)\n",
    "# all_data_dum = poly2.fit_transform(all_data_dum)"
   ]
  },
  {
   "cell_type": "code",
   "execution_count": 143,
   "metadata": {
    "scrolled": true
   },
   "outputs": [],
   "source": [
    "# Convert Fake numerical Features to strings\n",
    "# \n",
    "#######################################\n",
    "all_data_dum[['OverallQual', 'OverallCond', 'YearBuilt', 'MSSubClass']] = all_data_dum[\n",
    "    ['OverallQual', 'OverallCond', 'YearBuilt', 'MSSubClass']].astype(str)"
   ]
  },
  {
   "cell_type": "code",
   "execution_count": 144,
   "metadata": {},
   "outputs": [],
   "source": [
    "# Randomise data\n",
    "# \n",
    "# all_data_dum = pd.DataFrame(all_data_dum).sample(frac = 1).reset_index(drop = True)"
   ]
  },
  {
   "cell_type": "code",
   "execution_count": 145,
   "metadata": {},
   "outputs": [],
   "source": [
    "# get training_data\n",
    "#\n",
    "###################\n",
    "training_data = all_data_dum[:len(train_data)]"
   ]
  },
  {
   "cell_type": "code",
   "execution_count": 146,
   "metadata": {},
   "outputs": [],
   "source": [
    "def rmsError(x, y):\n",
    "    return np.sqrt(np.sum(np.power(x - y, 2)) / len(x))"
   ]
  },
  {
   "cell_type": "code",
   "execution_count": 147,
   "metadata": {},
   "outputs": [],
   "source": [
    "from sklearn import linear_model"
   ]
  },
  {
   "cell_type": "code",
   "execution_count": 148,
   "metadata": {},
   "outputs": [],
   "source": [
    "training_set = training_data[ : -400]\n",
    "Y_training_set = Y['SalePrice'][ : -400]\n",
    "# Y_training_set = Y[ : -400]\n",
    "\n",
    "cv_set = training_data[-400 : ]\n",
    "Y_cv_set = Y['SalePrice'][-400 : ]\n",
    "# Y_cv_set = Y[-400 : ]"
   ]
  },
  {
   "cell_type": "markdown",
   "metadata": {},
   "source": [
    "Linear regression"
   ]
  },
  {
   "cell_type": "code",
   "execution_count": 150,
   "metadata": {},
   "outputs": [
    {
     "name": "stdout",
     "output_type": "stream",
     "text": [
      "training error =\t 0.1079749114512272\n",
      "cv error =\t\t 0.1749832135312623\n"
     ]
    }
   ],
   "source": [
    "# test 1 : no regression, intercept calculation, no normalization\n",
    "#\n",
    "######################\n",
    "test_model_1 = sklearn.linear_model.LinearRegression(copy_X = True, normalize = False)\n",
    "test_model_1.fit(training_set, Y_training_set)\n",
    "print(\"training error =\\t\", rmsError(test_model_1.predict(training_set), Y_training_set))\n",
    "print(\"cv error =\\t\\t\", rmsError(Y_cv_set, test_model_1.predict(cv_set)))"
   ]
  },
  {
   "cell_type": "code",
   "execution_count": 151,
   "metadata": {},
   "outputs": [
    {
     "name": "stdout",
     "output_type": "stream",
     "text": [
      "training error =\t 0.10797491145122715\n",
      "cv error =\t\t 0.17498321353126262\n"
     ]
    }
   ],
   "source": [
    "# test 3 : no regression, intercept calculation, normalization\n",
    "#\n",
    "######################\n",
    "test_model_3 = sklearn.linear_model.LinearRegression(copy_X = True, normalize = True)\n",
    "test_model_3.fit(training_set, Y_training_set)\n",
    "print(\"training error =\\t\", rmsError(test_model_3.predict(training_set), Y_training_set))\n",
    "print(\"cv error =\\t\\t\", rmsError(Y_cv_set, test_model_3.predict(cv_set)))"
   ]
  },
  {
   "cell_type": "code",
   "execution_count": 152,
   "metadata": {},
   "outputs": [
    {
     "name": "stdout",
     "output_type": "stream",
     "text": [
      "training error =\t 0.12884493960819807\n",
      "cv error =\t\t 0.2328458350713903\n"
     ]
    }
   ],
   "source": [
    "# test 2 : no regression, no intercept calculation, no normalization\n",
    "#\n",
    "######################\n",
    "test_model_2 = sklearn.linear_model.LinearRegression(copy_X = True, fit_intercept=False)\n",
    "test_model_2.fit(training_set, Y_training_set)\n",
    "print(\"training error =\\t\", rmsError(test_model_2.predict(training_set), Y_training_set))\n",
    "print(\"cv error =\\t\\t\", rmsError(Y_cv_set, test_model_2.predict(cv_set)))"
   ]
  },
  {
   "cell_type": "markdown",
   "metadata": {},
   "source": [
    "Ridge regression"
   ]
  },
  {
   "cell_type": "code",
   "execution_count": 153,
   "metadata": {},
   "outputs": [
    {
     "name": "stdout",
     "output_type": "stream",
     "text": [
      "training error =\t 0.12885789006804388\n",
      "cv error =\t\t 0.23255010177146443\n"
     ]
    }
   ],
   "source": [
    "# Test 4 : \n",
    "#\n",
    "############################\n",
    "test_model_4 = sklearn.linear_model.Ridge(copy_X = True, fit_intercept = False, alpha = .1, tol = 0.000000001)\n",
    "test_model_4.fit(training_set, Y_training_set)\n",
    "print(\"training error =\\t\", rmsError(test_model_4.predict(training_set), Y_training_set))\n",
    "print(\"cv error =\\t\\t\", rmsError(Y_cv_set, test_model_4.predict(cv_set)))"
   ]
  },
  {
   "cell_type": "code",
   "execution_count": 154,
   "metadata": {},
   "outputs": [
    {
     "name": "stdout",
     "output_type": "stream",
     "text": [
      "training error =\t 0.14119936806630137\n",
      "cv error =\t\t 0.2274938041868807\n"
     ]
    }
   ],
   "source": [
    "# Test 4 : \n",
    "#\n",
    "############################\n",
    "test_model_4 = sklearn.linear_model.Ridge(copy_X = True, fit_intercept = False, alpha = 10, tol = 0.000000001)\n",
    "test_model_4.fit(training_set, Y_training_set)\n",
    "print(\"training error =\\t\", rmsError(test_model_4.predict(training_set), Y_training_set))\n",
    "print(\"cv error =\\t\\t\", rmsError(Y_cv_set, test_model_4.predict(cv_set)))"
   ]
  },
  {
   "cell_type": "code",
   "execution_count": 175,
   "metadata": {},
   "outputs": [],
   "source": [
    "ar = []\n",
    "ar2 = []\n",
    "indices = []\n",
    "for i in range(1, 150):\n",
    "    alpha = i\n",
    "#     alpha = (alpha * 1000) / 1000\n",
    "    test_model_41 = sklearn.linear_model.Ridge(copy_X = True, fit_intercept = True, alpha = alpha, max_iter = 1000)\n",
    "    test_model_41.fit(training_set, Y_training_set)\n",
    "    ar.append(rmsError(test_model_41.predict(training_set), Y_training_set))\n",
    "    ar2.append(rmsError(Y_cv_set, test_model_41.predict(cv_set)))\n",
    "    indices.append(str(alpha)[:5])"
   ]
  },
  {
   "cell_type": "code",
   "execution_count": 201,
   "metadata": {},
   "outputs": [
    {
     "data": {
      "image/png": "[encoded data removed]",
      "text/plain": [
       "<Figure size 432x288 with 1 Axes>"
      ]
     },
     "metadata": {
      "needs_background": "light"
     },
     "output_type": "display_data"
    }
   ],
   "source": [
    "fig = sns.pointplot(indices, ar, color = 'red', legend = True)\n",
    "fig = sns.pointplot(indices, ar2)\n",
    "fig.set(xlabel = 'alpha', ylabel = 'rms error')\n",
    "fig = plt.xticks(rotation = 90)\n",
    "#fig.get_figure().savefig('../images/ridge_alpha.png')"
   ]
  },
  {
   "cell_type": "code",
   "execution_count": 180,
   "metadata": {},
   "outputs": [
    {
     "name": "stdout",
     "output_type": "stream",
     "text": [
      "training error =\t 0.1085306386475268\n",
      "cv error =\t\t 0.17553911365625036\n"
     ]
    }
   ],
   "source": [
    "test_model_42 = sklearn.linear_model.RidgeCV(fit_intercept = True, cv = 6, alphas = [1, 2.2, 2.3, 2.4, 2.5, 2.6, 2.7, 2.8, 2.9, 3, 4, 10])\n",
    "test_model_42.fit(training_set, Y_training_set)\n",
    "print(\"training error =\\t\", rmsError(test_model_42.predict(training_set), Y_training_set))\n",
    "print(\"cv error =\\t\\t\", rmsError(Y_cv_set, test_model_42.predict(cv_set)))"
   ]
  },
  {
   "cell_type": "code",
   "execution_count": 182,
   "metadata": {},
   "outputs": [
    {
     "data": {
      "text/plain": [
       "2.4"
      ]
     },
     "execution_count": 182,
     "metadata": {},
     "output_type": "execute_result"
    }
   ],
   "source": [
    "test_model_42.alpha_"
   ]
  },
  {
   "cell_type": "code",
   "execution_count": 183,
   "metadata": {},
   "outputs": [],
   "source": [
    "ar = []\n",
    "ar2 = []\n",
    "indices = []\n",
    "for i in range(100, len(training_set), 50):\n",
    "#     alpha = i*.1\n",
    "    test_model_43= sklearn.linear_model.Ridge(copy_X = True, fit_intercept = False, alpha = 2.4, max_iter = 10000000)\n",
    "    test_model_43.fit(training_set[ : i], Y_training_set[ : i])\n",
    "    ar.append(rmsError(test_model_43.predict(training_set), Y_training_set))\n",
    "    ar2.append(rmsError(Y_cv_set, test_model_43.predict(cv_set)))\n",
    "    indices.append(i)"
   ]
  },
  {
   "cell_type": "code",
   "execution_count": 185,
   "metadata": {},
   "outputs": [
    {
     "data": {
      "text/plain": [
       "[Text(0,0.5,'rms error'), Text(0.5,0,'samples')]"
      ]
     },
     "execution_count": 185,
     "metadata": {},
     "output_type": "execute_result"
    },
    {
     "data": {
      "image/png": "[encoded data removed]",
      "text/plain": [
       "<Figure size 432x288 with 1 Axes>"
      ]
     },
     "metadata": {
      "needs_background": "light"
     },
     "output_type": "display_data"
    }
   ],
   "source": [
    "fig = sns.pointplot(indices, ar, color = 'red')\n",
    "fig = sns.pointplot(indices, ar2)\n",
    "plt.xticks(rotation = 90)\n",
    "fig.set(xlabel = 'samples', ylabel = 'rms error')\n",
    "# fig.get_figure().savefig( '../images/ridge_m.png', dpi = 1000)"
   ]
  },
  {
   "cell_type": "code",
   "execution_count": 186,
   "metadata": {},
   "outputs": [
    {
     "name": "stdout",
     "output_type": "stream",
     "text": [
      "training error =\t 0.2949189810422313\n",
      "cv error =\t\t 0.3170486824738727\n",
      "alpha =  1\n"
     ]
    }
   ],
   "source": [
    "# Lasso test\n",
    "#\n",
    "############################\n",
    "test_model_5 = sklearn.linear_model.LassoCV(copy_X = True, max_iter = 1000, fit_intercept = True, alphas = [1])\n",
    "test_model_5.fit(training_set, Y_training_set)\n",
    "print(\"training error =\\t\", rmsError(test_model_5.predict(training_set), Y_training_set))\n",
    "print(\"cv error =\\t\\t\", rmsError(Y_cv_set, test_model_5.predict(cv_set)))\n",
    "print(\"alpha = \", test_model_5.alpha_)"
   ]
  },
  {
   "cell_type": "code",
   "execution_count": 197,
   "metadata": {},
   "outputs": [
    {
     "name": "stdout",
     "output_type": "stream",
     "text": [
      "training error =\t 0.15088928799969398\n",
      "cv error =\t\t 0.18802083818307322\n"
     ]
    }
   ],
   "source": [
    "# Lasso test\n",
    "#\n",
    "############################\n",
    "test_model_5 = sklearn.linear_model.Lasso(copy_X = True, max_iter = 1000, fit_intercept = True, alpha = 0.02)\n",
    "test_model_5.fit(training_set, Y_training_set)\n",
    "print(\"training error =\\t\", rmsError(test_model_5.predict(training_set), Y_training_set))\n",
    "print(\"cv error =\\t\\t\", rmsError(Y_cv_set, test_model_5.predict(cv_set)))\n",
    "# print(\"alpha = \", test_model_5.alpha_)"
   ]
  },
  {
   "cell_type": "code",
   "execution_count": 191,
   "metadata": {},
   "outputs": [],
   "source": [
    "ar = []\n",
    "ar2 = []\n",
    "indices = []\n",
    "for i in range(1, 40000, 1000):\n",
    "    alpha = i * .00001\n",
    "#     alpha = (alpha * 1000) / 1000\n",
    "    test_model_51 = sklearn.linear_model.Lasso(copy_X = True, fit_intercept = True, alpha = alpha, max_iter = 1000)\n",
    "    test_model_51.fit(training_set, Y_training_set)\n",
    "    ar.append(rmsError(test_model_51.predict(training_set), Y_training_set))\n",
    "    ar2.append(rmsError(Y_cv_set, test_model_51.predict(cv_set)))\n",
    "    indices.append(str(alpha)[:6])"
   ]
  },
  {
   "cell_type": "code",
   "execution_count": 192,
   "metadata": {},
   "outputs": [
    {
     "data": {
      "text/plain": [
       "[Text(0,0.5,'rms error'), Text(0.5,0,'alpha')]"
      ]
     },
     "execution_count": 192,
     "metadata": {},
     "output_type": "execute_result"
    },
    {
     "data": {
      "image/png": "[encoded data removed]",
      "text/plain": [
       "<Figure size 432x288 with 1 Axes>"
      ]
     },
     "metadata": {
      "needs_background": "light"
     },
     "output_type": "display_data"
    }
   ],
   "source": [
    "fig = sns.pointplot(indices, ar, color = 'red')\n",
    "fig = sns.pointplot(indices, ar2)\n",
    "plt.xticks(rotation = 90)\n",
    "fig.set(xlabel = 'alpha', ylabel = 'rms error')\n",
    "# fig.get_figure().savefig('../images/lasso_alpha.png', dpi = 1000)"
   ]
  },
  {
   "cell_type": "code",
   "execution_count": 134,
   "metadata": {},
   "outputs": [],
   "source": [
    "ar = []\n",
    "ar2 = []\n",
    "indices = []\n",
    "for i in range(100, len(training_set), 50):\n",
    "#     alpha = i*.1\n",
    "    test_model_53= sklearn.linear_model.Lasso(copy_X = True, fit_intercept = False, alpha = 0.0029, max_iter = 10000000)\n",
    "    test_model_53.fit(training_set[ : i], Y_training_set[ : i])\n",
    "    ar.append(rmsError(test_model_53.predict(training_set), Y_training_set))\n",
    "    ar2.append(rmsError(Y_cv_set, test_model_53.predict(cv_set)))\n",
    "    indices.append(i)"
   ]
  },
  {
   "cell_type": "code",
   "execution_count": 135,
   "metadata": {},
   "outputs": [
    {
     "data": {
      "image/png": "[encoded data removed]",
      "text/plain": [
       "<Figure size 432x288 with 1 Axes>"
      ]
     },
     "metadata": {
      "needs_background": "light"
     },
     "output_type": "display_data"
    }
   ],
   "source": [
    "fig = sns.pointplot(indices, ar, color = 'red')\n",
    "fig = sns.pointplot(indices, ar2)\n",
    "plt.xticks(rotation = 90)\n",
    "fig.set(xlabel = 'samples', ylabel = 'rms error')\n",
    "fig.get_figure().savefig('../images/lasso_m.png', dpi = 500)"
   ]
  },
  {
   "cell_type": "code",
   "execution_count": 210,
   "metadata": {},
   "outputs": [
    {
     "name": "stdout",
     "output_type": "stream",
     "text": [
      "training error =\t 0.4671477246410791\n",
      "cv error =\t\t 0.4581912442461517\n"
     ]
    }
   ],
   "source": [
    "# Elastic Net\n",
    "#\n",
    "########################################\n",
    "test_model_6 = sklearn.linear_model.ElasticNet(copy_X = True, fit_intercept = False, max_iter = 1000000, alpha = 0.1, l1_ratio = 0.12)\n",
    "test_model_6.fit(training_set, Y_training_set)\n",
    "print(\"training error =\\t\", rmsError(test_model_6.predict(training_set), Y_training_set))\n",
    "print(\"cv error =\\t\\t\", rmsError(Y_cv_set, test_model_6.predict(cv_set))) "
   ]
  },
  {
   "cell_type": "code",
   "execution_count": 198,
   "metadata": {},
   "outputs": [],
   "source": [
    "minar = []\n",
    "ratios = []\n",
    "for r in range(1, 200, 5):\n",
    "#     print(r)\n",
    "#     ratio = r * .01\n",
    "    ratio = 0.10 + r * 0.001\n",
    "    ar = []\n",
    "    ar2 = []\n",
    "    indices = []\n",
    "    for i in range(1, 50000, 500):\n",
    "        alpha = i * .0001\n",
    "        test_model_61 = sklearn.linear_model.ElasticNet(copy_X = True, fit_intercept = False, alpha = alpha, l1_ratio = ratio)    \n",
    "        test_model_61.fit(training_set, Y_training_set)\n",
    "        ar.append(rmsError(test_model_61.predict(training_set), Y_training_set))\n",
    "        ar2.append(rmsError(Y_cv_set, test_model_61.predict(cv_set)))\n",
    "        indices.append(str(alpha)[:6])\n",
    "    minar.append(np.min(ar2))\n",
    "    ratios.append(str(ratio)[:4])"
   ]
  },
  {
   "cell_type": "code",
   "execution_count": 199,
   "metadata": {},
   "outputs": [
    {
     "data": {
      "text/plain": [
       "[Text(0,0.5,'min(error)'), Text(0.5,0,'ratio')]"
      ]
     },
     "execution_count": 199,
     "metadata": {},
     "output_type": "execute_result"
    },
    {
     "data": {
      "image/png": "[encoded data removed]",
      "text/plain": [
       "<Figure size 432x288 with 1 Axes>"
      ]
     },
     "metadata": {
      "needs_background": "light"
     },
     "output_type": "display_data"
    }
   ],
   "source": [
    "figg = sns.pointplot(x = ratios, y = minar, color = 'green')\n",
    "plt.xticks(rotation = 90)\n",
    "figg.set(xlabel = 'ratio', ylabel = 'min(error)')\n",
    "# figg.get_figure().savefig('../images/elastic_ratio2.png', dpi = 500)"
   ]
  },
  {
   "cell_type": "code",
   "execution_count": 36,
   "metadata": {},
   "outputs": [],
   "source": [
    "ar = []\n",
    "ar2 = []\n",
    "indices = []\n",
    "for i in range(1, 2500, 250):\n",
    "    alpha = i * .0001\n",
    "    test_model_61 = sklearn.linear_model.ElasticNet(copy_X = True, fit_intercept = False, alpha = alpha, l1_ratio = 0.12)    \n",
    "    test_model_61.fit(training_set, Y_training_set)\n",
    "    ar.append(rmsError(test_model_61.predict(training_set), Y_training_set))\n",
    "    ar2.append(rmsError(Y_cv_set, test_model_61.predict(cv_set)))\n",
    "    indices.append(str(alpha)[:6])"
   ]
  },
  {
   "cell_type": "code",
   "execution_count": 37,
   "metadata": {
    "scrolled": true
   },
   "outputs": [
    {
     "data": {
      "text/plain": [
       "[Text(0,0.5,'rms error'), Text(0.5,0,'alpha')]"
      ]
     },
     "execution_count": 37,
     "metadata": {},
     "output_type": "execute_result"
    },
    {
     "data": {
      "image/png": "[encoded data removed]",
      "text/plain": [
       "<Figure size 432x288 with 1 Axes>"
      ]
     },
     "metadata": {
      "needs_background": "light"
     },
     "output_type": "display_data"
    }
   ],
   "source": [
    "fig = sns.pointplot(indices, ar, color = 'red')\n",
    "fig = sns.pointplot(indices, ar2)\n",
    "plt.xticks(rotation = 90)\n",
    "fig.set(xlabel = 'alpha', ylabel = 'rms error')\n",
    "# fig.get_figure().savefig('../images/elastic_alpha.png', dpi = 500)\n",
    "# print(\"min = \", np.min(ar2))"
   ]
  },
  {
   "cell_type": "code",
   "execution_count": 38,
   "metadata": {},
   "outputs": [
    {
     "name": "stdout",
     "output_type": "stream",
     "text": [
      "min =  0.5143329657781792\n"
     ]
    },
    {
     "data": {
      "image/png": "[encoded data removed]",
      "text/plain": [
       "<Figure size 432x288 with 1 Axes>"
      ]
     },
     "metadata": {
      "needs_background": "light"
     },
     "output_type": "display_data"
    }
   ],
   "source": [
    "fig = sns.pointplot(indices, ar, color = 'red')\n",
    "fig = sns.pointplot(indices, ar2)\n",
    "plt.xticks(rotation = 90)\n",
    "fig.set(xlabel = 'alpha', ylabel = 'rms error')\n",
    "# fig.get_figure().savefig('../images/elastic_alpha.png', dpi = 500)\n",
    "print(\"min = \", np.min(ar2))"
   ]
  },
  {
   "cell_type": "code",
   "execution_count": 202,
   "metadata": {},
   "outputs": [
    {
     "name": "stdout",
     "output_type": "stream",
     "text": [
      "training error =\t 0.16779065774269597\n",
      "cv error =\t\t 0.20058204501997923\n"
     ]
    }
   ],
   "source": [
    "test_model_8 = sklearn.linear_model.Lasso(copy_X = True, max_iter = 100000, fit_intercept = False, alpha = 0.0029)\n",
    "test_model_8.fit(training_data, Y['SalePrice'])\n",
    "print(\"training error =\\t\", rmsError(test_model_8.predict(training_data), Y['SalePrice']))\n",
    "print(\"cv error =\\t\\t\", rmsError(Y_cv_set, test_model_8.predict(cv_set)))\n",
    "# print(\"alpha = \", test_model_8.alpha_)"
   ]
  },
  {
   "cell_type": "code",
   "execution_count": 96,
   "metadata": {},
   "outputs": [
    {
     "name": "stdout",
     "output_type": "stream",
     "text": [
      "training error =\t 0.38005301908107564\n",
      "cv error =\t\t 0.3449200129334893\n"
     ]
    }
   ],
   "source": [
    "# Test 4 : \n",
    "#\n",
    "############################\n",
    "test_model_4 = sklearn.linear_model.Ridge(copy_X = True, normalize = True, alpha = 0.1, tol = 0.000000001)\n",
    "test_model_4.fit(all_data_dum[ : len(train_data)], Y['SalePrice'])\n",
    "print(\"training error =\\t\", rmsError(test_model_4.predict(training_set), Y_training_set))\n",
    "print(\"cv error =\\t\\t\", rmsError(Y_cv_set, test_model_4.predict(cv_set)))"
   ]
  },
  {
   "cell_type": "code",
   "execution_count": 97,
   "metadata": {},
   "outputs": [],
   "source": [
    "temp = pd.DataFrame()\n",
    "temp['Id'] = test_data['Id']"
   ]
  },
  {
   "cell_type": "code",
   "execution_count": 98,
   "metadata": {},
   "outputs": [],
   "source": [
    "temp['SalePrice'] = pd.DataFrame(np.expm1(test_model_4.predict(all_data_dum[len(train_data) : ])))"
   ]
  },
  {
   "cell_type": "code",
   "execution_count": 100,
   "metadata": {
    "scrolled": true
   },
   "outputs": [
    {
     "data": {
      "text/html": [
       "<div>\n",
       "<style scoped>\n",
       "    .dataframe tbody tr th:only-of-type {\n",
       "        vertical-align: middle;\n",
       "    }\n",
       "\n",
       "    .dataframe tbody tr th {\n",
       "        vertical-align: top;\n",
       "    }\n",
       "\n",
       "    .dataframe thead th {\n",
       "        text-align: right;\n",
       "    }\n",
       "</style>\n",
       "<table border=\"1\" class=\"dataframe\">\n",
       "  <thead>\n",
       "    <tr style=\"text-align: right;\">\n",
       "      <th></th>\n",
       "      <th>Id</th>\n",
       "      <th>SalePrice</th>\n",
       "    </tr>\n",
       "  </thead>\n",
       "  <tbody>\n",
       "    <tr>\n",
       "      <th>0</th>\n",
       "      <td>1461</td>\n",
       "      <td>170344.965210</td>\n",
       "    </tr>\n",
       "    <tr>\n",
       "      <th>1</th>\n",
       "      <td>1462</td>\n",
       "      <td>150003.087012</td>\n",
       "    </tr>\n",
       "    <tr>\n",
       "      <th>2</th>\n",
       "      <td>1463</td>\n",
       "      <td>206102.542508</td>\n",
       "    </tr>\n",
       "    <tr>\n",
       "      <th>3</th>\n",
       "      <td>1464</td>\n",
       "      <td>129793.995445</td>\n",
       "    </tr>\n",
       "    <tr>\n",
       "      <th>4</th>\n",
       "      <td>1465</td>\n",
       "      <td>184538.237079</td>\n",
       "    </tr>\n",
       "    <tr>\n",
       "      <th>5</th>\n",
       "      <td>1466</td>\n",
       "      <td>165424.003167</td>\n",
       "    </tr>\n",
       "    <tr>\n",
       "      <th>6</th>\n",
       "      <td>1467</td>\n",
       "      <td>152255.291843</td>\n",
       "    </tr>\n",
       "    <tr>\n",
       "      <th>7</th>\n",
       "      <td>1468</td>\n",
       "      <td>187490.514148</td>\n",
       "    </tr>\n",
       "    <tr>\n",
       "      <th>8</th>\n",
       "      <td>1469</td>\n",
       "      <td>177318.449122</td>\n",
       "    </tr>\n",
       "    <tr>\n",
       "      <th>9</th>\n",
       "      <td>1470</td>\n",
       "      <td>161455.038657</td>\n",
       "    </tr>\n",
       "    <tr>\n",
       "      <th>10</th>\n",
       "      <td>1471</td>\n",
       "      <td>169983.622997</td>\n",
       "    </tr>\n",
       "    <tr>\n",
       "      <th>11</th>\n",
       "      <td>1472</td>\n",
       "      <td>152748.883846</td>\n",
       "    </tr>\n",
       "    <tr>\n",
       "      <th>12</th>\n",
       "      <td>1473</td>\n",
       "      <td>162629.007281</td>\n",
       "    </tr>\n",
       "    <tr>\n",
       "      <th>13</th>\n",
       "      <td>1474</td>\n",
       "      <td>155114.421936</td>\n",
       "    </tr>\n",
       "    <tr>\n",
       "      <th>14</th>\n",
       "      <td>1475</td>\n",
       "      <td>183893.358677</td>\n",
       "    </tr>\n",
       "    <tr>\n",
       "      <th>15</th>\n",
       "      <td>1476</td>\n",
       "      <td>180136.553317</td>\n",
       "    </tr>\n",
       "    <tr>\n",
       "      <th>16</th>\n",
       "      <td>1477</td>\n",
       "      <td>175893.577728</td>\n",
       "    </tr>\n",
       "    <tr>\n",
       "      <th>17</th>\n",
       "      <td>1478</td>\n",
       "      <td>189713.457281</td>\n",
       "    </tr>\n",
       "    <tr>\n",
       "      <th>18</th>\n",
       "      <td>1479</td>\n",
       "      <td>168015.050089</td>\n",
       "    </tr>\n",
       "    <tr>\n",
       "      <th>19</th>\n",
       "      <td>1480</td>\n",
       "      <td>178680.214623</td>\n",
       "    </tr>\n",
       "    <tr>\n",
       "      <th>20</th>\n",
       "      <td>1481</td>\n",
       "      <td>218529.377835</td>\n",
       "    </tr>\n",
       "    <tr>\n",
       "      <th>21</th>\n",
       "      <td>1482</td>\n",
       "      <td>138757.460986</td>\n",
       "    </tr>\n",
       "    <tr>\n",
       "      <th>22</th>\n",
       "      <td>1483</td>\n",
       "      <td>143237.021075</td>\n",
       "    </tr>\n",
       "    <tr>\n",
       "      <th>23</th>\n",
       "      <td>1484</td>\n",
       "      <td>135168.977745</td>\n",
       "    </tr>\n",
       "    <tr>\n",
       "      <th>24</th>\n",
       "      <td>1485</td>\n",
       "      <td>192823.300687</td>\n",
       "    </tr>\n",
       "    <tr>\n",
       "      <th>25</th>\n",
       "      <td>1486</td>\n",
       "      <td>180599.348410</td>\n",
       "    </tr>\n",
       "    <tr>\n",
       "      <th>26</th>\n",
       "      <td>1487</td>\n",
       "      <td>148514.607848</td>\n",
       "    </tr>\n",
       "    <tr>\n",
       "      <th>27</th>\n",
       "      <td>1488</td>\n",
       "      <td>158231.976861</td>\n",
       "    </tr>\n",
       "    <tr>\n",
       "      <th>28</th>\n",
       "      <td>1489</td>\n",
       "      <td>180480.031315</td>\n",
       "    </tr>\n",
       "    <tr>\n",
       "      <th>29</th>\n",
       "      <td>1490</td>\n",
       "      <td>183198.096749</td>\n",
       "    </tr>\n",
       "    <tr>\n",
       "      <th>...</th>\n",
       "      <td>...</td>\n",
       "      <td>...</td>\n",
       "    </tr>\n",
       "    <tr>\n",
       "      <th>1429</th>\n",
       "      <td>2890</td>\n",
       "      <td>167377.240115</td>\n",
       "    </tr>\n",
       "    <tr>\n",
       "      <th>1430</th>\n",
       "      <td>2891</td>\n",
       "      <td>156446.310566</td>\n",
       "    </tr>\n",
       "    <tr>\n",
       "      <th>1431</th>\n",
       "      <td>2892</td>\n",
       "      <td>157541.347222</td>\n",
       "    </tr>\n",
       "    <tr>\n",
       "      <th>1432</th>\n",
       "      <td>2893</td>\n",
       "      <td>200525.874400</td>\n",
       "    </tr>\n",
       "    <tr>\n",
       "      <th>1433</th>\n",
       "      <td>2894</td>\n",
       "      <td>161224.998729</td>\n",
       "    </tr>\n",
       "    <tr>\n",
       "      <th>1434</th>\n",
       "      <td>2895</td>\n",
       "      <td>177422.384558</td>\n",
       "    </tr>\n",
       "    <tr>\n",
       "      <th>1435</th>\n",
       "      <td>2896</td>\n",
       "      <td>162774.997958</td>\n",
       "    </tr>\n",
       "    <tr>\n",
       "      <th>1436</th>\n",
       "      <td>2897</td>\n",
       "      <td>172814.093013</td>\n",
       "    </tr>\n",
       "    <tr>\n",
       "      <th>1437</th>\n",
       "      <td>2898</td>\n",
       "      <td>160914.927967</td>\n",
       "    </tr>\n",
       "    <tr>\n",
       "      <th>1438</th>\n",
       "      <td>2899</td>\n",
       "      <td>171402.859568</td>\n",
       "    </tr>\n",
       "    <tr>\n",
       "      <th>1439</th>\n",
       "      <td>2900</td>\n",
       "      <td>184270.529025</td>\n",
       "    </tr>\n",
       "    <tr>\n",
       "      <th>1440</th>\n",
       "      <td>2901</td>\n",
       "      <td>172829.324608</td>\n",
       "    </tr>\n",
       "    <tr>\n",
       "      <th>1441</th>\n",
       "      <td>2902</td>\n",
       "      <td>161003.185062</td>\n",
       "    </tr>\n",
       "    <tr>\n",
       "      <th>1442</th>\n",
       "      <td>2903</td>\n",
       "      <td>155435.082988</td>\n",
       "    </tr>\n",
       "    <tr>\n",
       "      <th>1443</th>\n",
       "      <td>2904</td>\n",
       "      <td>180412.013898</td>\n",
       "    </tr>\n",
       "    <tr>\n",
       "      <th>1444</th>\n",
       "      <td>2905</td>\n",
       "      <td>168158.959126</td>\n",
       "    </tr>\n",
       "    <tr>\n",
       "      <th>1445</th>\n",
       "      <td>2906</td>\n",
       "      <td>155620.808463</td>\n",
       "    </tr>\n",
       "    <tr>\n",
       "      <th>1446</th>\n",
       "      <td>2907</td>\n",
       "      <td>153455.833612</td>\n",
       "    </tr>\n",
       "    <tr>\n",
       "      <th>1447</th>\n",
       "      <td>2908</td>\n",
       "      <td>177275.402274</td>\n",
       "    </tr>\n",
       "    <tr>\n",
       "      <th>1448</th>\n",
       "      <td>2909</td>\n",
       "      <td>158157.808699</td>\n",
       "    </tr>\n",
       "    <tr>\n",
       "      <th>1449</th>\n",
       "      <td>2910</td>\n",
       "      <td>168261.286301</td>\n",
       "    </tr>\n",
       "    <tr>\n",
       "      <th>1450</th>\n",
       "      <td>2911</td>\n",
       "      <td>221555.648427</td>\n",
       "    </tr>\n",
       "    <tr>\n",
       "      <th>1451</th>\n",
       "      <td>2912</td>\n",
       "      <td>164663.480008</td>\n",
       "    </tr>\n",
       "    <tr>\n",
       "      <th>1452</th>\n",
       "      <td>2913</td>\n",
       "      <td>171038.002822</td>\n",
       "    </tr>\n",
       "    <tr>\n",
       "      <th>1453</th>\n",
       "      <td>2914</td>\n",
       "      <td>176589.027399</td>\n",
       "    </tr>\n",
       "    <tr>\n",
       "      <th>1454</th>\n",
       "      <td>2915</td>\n",
       "      <td>230863.525743</td>\n",
       "    </tr>\n",
       "    <tr>\n",
       "      <th>1455</th>\n",
       "      <td>2916</td>\n",
       "      <td>169564.899708</td>\n",
       "    </tr>\n",
       "    <tr>\n",
       "      <th>1456</th>\n",
       "      <td>2917</td>\n",
       "      <td>183704.022912</td>\n",
       "    </tr>\n",
       "    <tr>\n",
       "      <th>1457</th>\n",
       "      <td>2918</td>\n",
       "      <td>154109.966606</td>\n",
       "    </tr>\n",
       "    <tr>\n",
       "      <th>1458</th>\n",
       "      <td>2919</td>\n",
       "      <td>150196.024332</td>\n",
       "    </tr>\n",
       "  </tbody>\n",
       "</table>\n",
       "<p>1459 rows × 2 columns</p>\n",
       "</div>"
      ],
      "text/plain": [
       "        Id      SalePrice\n",
       "0     1461  170344.965210\n",
       "1     1462  150003.087012\n",
       "2     1463  206102.542508\n",
       "3     1464  129793.995445\n",
       "4     1465  184538.237079\n",
       "5     1466  165424.003167\n",
       "6     1467  152255.291843\n",
       "7     1468  187490.514148\n",
       "8     1469  177318.449122\n",
       "9     1470  161455.038657\n",
       "10    1471  169983.622997\n",
       "11    1472  152748.883846\n",
       "12    1473  162629.007281\n",
       "13    1474  155114.421936\n",
       "14    1475  183893.358677\n",
       "15    1476  180136.553317\n",
       "16    1477  175893.577728\n",
       "17    1478  189713.457281\n",
       "18    1479  168015.050089\n",
       "19    1480  178680.214623\n",
       "20    1481  218529.377835\n",
       "21    1482  138757.460986\n",
       "22    1483  143237.021075\n",
       "23    1484  135168.977745\n",
       "24    1485  192823.300687\n",
       "25    1486  180599.348410\n",
       "26    1487  148514.607848\n",
       "27    1488  158231.976861\n",
       "28    1489  180480.031315\n",
       "29    1490  183198.096749\n",
       "...    ...            ...\n",
       "1429  2890  167377.240115\n",
       "1430  2891  156446.310566\n",
       "1431  2892  157541.347222\n",
       "1432  2893  200525.874400\n",
       "1433  2894  161224.998729\n",
       "1434  2895  177422.384558\n",
       "1435  2896  162774.997958\n",
       "1436  2897  172814.093013\n",
       "1437  2898  160914.927967\n",
       "1438  2899  171402.859568\n",
       "1439  2900  184270.529025\n",
       "1440  2901  172829.324608\n",
       "1441  2902  161003.185062\n",
       "1442  2903  155435.082988\n",
       "1443  2904  180412.013898\n",
       "1444  2905  168158.959126\n",
       "1445  2906  155620.808463\n",
       "1446  2907  153455.833612\n",
       "1447  2908  177275.402274\n",
       "1448  2909  158157.808699\n",
       "1449  2910  168261.286301\n",
       "1450  2911  221555.648427\n",
       "1451  2912  164663.480008\n",
       "1452  2913  171038.002822\n",
       "1453  2914  176589.027399\n",
       "1454  2915  230863.525743\n",
       "1455  2916  169564.899708\n",
       "1456  2917  183704.022912\n",
       "1457  2918  154109.966606\n",
       "1458  2919  150196.024332\n",
       "\n",
       "[1459 rows x 2 columns]"
      ]
     },
     "execution_count": 100,
     "metadata": {},
     "output_type": "execute_result"
    }
   ],
   "source": [
    "temp"
   ]
  },
  {
   "cell_type": "code",
   "execution_count": 102,
   "metadata": {},
   "outputs": [],
   "source": [
    "temp.to_csv('../Output/out.csv', index = False)"
   ]
  },
  {
   "cell_type": "code",
   "execution_count": null,
   "metadata": {},
   "outputs": [],
   "source": []
  }
 ],
 "metadata": {
  "kernelspec": {
   "display_name": "Python 3",
   "language": "python",
   "name": "python3"
  },
  "language_info": {
   "codemirror_mode": {
    "name": "ipython",
    "version": 3
   },
   "file_extension": ".py",
   "mimetype": "text/x-python",
   "name": "python",
   "nbconvert_exporter": "python",
   "pygments_lexer": "ipython3",
   "version": "3.7.0"
  }
 },
 "nbformat": 4,
 "nbformat_minor": 2
}
