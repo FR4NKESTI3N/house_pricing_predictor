{
 "cells": [
  {
   "cell_type": "code",
   "execution_count": 1,
   "metadata": {},
   "outputs": [],
   "source": [
    "import numpy as np,\\\n",
    "pandas as pd,\\\n",
    "seaborn as sns,\\\n",
    "matplotlib.pyplot as plt,\\\n",
    "sklearn.preprocessing as Scaler\n",
    "\n",
    "import sklearn\n",
    "from sklearn import linear_model\n",
    "from sklearn import preprocessing\n",
    "\n",
    "from scipy import stats\n",
    "\n",
    "import warnings\n",
    "warnings.filterwarnings('ignore')\n",
    "\n",
    "%matplotlib inline\n",
    "\n",
    "pd.set_option('display.float_format', lambda x: '{:.4f}'.format(x))"
   ]
  },
  {
   "cell_type": "code",
   "execution_count": 2,
   "metadata": {},
   "outputs": [],
   "source": [
    "train_data = pd.read_csv('../input/train.csv')\n",
    "test_data = pd.read_csv('../input/test.csv')"
   ]
  },
  {
   "cell_type": "code",
   "execution_count": 3,
   "metadata": {},
   "outputs": [],
   "source": [
    "features_to_drop = ['GarageArea', 'TotRmsAbvGrd', 'TotalBsmtSF', 'Utilities']\n",
    "\n",
    "features_to_trans = ['MiscVal', 'PoolArea', 'LotArea', '3SsnPorch', 'LowQualFinSF',\n",
    "                     'KitchenAbvGr', 'BsmtFinSF2', 'ScreenPorch', 'BsmtHalfBath',\n",
    "                     'EnclosedPorch', 'MasVnrArea', 'OpenPorchSF', 'LotFrontage',\n",
    "                     'BsmtFinSF1', 'WoodDeckSF', '1stFlrSF',\n",
    "                     'GrLivArea', 'BsmtUnfSF', '2ndFlrSF', 'HalfBath']\n",
    "\n",
    "features_categorical = ['LotShape', 'OverallQual', 'OverallCond', 'LandContour', 'LotConfig',\n",
    "                        'GarageFinish', 'GarageQual', 'GarageCond', 'PavedDrive',\n",
    "                        'PoolQC', 'Fence', 'MiscFeature', 'SaleType', 'SaleCondition', 'MSZoning', 'MSSubClass',\n",
    "                        'Street', 'Alley', 'LandSlope', 'Neighborhood', 'Condition1', 'Condition2', 'BldgType',\n",
    "                        'HouseStyle', 'RoofStyle', 'RoofMatl', 'Exterior1st', 'Exterior2nd', 'MasVnrType', 'ExterQual',\n",
    "                        'ExterCond', 'Foundation', 'BsmtQual', 'BsmtCond', 'BsmtExposure', 'BsmtFinType1', 'BsmtFinType2',\n",
    "                        'Heating', 'HeatingQC', 'CentralAir', 'Electrical', 'KitchenQual', 'Functional', 'FireplaceQu',\n",
    "                        'GarageType']\n",
    "\n",
    "features_numerical = ['LotFrontage', 'LotArea', 'MasVnrArea', 'BsmtFinSF1', 'BsmtFinSF2', 'BsmtUnfSF', '1stFlrSF',\n",
    "                      '2ndFlrSF', 'LowQualFinSF', 'GrLivArea', 'BsmtFullBath', 'BsmtHalfBath', 'FullBath', 'HalfBath',\n",
    "                      'BedroomAbvGr', 'KitchenAbvGr', 'Fireplaces', 'GarageCars', 'WoodDeckSF', 'YrSold', 'YearBuilt',\n",
    "                      'OpenPorchSF', 'EnclosedPorch', '3SsnPorch', 'ScreenPorch', 'PoolArea', 'MiscVal', 'GarageYrBlt',\n",
    "                      'YearRemodAdd','MoSold']"
   ]
  },
  {
   "cell_type": "code",
   "execution_count": 4,
   "metadata": {},
   "outputs": [],
   "source": [
    "features_na_null = ['GarageFinish', 'GarageQual', 'GarageCond', 'PoolQC', 'Fence', 'MiscFeature', 'MSSubClass', 'Alley',\n",
    "                   'MasVnrType', 'BsmtQual', 'BsmtCond', 'BsmtExposure', 'BsmtFinType1', 'BsmtFinType2', 'FireplaceQu',\n",
    "                   'GarageType']\n",
    "\n",
    "features_na_zero = ['GarageYrBlt', 'GarageCars', 'BsmtFinSF1', 'BsmtFinSF2', 'BsmtUnfSF', 'BsmtFullBath', 'BsmtHalfBath',\n",
    "                   'MasVnrArea']"
   ]
  },
  {
   "cell_type": "code",
   "execution_count": 5,
   "metadata": {},
   "outputs": [],
   "source": [
    "# Randomize train_data before splitting\n",
    "#\n",
    "########################################\n",
    "train_data = train_data.sample(frac = 1).reset_index(drop = True)\n",
    "Y = train_data[['Id', 'SalePrice']]\n",
    "all_data = pd.concat((train_data.drop(columns = ['SalePrice']), test_data))"
   ]
  },
  {
   "cell_type": "code",
   "execution_count": 6,
   "metadata": {},
   "outputs": [],
   "source": [
    "# Drop features and fill NA\n",
    "#\n",
    "#########################################\n",
    "\n",
    "all_data = all_data.drop(columns = features_to_drop)\n",
    "\n",
    "all_data['MSZoning'] = all_data['MSZoning'].fillna('RL')\n",
    "all_data['Functional'] = all_data['Functional'].fillna('Typ')\n",
    "all_data['Electrical'] = all_data['Electrical'].fillna('SBrkr')\n",
    "all_data['SaleType'] = all_data['SaleType'].fillna('WD')\n",
    "all_data['KitchenQual'] = all_data['KitchenQual'].fillna('TA')\n",
    "all_data['Exterior1st'] = all_data['Exterior1st'].fillna('VinylSd')\n",
    "all_data['Exterior2nd'] = all_data['Exterior2nd'].fillna('VinylSd')\n",
    "\n",
    "all_data[features_na_null] = all_data[features_na_null].fillna(\"None\")\n",
    "\n",
    "all_data['LotFrontage'] = all_data.groupby(\"Neighborhood\")[\"LotFrontage\"].transform(lambda col: \n",
    "                                                                                    col.fillna(col.dropna().median()))\n",
    "\n",
    "all_data[features_na_zero] = all_data[features_na_zero].fillna(0)\n"
   ]
  },
  {
   "cell_type": "code",
   "execution_count": 7,
   "metadata": {},
   "outputs": [],
   "source": [
    "# Apply log transform\n",
    "#\n",
    "#########################################\n",
    "\n",
    "Y['SalePrice'] = np.log1p(Y['SalePrice'])\n",
    "all_data[features_to_trans] = np.log1p(all_data[features_to_trans])"
   ]
  },
  {
   "cell_type": "code",
   "execution_count": 8,
   "metadata": {},
   "outputs": [],
   "source": [
    "# label encode features\n",
    "#\n",
    "##################################\n",
    "\n",
    "# for col in features_categorical:\n",
    "# # for col in cols:\n",
    "#     le = sklearn.preprocessing.LabelEncoder()\n",
    "#     le.fit(list(all_data[col].values))\n",
    "#     all_data[col] = le.transform(list(all_data[col].values))"
   ]
  },
  {
   "cell_type": "code",
   "execution_count": 9,
   "metadata": {},
   "outputs": [],
   "source": [
    "###### assign dummy variable\n",
    "#\n",
    "#######################################\n",
    "\n",
    "all_data_dum = pd.get_dummies(all_data.drop('Id', axis = 1))"
   ]
  },
  {
   "cell_type": "code",
   "execution_count": 10,
   "metadata": {},
   "outputs": [],
   "source": [
    "# Convert Fake numerical Features to strings\n",
    "# \n",
    "#######################################\n",
    "# all_data_dum[['OverallQual', 'OverallCond', 'YearBuilt', 'MSSubClass']] = all_data_dum[\n",
    "#     ['OverallQual', 'OverallCond', 'YearBuilt', 'MSSubClass']].astype(str)"
   ]
  },
  {
   "cell_type": "code",
   "execution_count": 11,
   "metadata": {},
   "outputs": [],
   "source": [
    "def rmsError(x, y):\n",
    "    return np.sqrt(np.sum(np.power(x - y, 2)) / len(x))"
   ]
  },
  {
   "cell_type": "code",
   "execution_count": 12,
   "metadata": {},
   "outputs": [],
   "source": [
    "training_data = all_data_dum[:len(train_data)]"
   ]
  },
  {
   "cell_type": "code",
   "execution_count": 13,
   "metadata": {},
   "outputs": [],
   "source": [
    "training_set = training_data[ : -400]\n",
    "Y_training_set = Y['SalePrice'][ : -400]\n",
    "# Y_training_set = Y[ : -400]\n",
    "\n",
    "cv_set = training_data[-400 : ]\n",
    "Y_cv_set = Y['SalePrice'][-400 : ]\n",
    "# Y_cv_set = Y[-400 : ]"
   ]
  },
  {
   "cell_type": "code",
   "execution_count": 14,
   "metadata": {},
   "outputs": [
    {
     "name": "stdout",
     "output_type": "stream",
     "text": [
      "training error =\t 0.08568487595309428\n",
      "cv error =\t\t 0.17514123076691784\n"
     ]
    }
   ],
   "source": [
    "# test 1 : no regression, intercept calculation, no normalization\n",
    "#\n",
    "######################\n",
    "test_model_1 = sklearn.linear_model.LinearRegression(copy_X = True)\n",
    "test_model_1.fit(training_set, Y_training_set)\n",
    "print(\"training error =\\t\", rmsError(test_model_1.predict(training_set), Y_training_set))\n",
    "print(\"cv error =\\t\\t\", rmsError(Y_cv_set, test_model_1.predict(cv_set)))"
   ]
  },
  {
   "cell_type": "code",
   "execution_count": 15,
   "metadata": {},
   "outputs": [
    {
     "name": "stdout",
     "output_type": "stream",
     "text": [
      "training error =\t 0.08521837062700026\n",
      "cv error =\t\t 7243140259.125728\n"
     ]
    }
   ],
   "source": [
    "# test 1.1 : no regression, intercept calculation, normalization\n",
    "#\n",
    "######################\n",
    "test_model_11 = sklearn.linear_model.LinearRegression(copy_X = True, normalize = True)\n",
    "test_model_11.fit(training_set, Y_training_set)\n",
    "print(\"training error =\\t\", rmsError(test_model_11.predict(training_set), Y_training_set))\n",
    "print(\"cv error =\\t\\t\", rmsError(Y_cv_set, test_model_11.predict(cv_set)))"
   ]
  },
  {
   "cell_type": "code",
   "execution_count": 16,
   "metadata": {},
   "outputs": [
    {
     "name": "stdout",
     "output_type": "stream",
     "text": [
      "training error =\t 0.08521790913688983\n",
      "cv error =\t\t 0.14164977742266277\n"
     ]
    }
   ],
   "source": [
    "# test 1.2 : no regression, no intercept calculation\n",
    "#\n",
    "######################\n",
    "test_model_12 = sklearn.linear_model.LinearRegression(copy_X = True, fit_intercept = False)\n",
    "test_model_12.fit(training_set, Y_training_set)\n",
    "print(\"training error =\\t\", rmsError(test_model_12.predict(training_set), Y_training_set))\n",
    "print(\"cv error =\\t\\t\", rmsError(Y_cv_set, test_model_12.predict(cv_set)))"
   ]
  },
  {
   "cell_type": "code",
   "execution_count": 17,
   "metadata": {},
   "outputs": [
    {
     "name": "stdout",
     "output_type": "stream",
     "text": [
      "training error =\t 0.0953172954704087\n",
      "cv error =\t\t 0.13119873974618163\n"
     ]
    }
   ],
   "source": [
    "# Test 2 : Ridge Regression\n",
    "#\n",
    "############################\n",
    "test_model_2 = sklearn.linear_model.Ridge(copy_X = True, fit_intercept = True, alpha = 3.1, tol = 0.000000001, max_iter = 10000000)\n",
    "test_model_2.fit(training_set, Y_training_set)\n",
    "print(\"training error =\\t\", rmsError(test_model_2.predict(training_set), Y_training_set))\n",
    "print(\"cv error =\\t\\t\", rmsError(Y_cv_set, test_model_2.predict(cv_set)))"
   ]
  },
  {
   "cell_type": "code",
   "execution_count": 138,
   "metadata": {},
   "outputs": [
    {
     "data": {
      "text/plain": [
       "(array([ 0,  1,  2,  3,  4,  5,  6,  7,  8,  9, 10, 11, 12, 13, 14, 15, 16,\n",
       "        17, 18, 19]), <a list of 20 Text xticklabel objects>)"
      ]
     },
     "execution_count": 138,
     "metadata": {},
     "output_type": "execute_result"
    },
    {
     "data": {
      "image/png": "[encoded data removed]",
      "text/plain": [
       "<Figure size 432x288 with 1 Axes>"
      ]
     },
     "metadata": {
      "needs_background": "light"
     },
     "output_type": "display_data"
    }
   ],
   "source": [
    "# Ridge alpha plot\n",
    "#\n",
    "############################\n",
    "ar = []\n",
    "ar2 = []\n",
    "indices = []\n",
    "for i in range(1, 100, 5):\n",
    "    alpha = i * 0.1\n",
    "#     alpha = (alpha * 1000) / 1000\n",
    "    test_model_21 = sklearn.linear_model.Ridge(copy_X = True, fit_intercept = True, alpha = alpha, max_iter = 1000)\n",
    "    test_model_21.fit(training_set, Y_training_set)\n",
    "    ar.append(rmsError(test_model_21.predict(training_set), Y_training_set))\n",
    "    ar2.append(rmsError(Y_cv_set, test_model_21.predict(cv_set)))\n",
    "    indices.append(str(alpha)[:5])\n",
    "    \n",
    "fig = sns.pointplot(indices, ar, color = 'red', markers = '')\n",
    "fig = sns.pointplot(indices, ar2, markers = '')\n",
    "fig.set(xlabel = 'alpha', ylabel = 'rms error')\n",
    "plt.xticks(rotation = 90)\n",
    "# fig.get_figure().savefig('../images/ridge_alpha.png', dpi = 500)"
   ]
  },
  {
   "cell_type": "code",
   "execution_count": 236,
   "metadata": {},
   "outputs": [
    {
     "name": "stdout",
     "output_type": "stream",
     "text": [
      "training error =\t 0.09753043395460781\n",
      "cv error =\t\t 0.12247957997315283\n"
     ]
    }
   ],
   "source": [
    "test_model_23 = sklearn.linear_model.Ridge(fit_intercept = True, alpha = 3.1, max_iter = 10000000)\n",
    "test_model_23.fit(training_set, Y_training_set)\n",
    "print(\"training error =\\t\", rmsError(test_model_23.predict(training_set), Y_training_set))\n",
    "print(\"cv error =\\t\\t\", rmsError(Y_cv_set, test_model_23.predict(cv_set)))\n",
    "# print(\"alpha = \", test_model_23.alpha_)"
   ]
  },
  {
   "cell_type": "code",
   "execution_count": 237,
   "metadata": {},
   "outputs": [
    {
     "data": {
      "text/plain": [
       "(array([ 0,  1,  2,  3,  4,  5,  6,  7,  8,  9, 10, 11, 12, 13, 14, 15, 16,\n",
       "        17, 18, 19, 20, 21, 22, 23, 24, 25, 26, 27, 28, 29, 30, 31]),\n",
       " <a list of 32 Text xticklabel objects>)"
      ]
     },
     "execution_count": 237,
     "metadata": {},
     "output_type": "execute_result"
    },
    {
     "data": {
      "image/png": "[encoded data removed]",
      "text/plain": [
       "<Figure size 432x288 with 1 Axes>"
      ]
     },
     "metadata": {
      "needs_background": "light"
     },
     "output_type": "display_data"
    }
   ],
   "source": [
    "# ridge learning curve\n",
    "#\n",
    "####################################\n",
    "ar = []\n",
    "ar2 = []\n",
    "indices = []\n",
    "for i in range(100, len(training_set), 30):\n",
    "#     alpha = i*.1\n",
    "    test_model_22= sklearn.linear_model.Ridge(copy_X = True, fit_intercept = True, alpha = 3.1, max_iter = 10000000)\n",
    "    test_model_22.fit(training_set[ : i], Y_training_set[ : i])\n",
    "    ar.append(rmsError(test_model_22.predict(training_set), Y_training_set))\n",
    "    ar2.append(rmsError(Y_cv_set, test_model_22.predict(cv_set)))\n",
    "    indices.append(i)\n",
    "\n",
    "fig = sns.pointplot(indices, ar, color = 'red', legend = True)\n",
    "fig = sns.pointplot(indices, ar2)\n",
    "fig.set(xlabel = 'no. of samples', ylabel = 'rms error')\n",
    "plt.xticks(rotation = 90)\n",
    "# fig.get_figure().savefig('../images/ridge_m.png', dpi = 500)"
   ]
  },
  {
   "cell_type": "code",
   "execution_count": 24,
   "metadata": {},
   "outputs": [
    {
     "name": "stdout",
     "output_type": "stream",
     "text": [
      "training error =\t 0.10158437544150359\n",
      "cv error =\t\t 0.15391547993945878\n"
     ]
    }
   ],
   "source": [
    "# Test 3 : Lasso Regression\n",
    "#\n",
    "############################\n",
    "test_model_3 = sklearn.linear_model.Lasso(copy_X = True, fit_intercept = True, alpha = .0008, tol = 0.00000000001,\n",
    "                                          max_iter = 1000000000)\n",
    "test_model_3.fit(training_set, Y_training_set)\n",
    "print(\"training error =\\t\", rmsError(test_model_3.predict(training_set), Y_training_set))\n",
    "print(\"cv error =\\t\\t\", rmsError(Y_cv_set, test_model_3.predict(cv_set)))"
   ]
  },
  {
   "cell_type": "code",
   "execution_count": 239,
   "metadata": {},
   "outputs": [
    {
     "data": {
      "text/plain": [
       "(array([ 0,  1,  2,  3,  4,  5,  6,  7,  8,  9, 10, 11, 12]),\n",
       " <a list of 13 Text xticklabel objects>)"
      ]
     },
     "execution_count": 239,
     "metadata": {},
     "output_type": "execute_result"
    },
    {
     "data": {
      "image/png": "[encoded data removed]",
      "text/plain": [
       "<Figure size 432x288 with 1 Axes>"
      ]
     },
     "metadata": {
      "needs_background": "light"
     },
     "output_type": "display_data"
    }
   ],
   "source": [
    "# Lasso alpha plot\n",
    "#\n",
    "############################\n",
    "ar = []\n",
    "ar2 = []\n",
    "indices = []\n",
    "for i in range(1, 10000, 250):\n",
    "    alpha = i * 0.0000001\n",
    "#     alpha = (alpha * 1000) / 1000\n",
    "    test_model_31 = sklearn.linear_model.Lasso(copy_X = True, fit_intercept = True, alpha = alpha,\n",
    "                                               max_iter = 10000)\n",
    "    test_model_31.fit(training_set, Y_training_set)\n",
    "    ar.append(rmsError(test_model_31.predict(training_set), Y_training_set))\n",
    "    ar2.append(rmsError(Y_cv_set, test_model_31.predict(cv_set)))\n",
    "    indices.append(str(alpha)[:6])\n",
    "    \n",
    "fig = sns.pointplot(indices, ar, color = 'red', legend = True)\n",
    "fig = sns.pointplot(indices, ar2)\n",
    "fig.set(xlabel = 'alpha', ylabel = 'rms error')\n",
    "plt.xticks(rotation = 90)\n",
    "# fig.get_figure().savefig('../images/lasso_alpha.png', dpi = 500)"
   ]
  },
  {
   "cell_type": "code",
   "execution_count": 182,
   "metadata": {},
   "outputs": [
    {
     "data": {
      "image/png": "[encoded data removed]",
      "text/plain": [
       "<Figure size 432x288 with 1 Axes>"
      ]
     },
     "metadata": {
      "needs_background": "light"
     },
     "output_type": "display_data"
    }
   ],
   "source": [
    "# lasso learning curve\n",
    "#\n",
    "####################################\n",
    "ar = []\n",
    "ar2 = []\n",
    "indices = []\n",
    "for i in range(100, len(training_set), 40):\n",
    "#     alpha = i*.1\n",
    "    test_model_32= sklearn.linear_model.Ridge(copy_X = True, fit_intercept = True, alpha = 0.0002, max_iter = 10000000)\n",
    "    test_model_32.fit(training_set[ : i], Y_training_set[ : i])\n",
    "    ar.append(rmsError(test_model_32.predict(training_set), Y_training_set))\n",
    "    ar2.append(rmsError(Y_cv_set, test_model_32.predict(cv_set)))\n",
    "    indices.append(i)\n",
    "\n",
    "fig = sns.pointplot(indices, ar, color = 'red', legend = True)\n",
    "fig = sns.pointplot(indices, ar2)\n",
    "fig.set(xlabel = 'no. of samples', ylabel = 'rms error')\n",
    "plt.xticks(rotation = 90)\n",
    "# fig.get_figure().savefig('../images/lasso_m.png', dpi = 500)"
   ]
  },
  {
   "cell_type": "code",
   "execution_count": 196,
   "metadata": {},
   "outputs": [
    {
     "data": {
      "image/png": "[encoded data removed]",
      "text/plain": [
       "<Figure size 432x288 with 1 Axes>"
      ]
     },
     "metadata": {
      "needs_background": "light"
     },
     "output_type": "display_data"
    }
   ],
   "source": [
    "minar = []\n",
    "ratios = []\n",
    "for r in range(1, 100, 5):\n",
    "#     print(r)\n",
    "#     ratio = r * .01\n",
    "    ratio = 0.99 + r * 0.0001\n",
    "    ar = []\n",
    "    ar2 = []\n",
    "    indices = []\n",
    "    for i in range(1, 2500, 250):\n",
    "        alpha = i * .0001\n",
    "        test_model_4 = sklearn.linear_model.ElasticNet(copy_X = True, fit_intercept = True, alpha = alpha, l1_ratio = ratio)    \n",
    "        test_model_4.fit(training_set, Y_training_set)\n",
    "        ar.append(rmsError(test_model_4.predict(training_set), Y_training_set))\n",
    "        ar2.append(rmsError(Y_cv_set, test_model_4.predict(cv_set)))\n",
    "        indices.append(str(alpha)[:6])\n",
    "    minar.append(np.min(ar2))\n",
    "    ratios.append(str(ratio)[:6])\n",
    "\n",
    "figg = sns.pointplot(x = ratios, y = minar, color = 'green')\n",
    "plt.xticks(rotation = 90)\n",
    "figg.set(xlabel = 'ratio', ylabel = 'min(error)')\n",
    "figg.get_figure().savefig('../images/elastic_ratio2.png', dpi = 500)"
   ]
  },
  {
   "cell_type": "code",
   "execution_count": 18,
   "metadata": {},
   "outputs": [
    {
     "name": "stdout",
     "output_type": "stream",
     "text": [
      "training error =\t 0.10979237930373979\n",
      "cv error =\t\t 0.1180106331463776\n",
      "0.0007700000000000001\n"
     ]
    }
   ],
   "source": [
    "# Lasso output\n",
    "#\n",
    "############################\n",
    "test_model_5 = sklearn.linear_model.LassoCV(copy_X = True, fit_intercept = True,\n",
    "                                            alphas = [x * .00001 for x in range(1,200, 2)], tol = 0.0000000001, max_iter = 1000000000)\n",
    "test_model_5.fit(training_data, Y['SalePrice'])\n",
    "print(\"training error =\\t\", rmsError(test_model_5.predict(training_set), Y_training_set))\n",
    "print(\"cv error =\\t\\t\", rmsError(Y_cv_set, test_model_5.predict(cv_set)))\n",
    "print(test_model_5.alpha_)"
   ]
  },
  {
   "cell_type": "code",
   "execution_count": 19,
   "metadata": {},
   "outputs": [],
   "source": [
    "output = test_data[['Id']]"
   ]
  },
  {
   "cell_type": "code",
   "execution_count": 23,
   "metadata": {
    "scrolled": true
   },
   "outputs": [
    {
     "data": {
      "text/html": [
       "<div>\n",
       "<style scoped>\n",
       "    .dataframe tbody tr th:only-of-type {\n",
       "        vertical-align: middle;\n",
       "    }\n",
       "\n",
       "    .dataframe tbody tr th {\n",
       "        vertical-align: top;\n",
       "    }\n",
       "\n",
       "    .dataframe thead th {\n",
       "        text-align: right;\n",
       "    }\n",
       "</style>\n",
       "<table border=\"1\" class=\"dataframe\">\n",
       "  <thead>\n",
       "    <tr style=\"text-align: right;\">\n",
       "      <th></th>\n",
       "      <th>Id</th>\n",
       "      <th>SalePrice</th>\n",
       "    </tr>\n",
       "  </thead>\n",
       "  <tbody>\n",
       "    <tr>\n",
       "      <th>0</th>\n",
       "      <td>1461</td>\n",
       "      <td>118323.8218</td>\n",
       "    </tr>\n",
       "    <tr>\n",
       "      <th>1</th>\n",
       "      <td>1462</td>\n",
       "      <td>151451.7979</td>\n",
       "    </tr>\n",
       "    <tr>\n",
       "      <th>2</th>\n",
       "      <td>1463</td>\n",
       "      <td>180854.6320</td>\n",
       "    </tr>\n",
       "    <tr>\n",
       "      <th>3</th>\n",
       "      <td>1464</td>\n",
       "      <td>200596.9787</td>\n",
       "    </tr>\n",
       "    <tr>\n",
       "      <th>4</th>\n",
       "      <td>1465</td>\n",
       "      <td>202548.1055</td>\n",
       "    </tr>\n",
       "    <tr>\n",
       "      <th>5</th>\n",
       "      <td>1466</td>\n",
       "      <td>170974.7736</td>\n",
       "    </tr>\n",
       "    <tr>\n",
       "      <th>6</th>\n",
       "      <td>1467</td>\n",
       "      <td>182064.1229</td>\n",
       "    </tr>\n",
       "    <tr>\n",
       "      <th>7</th>\n",
       "      <td>1468</td>\n",
       "      <td>159721.7655</td>\n",
       "    </tr>\n",
       "    <tr>\n",
       "      <th>8</th>\n",
       "      <td>1469</td>\n",
       "      <td>199215.5484</td>\n",
       "    </tr>\n",
       "    <tr>\n",
       "      <th>9</th>\n",
       "      <td>1470</td>\n",
       "      <td>116847.0973</td>\n",
       "    </tr>\n",
       "    <tr>\n",
       "      <th>10</th>\n",
       "      <td>1471</td>\n",
       "      <td>194320.8273</td>\n",
       "    </tr>\n",
       "    <tr>\n",
       "      <th>11</th>\n",
       "      <td>1472</td>\n",
       "      <td>99635.0160</td>\n",
       "    </tr>\n",
       "    <tr>\n",
       "      <th>12</th>\n",
       "      <td>1473</td>\n",
       "      <td>94692.3567</td>\n",
       "    </tr>\n",
       "    <tr>\n",
       "      <th>13</th>\n",
       "      <td>1474</td>\n",
       "      <td>146663.7657</td>\n",
       "    </tr>\n",
       "    <tr>\n",
       "      <th>14</th>\n",
       "      <td>1475</td>\n",
       "      <td>108468.3984</td>\n",
       "    </tr>\n",
       "    <tr>\n",
       "      <th>15</th>\n",
       "      <td>1476</td>\n",
       "      <td>347067.9910</td>\n",
       "    </tr>\n",
       "    <tr>\n",
       "      <th>16</th>\n",
       "      <td>1477</td>\n",
       "      <td>243690.5873</td>\n",
       "    </tr>\n",
       "    <tr>\n",
       "      <th>17</th>\n",
       "      <td>1478</td>\n",
       "      <td>295687.2498</td>\n",
       "    </tr>\n",
       "    <tr>\n",
       "      <th>18</th>\n",
       "      <td>1479</td>\n",
       "      <td>293450.9867</td>\n",
       "    </tr>\n",
       "    <tr>\n",
       "      <th>19</th>\n",
       "      <td>1480</td>\n",
       "      <td>449752.1954</td>\n",
       "    </tr>\n",
       "    <tr>\n",
       "      <th>20</th>\n",
       "      <td>1481</td>\n",
       "      <td>324215.5408</td>\n",
       "    </tr>\n",
       "    <tr>\n",
       "      <th>21</th>\n",
       "      <td>1482</td>\n",
       "      <td>212759.4102</td>\n",
       "    </tr>\n",
       "    <tr>\n",
       "      <th>22</th>\n",
       "      <td>1483</td>\n",
       "      <td>180549.2506</td>\n",
       "    </tr>\n",
       "    <tr>\n",
       "      <th>23</th>\n",
       "      <td>1484</td>\n",
       "      <td>158643.1134</td>\n",
       "    </tr>\n",
       "    <tr>\n",
       "      <th>24</th>\n",
       "      <td>1485</td>\n",
       "      <td>200553.2410</td>\n",
       "    </tr>\n",
       "    <tr>\n",
       "      <th>25</th>\n",
       "      <td>1486</td>\n",
       "      <td>197947.3946</td>\n",
       "    </tr>\n",
       "    <tr>\n",
       "      <th>26</th>\n",
       "      <td>1487</td>\n",
       "      <td>326929.2821</td>\n",
       "    </tr>\n",
       "    <tr>\n",
       "      <th>27</th>\n",
       "      <td>1488</td>\n",
       "      <td>239547.3112</td>\n",
       "    </tr>\n",
       "    <tr>\n",
       "      <th>28</th>\n",
       "      <td>1489</td>\n",
       "      <td>188639.2254</td>\n",
       "    </tr>\n",
       "    <tr>\n",
       "      <th>29</th>\n",
       "      <td>1490</td>\n",
       "      <td>237888.9214</td>\n",
       "    </tr>\n",
       "    <tr>\n",
       "      <th>...</th>\n",
       "      <td>...</td>\n",
       "      <td>...</td>\n",
       "    </tr>\n",
       "    <tr>\n",
       "      <th>1429</th>\n",
       "      <td>2890</td>\n",
       "      <td>80537.0852</td>\n",
       "    </tr>\n",
       "    <tr>\n",
       "      <th>1430</th>\n",
       "      <td>2891</td>\n",
       "      <td>135696.9504</td>\n",
       "    </tr>\n",
       "    <tr>\n",
       "      <th>1431</th>\n",
       "      <td>2892</td>\n",
       "      <td>47885.9376</td>\n",
       "    </tr>\n",
       "    <tr>\n",
       "      <th>1432</th>\n",
       "      <td>2893</td>\n",
       "      <td>77156.6213</td>\n",
       "    </tr>\n",
       "    <tr>\n",
       "      <th>1433</th>\n",
       "      <td>2894</td>\n",
       "      <td>58256.1889</td>\n",
       "    </tr>\n",
       "    <tr>\n",
       "      <th>1434</th>\n",
       "      <td>2895</td>\n",
       "      <td>332160.6560</td>\n",
       "    </tr>\n",
       "    <tr>\n",
       "      <th>1435</th>\n",
       "      <td>2896</td>\n",
       "      <td>276199.6118</td>\n",
       "    </tr>\n",
       "    <tr>\n",
       "      <th>1436</th>\n",
       "      <td>2897</td>\n",
       "      <td>215313.9680</td>\n",
       "    </tr>\n",
       "    <tr>\n",
       "      <th>1437</th>\n",
       "      <td>2898</td>\n",
       "      <td>153289.8884</td>\n",
       "    </tr>\n",
       "    <tr>\n",
       "      <th>1438</th>\n",
       "      <td>2899</td>\n",
       "      <td>212364.3404</td>\n",
       "    </tr>\n",
       "    <tr>\n",
       "      <th>1439</th>\n",
       "      <td>2900</td>\n",
       "      <td>159827.3869</td>\n",
       "    </tr>\n",
       "    <tr>\n",
       "      <th>1440</th>\n",
       "      <td>2901</td>\n",
       "      <td>215514.2924</td>\n",
       "    </tr>\n",
       "    <tr>\n",
       "      <th>1441</th>\n",
       "      <td>2902</td>\n",
       "      <td>188350.1121</td>\n",
       "    </tr>\n",
       "    <tr>\n",
       "      <th>1442</th>\n",
       "      <td>2903</td>\n",
       "      <td>318793.1180</td>\n",
       "    </tr>\n",
       "    <tr>\n",
       "      <th>1443</th>\n",
       "      <td>2904</td>\n",
       "      <td>340868.5347</td>\n",
       "    </tr>\n",
       "    <tr>\n",
       "      <th>1444</th>\n",
       "      <td>2905</td>\n",
       "      <td>88015.9385</td>\n",
       "    </tr>\n",
       "    <tr>\n",
       "      <th>1445</th>\n",
       "      <td>2906</td>\n",
       "      <td>202840.1380</td>\n",
       "    </tr>\n",
       "    <tr>\n",
       "      <th>1446</th>\n",
       "      <td>2907</td>\n",
       "      <td>117274.6902</td>\n",
       "    </tr>\n",
       "    <tr>\n",
       "      <th>1447</th>\n",
       "      <td>2908</td>\n",
       "      <td>131745.9935</td>\n",
       "    </tr>\n",
       "    <tr>\n",
       "      <th>1448</th>\n",
       "      <td>2909</td>\n",
       "      <td>159682.8277</td>\n",
       "    </tr>\n",
       "    <tr>\n",
       "      <th>1449</th>\n",
       "      <td>2910</td>\n",
       "      <td>75579.5490</td>\n",
       "    </tr>\n",
       "    <tr>\n",
       "      <th>1450</th>\n",
       "      <td>2911</td>\n",
       "      <td>84943.3750</td>\n",
       "    </tr>\n",
       "    <tr>\n",
       "      <th>1451</th>\n",
       "      <td>2912</td>\n",
       "      <td>152664.8226</td>\n",
       "    </tr>\n",
       "    <tr>\n",
       "      <th>1452</th>\n",
       "      <td>2913</td>\n",
       "      <td>84675.8343</td>\n",
       "    </tr>\n",
       "    <tr>\n",
       "      <th>1453</th>\n",
       "      <td>2914</td>\n",
       "      <td>80586.9210</td>\n",
       "    </tr>\n",
       "    <tr>\n",
       "      <th>1454</th>\n",
       "      <td>2915</td>\n",
       "      <td>88884.6973</td>\n",
       "    </tr>\n",
       "    <tr>\n",
       "      <th>1455</th>\n",
       "      <td>2916</td>\n",
       "      <td>86306.3923</td>\n",
       "    </tr>\n",
       "    <tr>\n",
       "      <th>1456</th>\n",
       "      <td>2917</td>\n",
       "      <td>166339.5801</td>\n",
       "    </tr>\n",
       "    <tr>\n",
       "      <th>1457</th>\n",
       "      <td>2918</td>\n",
       "      <td>118222.2350</td>\n",
       "    </tr>\n",
       "    <tr>\n",
       "      <th>1458</th>\n",
       "      <td>2919</td>\n",
       "      <td>231953.1676</td>\n",
       "    </tr>\n",
       "  </tbody>\n",
       "</table>\n",
       "<p>1459 rows × 2 columns</p>\n",
       "</div>"
      ],
      "text/plain": [
       "        Id   SalePrice\n",
       "0     1461 118323.8218\n",
       "1     1462 151451.7979\n",
       "2     1463 180854.6320\n",
       "3     1464 200596.9787\n",
       "4     1465 202548.1055\n",
       "5     1466 170974.7736\n",
       "6     1467 182064.1229\n",
       "7     1468 159721.7655\n",
       "8     1469 199215.5484\n",
       "9     1470 116847.0973\n",
       "10    1471 194320.8273\n",
       "11    1472  99635.0160\n",
       "12    1473  94692.3567\n",
       "13    1474 146663.7657\n",
       "14    1475 108468.3984\n",
       "15    1476 347067.9910\n",
       "16    1477 243690.5873\n",
       "17    1478 295687.2498\n",
       "18    1479 293450.9867\n",
       "19    1480 449752.1954\n",
       "20    1481 324215.5408\n",
       "21    1482 212759.4102\n",
       "22    1483 180549.2506\n",
       "23    1484 158643.1134\n",
       "24    1485 200553.2410\n",
       "25    1486 197947.3946\n",
       "26    1487 326929.2821\n",
       "27    1488 239547.3112\n",
       "28    1489 188639.2254\n",
       "29    1490 237888.9214\n",
       "...    ...         ...\n",
       "1429  2890  80537.0852\n",
       "1430  2891 135696.9504\n",
       "1431  2892  47885.9376\n",
       "1432  2893  77156.6213\n",
       "1433  2894  58256.1889\n",
       "1434  2895 332160.6560\n",
       "1435  2896 276199.6118\n",
       "1436  2897 215313.9680\n",
       "1437  2898 153289.8884\n",
       "1438  2899 212364.3404\n",
       "1439  2900 159827.3869\n",
       "1440  2901 215514.2924\n",
       "1441  2902 188350.1121\n",
       "1442  2903 318793.1180\n",
       "1443  2904 340868.5347\n",
       "1444  2905  88015.9385\n",
       "1445  2906 202840.1380\n",
       "1446  2907 117274.6902\n",
       "1447  2908 131745.9935\n",
       "1448  2909 159682.8277\n",
       "1449  2910  75579.5490\n",
       "1450  2911  84943.3750\n",
       "1451  2912 152664.8226\n",
       "1452  2913  84675.8343\n",
       "1453  2914  80586.9210\n",
       "1454  2915  88884.6973\n",
       "1455  2916  86306.3923\n",
       "1456  2917 166339.5801\n",
       "1457  2918 118222.2350\n",
       "1458  2919 231953.1676\n",
       "\n",
       "[1459 rows x 2 columns]"
      ]
     },
     "execution_count": 23,
     "metadata": {},
     "output_type": "execute_result"
    }
   ],
   "source": [
    "output"
   ]
  },
  {
   "cell_type": "code",
   "execution_count": 21,
   "metadata": {},
   "outputs": [],
   "source": [
    "output['SalePrice'] = np.expm1(test_model_5.predict(all_data_dum[len(train_data):]))"
   ]
  },
  {
   "cell_type": "code",
   "execution_count": 22,
   "metadata": {},
   "outputs": [],
   "source": [
    "output.to_csv('../Output/out.csv', index = False)"
   ]
  },
  {
   "cell_type": "code",
   "execution_count": 127,
   "metadata": {},
   "outputs": [],
   "source": [
    "from sklearn import kernel_ridge, ensemble"
   ]
  },
  {
   "cell_type": "code",
   "execution_count": 210,
   "metadata": {},
   "outputs": [
    {
     "name": "stdout",
     "output_type": "stream",
     "text": [
      "training error =\t 0.04774947271130972\n",
      "cv error =\t\t 0.13526553478208667\n"
     ]
    }
   ],
   "source": [
    "test_model_5 = sklearn.ensemble.GradientBoostingRegressor(learning_rate=0.0055, min_samples_split = 2, \n",
    "                                                              min_samples_leaf = 1, max_depth = 5,\n",
    "                                                              max_features = 'sqrt',\n",
    "                                                              subsample = 0.8, n_estimators=6000)\n",
    "\n",
    "test_model_5.fit(training_set, Y_training_set)\n",
    "print(\"training error =\\t\", rmsError(test_model_5.predict(training_set), Y_training_set))\n",
    "print(\"cv error =\\t\\t\", rmsError(Y_cv_set, test_model_5.predict(cv_set)))"
   ]
  },
  {
   "cell_type": "code",
   "execution_count": 165,
   "metadata": {
    "scrolled": true
   },
   "outputs": [
    {
     "name": "stdout",
     "output_type": "stream",
     "text": [
      "n\\_estimators =  1  & CV error =  0.39106457165808234  \\\\\n",
      "n\\_estimators =  201  & CV error =  0.14791128127609438  \\\\\n",
      "n\\_estimators =  401  & CV error =  0.14952720564383218  \\\\\n",
      "n\\_estimators =  601  & CV error =  0.14649270189645167  \\\\\n",
      "n\\_estimators =  801  & CV error =  0.14472646995704982  \\\\\n",
      "n\\_estimators =  1001  & CV error =  0.1478472061484389  \\\\\n",
      "n\\_estimators =  1201  & CV error =  0.1468148637712509  \\\\\n",
      "n\\_estimators =  1401  & CV error =  0.14252455540510245  \\\\\n",
      "n\\_estimators =  1601  & CV error =  0.14563667264357266  \\\\\n",
      "n\\_estimators =  1801  & CV error =  0.14867303074864033  \\\\\n",
      "n\\_estimators =  2001  & CV error =  0.14621378410727556  \\\\\n",
      "n\\_estimators =  2201  & CV error =  0.14515110847643137  \\\\\n",
      "n\\_estimators =  2401  & CV error =  0.14597455191298928  \\\\\n",
      "n\\_estimators =  2601  & CV error =  0.14528694634451494  \\\\\n",
      "n\\_estimators =  2801  & CV error =  0.14412327466593003  \\\\\n",
      "n\\_estimators =  3001  & CV error =  0.1489469229032483  \\\\\n",
      "n\\_estimators =  3201  & CV error =  0.1456734091147855  \\\\\n",
      "n\\_estimators =  3401  & CV error =  0.14492995728644564  \\\\\n",
      "n\\_estimators =  3601  & CV error =  0.14409888463352785  \\\\\n"
     ]
    },
    {
     "ename": "KeyboardInterrupt",
     "evalue": "",
     "output_type": "error",
     "traceback": [
      "\u001b[0;31m---------------------------------------------------------------------------\u001b[0m",
      "\u001b[0;31mKeyboardInterrupt\u001b[0m                         Traceback (most recent call last)",
      "\u001b[0;32m<ipython-input-165-4d2fe07e68cf>\u001b[0m in \u001b[0;36m<module>\u001b[0;34m()\u001b[0m\n\u001b[1;32m      7\u001b[0m                                                               subsample = 0.8, n_estimators=i)\n\u001b[1;32m      8\u001b[0m \u001b[0;34m\u001b[0m\u001b[0m\n\u001b[0;32m----> 9\u001b[0;31m     \u001b[0mtest_model_5\u001b[0m\u001b[0;34m.\u001b[0m\u001b[0mfit\u001b[0m\u001b[0;34m(\u001b[0m\u001b[0mtraining_set\u001b[0m\u001b[0;34m,\u001b[0m \u001b[0mY_training_set\u001b[0m\u001b[0;34m)\u001b[0m\u001b[0;34m\u001b[0m\u001b[0m\n\u001b[0m\u001b[1;32m     10\u001b[0m \u001b[0;31m#     print(\"training error =\\t\", rmsError(test_model_5.predict(training_set), Y_training_set))\u001b[0m\u001b[0;34m\u001b[0m\u001b[0;34m\u001b[0m\u001b[0m\n\u001b[1;32m     11\u001b[0m \u001b[0;31m#     print(\"cv error =\\t\\t\", rmsError(Y_cv_set, test_model_5.predict(cv_set)))\u001b[0m\u001b[0;34m\u001b[0m\u001b[0;34m\u001b[0m\u001b[0m\n",
      "\u001b[0;32m/opt/anaconda/lib/python3.7/site-packages/sklearn/ensemble/gradient_boosting.py\u001b[0m in \u001b[0;36mfit\u001b[0;34m(self, X, y, sample_weight, monitor)\u001b[0m\n\u001b[1;32m   1032\u001b[0m         \u001b[0;31m# fit the boosting stages\u001b[0m\u001b[0;34m\u001b[0m\u001b[0;34m\u001b[0m\u001b[0m\n\u001b[1;32m   1033\u001b[0m         n_stages = self._fit_stages(X, y, y_pred, sample_weight, random_state,\n\u001b[0;32m-> 1034\u001b[0;31m                                     begin_at_stage, monitor, X_idx_sorted)\n\u001b[0m\u001b[1;32m   1035\u001b[0m         \u001b[0;31m# change shape of arrays after fit (early-stopping or additional ests)\u001b[0m\u001b[0;34m\u001b[0m\u001b[0;34m\u001b[0m\u001b[0m\n\u001b[1;32m   1036\u001b[0m         \u001b[0;32mif\u001b[0m \u001b[0mn_stages\u001b[0m \u001b[0;34m!=\u001b[0m \u001b[0mself\u001b[0m\u001b[0;34m.\u001b[0m\u001b[0mestimators_\u001b[0m\u001b[0;34m.\u001b[0m\u001b[0mshape\u001b[0m\u001b[0;34m[\u001b[0m\u001b[0;36m0\u001b[0m\u001b[0;34m]\u001b[0m\u001b[0;34m:\u001b[0m\u001b[0;34m\u001b[0m\u001b[0m\n",
      "\u001b[0;32m/opt/anaconda/lib/python3.7/site-packages/sklearn/ensemble/gradient_boosting.py\u001b[0m in \u001b[0;36m_fit_stages\u001b[0;34m(self, X, y, y_pred, sample_weight, random_state, begin_at_stage, monitor, X_idx_sorted)\u001b[0m\n\u001b[1;32m   1095\u001b[0m                                              sample_weight[sample_mask])\n\u001b[1;32m   1096\u001b[0m                 self.oob_improvement_[i] = (\n\u001b[0;32m-> 1097\u001b[0;31m                     old_oob_score - loss_(y[~sample_mask],\n\u001b[0m\u001b[1;32m   1098\u001b[0m                                           \u001b[0my_pred\u001b[0m\u001b[0;34m[\u001b[0m\u001b[0;34m~\u001b[0m\u001b[0msample_mask\u001b[0m\u001b[0;34m]\u001b[0m\u001b[0;34m,\u001b[0m\u001b[0;34m\u001b[0m\u001b[0m\n\u001b[1;32m   1099\u001b[0m                                           sample_weight[~sample_mask]))\n",
      "\u001b[0;31mKeyboardInterrupt\u001b[0m: "
     ]
    }
   ],
   "source": [
    "# Gradient Boost\n",
    "#\n",
    "############################\n",
    "for i in range(1, 5000, 200):\n",
    "    test_model_5 = sklearn.ensemble.GradientBoostingRegressor(learning_rate=0.1, min_samples_split = 9, \n",
    "                                                              min_samples_leaf = 13, max_depth = 8,\n",
    "                                                              max_features = 'sqrt',\n",
    "                                                              subsample = 0.8, n_estimators=i)\n",
    "\n",
    "    test_model_5.fit(training_set, Y_training_set)\n",
    "#     print(\"training error =\\t\", rmsError(test_model_5.predict(training_set), Y_training_set))\n",
    "#     print(\"cv error =\\t\\t\", rmsError(Y_cv_set, test_model_5.predict(cv_set)))\n",
    "    # print(test_model_6.alphas_)\n",
    "    print(\"n\\\\_estimators = \", i, \" & CV error = \", rmsError(Y_cv_set, test_model_5.predict(cv_set)), \" \\\\\\\\\")"
   ]
  },
  {
   "cell_type": "code",
   "execution_count": 182,
   "metadata": {},
   "outputs": [
    {
     "data": {
      "text/plain": [
       "[Text(0,0.5,'rms error'), Text(0.5,0,'max_depth')]"
      ]
     },
     "execution_count": 182,
     "metadata": {},
     "output_type": "execute_result"
    },
    {
     "data": {
      "image/png": "[encoded data removed]",
      "text/plain": [
       "<Figure size 432x288 with 1 Axes>"
      ]
     },
     "metadata": {
      "needs_background": "light"
     },
     "output_type": "display_data"
    }
   ],
   "source": [
    "ar = []\n",
    "ar2 = []\n",
    "indices = []\n",
    "for i in range(2, 20):\n",
    "    alpha = i\n",
    "#     alpha = (alpha * 1000) / 1000\n",
    "    test_model_51 = sklearn.ensemble.GradientBoostingRegressor(learning_rate=0.1, min_samples_split = i, min_samples_leaf = 13,\n",
    "                                                              max_depth = 4, max_features = 'sqrt',\n",
    "                                                              subsample = 0.8, n_estimators=1500)\n",
    "    test_model_51.fit(training_set, Y_training_set)\n",
    "    ar.append(rmsError(test_model_51.predict(training_set), Y_training_set))\n",
    "    ar2.append(rmsError(Y_cv_set, test_model_51.predict(cv_set)))\n",
    "    indices.append(alpha)\n",
    "    \n",
    "fig = sns.pointplot(indices, ar, color = 'red')\n",
    "fig = sns.pointplot(indices, ar2)\n",
    "fig.set(xlabel = 'max_depth', ylabel = 'rms error')\n",
    "# plt.xticks(rotation = 90)"
   ]
  },
  {
   "cell_type": "code",
   "execution_count": 183,
   "metadata": {},
   "outputs": [],
   "source": [
    "fig.get_figure().savefig('../images/boost_split.png', dpi = 500)"
   ]
  },
  {
   "cell_type": "code",
   "execution_count": 123,
   "metadata": {},
   "outputs": [
    {
     "data": {
      "text/plain": [
       "(array([ 0,  1,  2,  3,  4,  5,  6,  7,  8,  9, 10, 11, 12, 13, 14, 15, 16,\n",
       "        17, 18, 19]), <a list of 20 Text xticklabel objects>)"
      ]
     },
     "execution_count": 123,
     "metadata": {},
     "output_type": "execute_result"
    },
    {
     "data": {
      "image/png": "[encoded data removed]",
      "text/plain": [
       "<Figure size 432x288 with 1 Axes>"
      ]
     },
     "metadata": {
      "needs_background": "light"
     },
     "output_type": "display_data"
    }
   ],
   "source": [
    "ar = []\n",
    "ar2 = []\n",
    "indices = []\n",
    "for i in range(1, 100, 5):\n",
    "    alpha = i\n",
    "#     alpha = (alpha * 1000) / 1000\n",
    "    test_model_51 = sklearn.kernel_ridge.KernelRidge(alpha = alpha, kernel = 'polynomial', degree = 2, coef0=2.5)\n",
    "    test_model_51.fit(training_set, Y_training_set)\n",
    "    ar.append(rmsError(test_model_51.predict(training_set), Y_training_set))\n",
    "    ar2.append(rmsError(Y_cv_set, test_model_51.predict(cv_set)))\n",
    "    indices.append(str(alpha)[:6])\n",
    "    \n",
    "fig = sns.pointplot(indices, ar, color = 'red', legend = True)\n",
    "fig = sns.pointplot(indices, ar2)\n",
    "fig.set(xlabel = 'alpha', ylabel = 'rms error')\n",
    "plt.xticks(rotation = 90)\n",
    "# fig.get_figure().savefig('../images/lasso_alpha.png', dpi = 500)"
   ]
  },
  {
   "cell_type": "code",
   "execution_count": 89,
   "metadata": {},
   "outputs": [
    {
     "name": "stdout",
     "output_type": "stream",
     "text": [
      "training error =\t 0.2863261371280982\n",
      "cv error =\t\t 0.324483196151212\n"
     ]
    }
   ],
   "source": [
    "test_model_6 = sklearn.linear_model.HuberRegressor(tol = 0.00000001, alpha=.0001)\n",
    "test_model_6.fit(training_set, Y_training_set)\n",
    "print(\"training error =\\t\", rmsError(test_model_6.predict(training_set), Y_training_set))\n",
    "print(\"cv error =\\t\\t\", rmsError(Y_cv_set, test_model_6.predict(cv_set)))\n",
    "# print(test_model_6.alphas_)"
   ]
  }
 ],
 "metadata": {
  "kernelspec": {
   "display_name": "Python 3",
   "language": "python",
   "name": "python3"
  },
  "language_info": {
   "codemirror_mode": {
    "name": "ipython",
    "version": 3
   },
   "file_extension": ".py",
   "mimetype": "text/x-python",
   "name": "python",
   "nbconvert_exporter": "python",
   "pygments_lexer": "ipython3",
   "version": "3.7.0"
  }
 },
 "nbformat": 4,
 "nbformat_minor": 2
}
