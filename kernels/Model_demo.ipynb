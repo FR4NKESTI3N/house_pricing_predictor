{
 "cells": [
  {
   "cell_type": "code",
   "execution_count": 1,
   "metadata": {},
   "outputs": [],
   "source": [
    "import numpy as np,\\\n",
    "pandas as pd,\\\n",
    "seaborn as sns,\\\n",
    "matplotlib.pyplot as plt,\\\n",
    "sklearn.preprocessing as Scaler\n",
    "\n",
    "import sklearn\n",
    "from sklearn import linear_model\n",
    "from sklearn import preprocessing\n",
    "\n",
    "from scipy import stats\n",
    "\n",
    "import warnings\n",
    "warnings.filterwarnings('ignore')\n",
    "\n",
    "%matplotlib inline\n",
    "\n",
    "pd.set_option('display.float_format', lambda x: '{:.4f}'.format(x))"
   ]
  },
  {
   "cell_type": "code",
   "execution_count": 2,
   "metadata": {},
   "outputs": [],
   "source": [
    "train_data = pd.read_csv('../input/train.csv')\n",
    "test_data = pd.read_csv('../input/test.csv')"
   ]
  },
  {
   "cell_type": "code",
   "execution_count": 3,
   "metadata": {},
   "outputs": [],
   "source": [
    "features_to_drop = ['GarageArea', 'TotRmsAbvGrd', 'TotalBsmtSF', 'Utilities']\n",
    "\n",
    "features_to_trans = ['MiscVal', 'PoolArea', 'LotArea', '3SsnPorch', 'LowQualFinSF',\n",
    "                     'KitchenAbvGr', 'BsmtFinSF2', 'ScreenPorch', 'BsmtHalfBath',\n",
    "                     'EnclosedPorch', 'MasVnrArea', 'OpenPorchSF', 'LotFrontage',\n",
    "                     'BsmtFinSF1', 'WoodDeckSF', '1stFlrSF',\n",
    "                     'GrLivArea', 'BsmtUnfSF', '2ndFlrSF', 'HalfBath']\n",
    "\n",
    "features_categorical = ['LotShape', 'OverallQual', 'OverallCond', 'LandContour', 'LotConfig',\n",
    "                        'GarageFinish', 'GarageQual', 'GarageCond', 'PavedDrive',\n",
    "                        'PoolQC', 'Fence', 'MiscFeature', 'SaleType', 'SaleCondition', 'MSZoning', 'MSSubClass',\n",
    "                        'Street', 'Alley', 'LandSlope', 'Neighborhood', 'Condition1', 'Condition2', 'BldgType',\n",
    "                        'HouseStyle', 'RoofStyle', 'RoofMatl', 'Exterior1st', 'Exterior2nd', 'MasVnrType', 'ExterQual',\n",
    "                        'ExterCond', 'Foundation', 'BsmtQual', 'BsmtCond', 'BsmtExposure', 'BsmtFinType1', 'BsmtFinType2',\n",
    "                        'Heating', 'HeatingQC', 'CentralAir', 'Electrical', 'KitchenQual', 'Functional', 'FireplaceQu',\n",
    "                        'GarageType']\n",
    "\n",
    "features_numerical = ['LotFrontage', 'LotArea', 'MasVnrArea', 'BsmtFinSF1', 'BsmtFinSF2', 'BsmtUnfSF', '1stFlrSF',\n",
    "                      '2ndFlrSF', 'LowQualFinSF', 'GrLivArea', 'BsmtFullBath', 'BsmtHalfBath', 'FullBath', 'HalfBath',\n",
    "                      'BedroomAbvGr', 'KitchenAbvGr', 'Fireplaces', 'GarageCars', 'WoodDeckSF', 'YrSold', 'YearBuilt',\n",
    "                      'OpenPorchSF', 'EnclosedPorch', '3SsnPorch', 'ScreenPorch', 'PoolArea', 'MiscVal', 'GarageYrBlt',\n",
    "                      'YearRemodAdd','MoSold']"
   ]
  },
  {
   "cell_type": "code",
   "execution_count": 4,
   "metadata": {},
   "outputs": [],
   "source": [
    "features_na_null = ['GarageFinish', 'GarageQual', 'GarageCond', 'PoolQC', 'Fence', 'MiscFeature', 'MSSubClass', 'Alley',\n",
    "                   'MasVnrType', 'BsmtQual', 'BsmtCond', 'BsmtExposure', 'BsmtFinType1', 'BsmtFinType2', 'FireplaceQu',\n",
    "                   'GarageType']\n",
    "\n",
    "features_na_zero = ['GarageYrBlt', 'GarageCars', 'BsmtFinSF1', 'BsmtFinSF2', 'BsmtUnfSF', 'BsmtFullBath', 'BsmtHalfBath',\n",
    "                   'MasVnrArea']"
   ]
  },
  {
   "cell_type": "code",
   "execution_count": 7,
   "metadata": {},
   "outputs": [],
   "source": [
    "# Randomize train_data before splitting\n",
    "#\n",
    "########################################\n",
    "train_data = train_data.sample(frac = 1).reset_index(drop = True)\n",
    "Y = train_data[['Id', 'SalePrice']]\n",
    "all_data = pd.concat((train_data.drop(columns = ['SalePrice']), test_data))"
   ]
  },
  {
   "cell_type": "code",
   "execution_count": 15,
   "metadata": {},
   "outputs": [
    {
     "data": {
      "text/plain": [
       "Neighborhood\n",
       "Blmngtn     938.0000\n",
       "Blueste     273.0000\n",
       "BrDale      645.0000\n",
       "BrkSide    5300.0000\n",
       "ClearCr    1763.0000\n",
       "CollgCr   15694.0000\n",
       "Crawfor    5806.0000\n",
       "Edwards   11910.0000\n",
       "Gilbert    8237.0000\n",
       "IDOTRR     5415.0000\n",
       "MeadowV     845.0000\n",
       "Mitchel    6763.0000\n",
       "NAmes     28204.0000\n",
       "NPkVill     591.0000\n",
       "NWAmes     6929.0000\n",
       "NoRidge    4948.0000\n",
       "NridgHt   13722.0000\n",
       "OldTown   14147.0000\n",
       "SWISU      2599.0000\n",
       "Sawyer     7306.0000\n",
       "SawyerW    7491.0000\n",
       "Somerst   10457.0000\n",
       "StoneBr    2860.0000\n",
       "Timber     4626.0000\n",
       "Veenker    1152.0000\n",
       "Name: LotFrontage, dtype: float64"
      ]
     },
     "execution_count": 15,
     "metadata": {},
     "output_type": "execute_result"
    }
   ],
   "source": [
    "all_data.groupby(\"Neighborhood\")['LotFrontage'].sum()"
   ]
  },
  {
   "cell_type": "code",
   "execution_count": 6,
   "metadata": {},
   "outputs": [],
   "source": [
    "# Drop features and fill NA\n",
    "#\n",
    "#########################################\n",
    "\n",
    "all_data = all_data.drop(columns = features_to_drop)\n",
    "\n",
    "all_data['MSZoning'] = all_data['MSZoning'].fillna('RL')\n",
    "all_data['Functional'] = all_data['Functional'].fillna('Typ')\n",
    "all_data['Electrical'] = all_data['Electrical'].fillna('SBrkr')\n",
    "all_data['SaleType'] = all_data['SaleType'].fillna('WD')\n",
    "all_data['KitchenQual'] = all_data['KitchenQual'].fillna('TA')\n",
    "all_data['Exterior1st'] = all_data['Exterior1st'].fillna('VinylSd')\n",
    "all_data['Exterior2nd'] = all_data['Exterior2nd'].fillna('VinylSd')\n",
    "\n",
    "all_data[features_na_null] = all_data[features_na_null].fillna(\"None\")\n",
    "\n",
    "all_data['LotFrontage'] = all_data.groupby(\"Neighborhood\")[\"LotFrontage\"].transform(lambda col: \n",
    "                                                                                    col.fillna(col.dropna().median()))\n",
    "\n",
    "all_data[features_na_zero] = all_data[features_na_zero].fillna(0)\n"
   ]
  },
  {
   "cell_type": "code",
   "execution_count": 7,
   "metadata": {},
   "outputs": [],
   "source": [
    "# Apply log transform\n",
    "#\n",
    "#########################################\n",
    "\n",
    "Y['SalePrice'] = np.log1p(Y['SalePrice'])\n",
    "all_data[features_to_trans] = np.log1p(all_data[features_to_trans])"
   ]
  },
  {
   "cell_type": "code",
   "execution_count": 9,
   "metadata": {},
   "outputs": [],
   "source": [
    "for feature in features_numerical:\n",
    "    all_data[feature] = all_data[feature].astype(float)"
   ]
  },
  {
   "cell_type": "code",
   "execution_count": 10,
   "metadata": {},
   "outputs": [],
   "source": [
    "# label encode features\n",
    "#\n",
    "##################################\n",
    "\n",
    "for col in features_categorical:\n",
    "# for col in cols:\n",
    "    le = sklearn.preprocessing.LabelEncoder()\n",
    "    le.fit(list(all_data[col].values))\n",
    "    all_data[col] = le.transform(list(all_data[col].values))"
   ]
  },
  {
   "cell_type": "code",
   "execution_count": 11,
   "metadata": {},
   "outputs": [],
   "source": [
    "###### assign dummy variable\n",
    "#\n",
    "#######################################\n",
    "\n",
    "all_data_dum = pd.get_dummies(all_data.drop('Id', axis = 1))"
   ]
  },
  {
   "cell_type": "code",
   "execution_count": 12,
   "metadata": {},
   "outputs": [
    {
     "data": {
      "text/plain": [
       "(2919, 75)"
      ]
     },
     "execution_count": 12,
     "metadata": {},
     "output_type": "execute_result"
    }
   ],
   "source": [
    "all_data_dum.shape"
   ]
  },
  {
   "cell_type": "code",
   "execution_count": 13,
   "metadata": {},
   "outputs": [],
   "source": [
    "# Convert Fake numerical Features to strings\n",
    "# \n",
    "#######################################\n",
    "# all_data_dum[['OverallQual', 'OverallCond', 'YearBuilt', 'MSSubClass']] = all_data_dum[\n",
    "#     ['OverallQual', 'OverallCond', 'YearBuilt', 'MSSubClass']].astype(str)"
   ]
  },
  {
   "cell_type": "code",
   "execution_count": 14,
   "metadata": {},
   "outputs": [],
   "source": [
    "def rmsError(x, y):\n",
    "    return np.sqrt(np.sum(np.power(x - y, 2)) / len(x))"
   ]
  },
  {
   "cell_type": "code",
   "execution_count": 15,
   "metadata": {},
   "outputs": [],
   "source": [
    "training_data = all_data_dum[:len(train_data)]"
   ]
  },
  {
   "cell_type": "code",
   "execution_count": 16,
   "metadata": {},
   "outputs": [],
   "source": [
    "training_set = training_data[ : -400]\n",
    "Y_training_set = Y['SalePrice'][ : -400]\n",
    "# Y_training_set = Y[ : -400]\n",
    "\n",
    "cv_set = training_data[-400 : ]\n",
    "Y_cv_set = Y['SalePrice'][-400 : ]\n",
    "# Y_cv_set = Y[-400 : ]"
   ]
  },
  {
   "cell_type": "code",
   "execution_count": 17,
   "metadata": {},
   "outputs": [
    {
     "name": "stdout",
     "output_type": "stream",
     "text": [
      "training error =\t 0.11946772908232\n",
      "cv error =\t\t 0.1480418835129356\n"
     ]
    }
   ],
   "source": [
    "# test 1 : no regression, intercept calculation, no normalization\n",
    "#\n",
    "######################\n",
    "test_model_1 = sklearn.linear_model.LinearRegression(copy_X = True)\n",
    "test_model_1.fit(training_set, Y_training_set)\n",
    "print(\"training error =\\t\", rmsError(test_model_1.predict(training_set), Y_training_set))\n",
    "print(\"cv error =\\t\\t\", rmsError(Y_cv_set, test_model_1.predict(cv_set)))"
   ]
  },
  {
   "cell_type": "code",
   "execution_count": 18,
   "metadata": {},
   "outputs": [
    {
     "name": "stdout",
     "output_type": "stream",
     "text": [
      "training error =\t 0.11946772908231985\n",
      "cv error =\t\t 0.1480418835129353\n"
     ]
    }
   ],
   "source": [
    "# test 1.1 : no regression, intercept calculation, normalization\n",
    "#\n",
    "######################\n",
    "test_model_11 = sklearn.linear_model.LinearRegression(copy_X = True, normalize = True)\n",
    "test_model_11.fit(training_set, Y_training_set)\n",
    "print(\"training error =\\t\", rmsError(test_model_11.predict(training_set), Y_training_set))\n",
    "print(\"cv error =\\t\\t\", rmsError(Y_cv_set, test_model_11.predict(cv_set)))"
   ]
  },
  {
   "cell_type": "code",
   "execution_count": 88,
   "metadata": {},
   "outputs": [
    {
     "name": "stdout",
     "output_type": "stream",
     "text": [
      "training error =\t 0.0833131264277798\n",
      "cv error =\t\t 0.13548829612898514\n"
     ]
    }
   ],
   "source": [
    "# test 1.2 : no regression, no intercept calculation\n",
    "#\n",
    "######################\n",
    "test_model_12 = sklearn.linear_model.LinearRegression(copy_X = True, fit_intercept = False)\n",
    "test_model_12.fit(training_set, Y_training_set)\n",
    "print(\"training error =\\t\", rmsError(test_model_12.predict(training_set), Y_training_set))\n",
    "print(\"cv error =\\t\\t\", rmsError(Y_cv_set, test_model_12.predict(cv_set)))"
   ]
  },
  {
   "cell_type": "code",
   "execution_count": 20,
   "metadata": {},
   "outputs": [
    {
     "name": "stdout",
     "output_type": "stream",
     "text": [
      "training error =\t 0.12118810549943475\n",
      "cv error =\t\t 0.14245198330071404\n"
     ]
    }
   ],
   "source": [
    "# Test 2 : Ridge Regression\n",
    "#\n",
    "############################\n",
    "test_model_2 = sklearn.linear_model.Ridge(copy_X = True, fit_intercept = True, alpha = 3.1, tol = 0.000000001, max_iter = 10000000)\n",
    "test_model_2.fit(training_set, Y_training_set)\n",
    "print(\"training error =\\t\", rmsError(test_model_2.predict(training_set), Y_training_set))\n",
    "print(\"cv error =\\t\\t\", rmsError(Y_cv_set, test_model_2.predict(cv_set)))"
   ]
  },
  {
   "cell_type": "code",
   "execution_count": 22,
   "metadata": {},
   "outputs": [
    {
     "data": {
      "text/plain": [
       "(array([ 0,  1,  2,  3,  4,  5,  6,  7,  8,  9, 10, 11, 12, 13, 14, 15, 16,\n",
       "        17, 18, 19, 20, 21, 22, 23, 24, 25, 26, 27, 28, 29, 30, 31, 32, 33,\n",
       "        34, 35, 36, 37, 38, 39, 40, 41, 42, 43, 44, 45, 46, 47, 48, 49]),\n",
       " <a list of 50 Text xticklabel objects>)"
      ]
     },
     "execution_count": 22,
     "metadata": {},
     "output_type": "execute_result"
    },
    {
     "data": {
      "image/png": "[encoded data removed]",
      "text/plain": [
       "<Figure size 432x288 with 1 Axes>"
      ]
     },
     "metadata": {
      "needs_background": "light"
     },
     "output_type": "display_data"
    }
   ],
   "source": [
    "# Ridge alpha plot\n",
    "#\n",
    "############################\n",
    "ar = []\n",
    "ar2 = []\n",
    "indices = []\n",
    "for i in range(1, 500, 10):\n",
    "    alpha = i * 0.1\n",
    "#     alpha = (alpha * 1000) / 1000\n",
    "    test_model_21 = sklearn.linear_model.Ridge(copy_X = True, fit_intercept = True, alpha = alpha, max_iter = 1000)\n",
    "    test_model_21.fit(training_set, Y_training_set)\n",
    "    ar.append(rmsError(test_model_21.predict(training_set), Y_training_set))\n",
    "    ar2.append(rmsError(Y_cv_set, test_model_21.predict(cv_set)))\n",
    "    indices.append(str(alpha)[:5])\n",
    "    \n",
    "fig = sns.pointplot(indices, ar, color = 'red', legend = True)\n",
    "fig = sns.pointplot(indices, ar2)\n",
    "fig.set(xlabel = 'alpha', ylabel = 'rms error')\n",
    "plt.xticks(rotation = 90)\n",
    "# fig.get_figure().savefig('../images/ridge_alpha.png', dpi = 500)"
   ]
  },
  {
   "cell_type": "code",
   "execution_count": 23,
   "metadata": {},
   "outputs": [
    {
     "name": "stdout",
     "output_type": "stream",
     "text": [
      "training error =\t 0.12118810549943475\n",
      "cv error =\t\t 0.14245198330071404\n"
     ]
    }
   ],
   "source": [
    "test_model_23 = sklearn.linear_model.Ridge(fit_intercept = True, alpha = 3.1, max_iter = 10000000)\n",
    "test_model_23.fit(training_set, Y_training_set)\n",
    "print(\"training error =\\t\", rmsError(test_model_23.predict(training_set), Y_training_set))\n",
    "print(\"cv error =\\t\\t\", rmsError(Y_cv_set, test_model_23.predict(cv_set)))\n",
    "# print(\"alpha = \", test_model_23.alpha_)"
   ]
  },
  {
   "cell_type": "code",
   "execution_count": 24,
   "metadata": {},
   "outputs": [
    {
     "data": {
      "text/plain": [
       "(array([ 0,  1,  2,  3,  4,  5,  6,  7,  8,  9, 10, 11, 12, 13, 14, 15, 16,\n",
       "        17, 18, 19, 20, 21, 22, 23, 24, 25, 26, 27, 28, 29, 30, 31]),\n",
       " <a list of 32 Text xticklabel objects>)"
      ]
     },
     "execution_count": 24,
     "metadata": {},
     "output_type": "execute_result"
    },
    {
     "data": {
      "image/png": "[encoded data removed]",
      "text/plain": [
       "<Figure size 432x288 with 1 Axes>"
      ]
     },
     "metadata": {
      "needs_background": "light"
     },
     "output_type": "display_data"
    }
   ],
   "source": [
    "# ridge learning curve\n",
    "#\n",
    "####################################\n",
    "ar = []\n",
    "ar2 = []\n",
    "indices = []\n",
    "for i in range(100, len(training_set), 30):\n",
    "#     alpha = i*.1\n",
    "    test_model_22= sklearn.linear_model.Ridge(copy_X = True, fit_intercept = True, alpha = 3.1, max_iter = 10000000)\n",
    "    test_model_22.fit(training_set[ : i], Y_training_set[ : i])\n",
    "    ar.append(rmsError(test_model_22.predict(training_set), Y_training_set))\n",
    "    ar2.append(rmsError(Y_cv_set, test_model_22.predict(cv_set)))\n",
    "    indices.append(i)\n",
    "\n",
    "fig = sns.pointplot(indices, ar, color = 'red', legend = True)\n",
    "fig = sns.pointplot(indices, ar2)\n",
    "fig.set(xlabel = 'no. of samples', ylabel = 'rms error')\n",
    "plt.xticks(rotation = 90)\n",
    "# fig.get_figure().savefig('../images/ridge_m.png', dpi = 500)"
   ]
  },
  {
   "cell_type": "code",
   "execution_count": 29,
   "metadata": {},
   "outputs": [
    {
     "name": "stdout",
     "output_type": "stream",
     "text": [
      "training error =\t 0.12595863284506553\n",
      "cv error =\t\t 0.13548678548338483\n"
     ]
    }
   ],
   "source": [
    "# Test 3 : Lasso Regression\n",
    "#\n",
    "############################\n",
    "test_model_3 = sklearn.linear_model.Lasso(copy_X = True, fit_intercept = True, alpha = .0015, tol = 0.000000001,\n",
    "                                          max_iter = 10000000)\n",
    "test_model_3.fit(training_set, Y_training_set)\n",
    "print(\"training error =\\t\", rmsError(test_model_3.predict(training_set), Y_training_set))\n",
    "print(\"cv error =\\t\\t\", rmsError(Y_cv_set, test_model_3.predict(cv_set)))"
   ]
  },
  {
   "cell_type": "code",
   "execution_count": 28,
   "metadata": {},
   "outputs": [
    {
     "data": {
      "text/plain": [
       "(array([ 0,  1,  2,  3,  4,  5,  6,  7,  8,  9, 10, 11, 12, 13, 14, 15, 16,\n",
       "        17, 18, 19, 20, 21, 22]), <a list of 23 Text xticklabel objects>)"
      ]
     },
     "execution_count": 28,
     "metadata": {},
     "output_type": "execute_result"
    },
    {
     "data": {
      "image/png": "[encoded data removed]",
      "text/plain": [
       "<Figure size 432x288 with 1 Axes>"
      ]
     },
     "metadata": {
      "needs_background": "light"
     },
     "output_type": "display_data"
    }
   ],
   "source": [
    "# Lasso alpha plot\n",
    "#\n",
    "############################\n",
    "ar = []\n",
    "ar2 = []\n",
    "indices = []\n",
    "for i in range(1, 20000, 250):\n",
    "    alpha = i * 0.0000001\n",
    "#     alpha = (alpha * 1000) / 1000\n",
    "    test_model_31 = sklearn.linear_model.Lasso(copy_X = True, fit_intercept = True, alpha = alpha,\n",
    "                                               max_iter = 10000)\n",
    "    test_model_31.fit(training_set, Y_training_set)\n",
    "    ar.append(rmsError(test_model_31.predict(training_set), Y_training_set))\n",
    "    ar2.append(rmsError(Y_cv_set, test_model_31.predict(cv_set)))\n",
    "    indices.append(str(alpha)[:6])\n",
    "    \n",
    "fig = sns.pointplot(indices, ar, color = 'red', legend = True)\n",
    "fig = sns.pointplot(indices, ar2)\n",
    "fig.set(xlabel = 'alpha', ylabel = 'rms error')\n",
    "plt.xticks(rotation = 90)\n",
    "# fig.get_figure().savefig('../images/lasso_alpha.png', dpi = 500)"
   ]
  },
  {
   "cell_type": "code",
   "execution_count": 27,
   "metadata": {},
   "outputs": [
    {
     "data": {
      "text/plain": [
       "(array([ 0,  1,  2,  3,  4,  5,  6,  7,  8,  9, 10, 11, 12, 13, 14, 15, 16,\n",
       "        17, 18, 19, 20, 21, 22, 23]), <a list of 24 Text xticklabel objects>)"
      ]
     },
     "execution_count": 27,
     "metadata": {},
     "output_type": "execute_result"
    },
    {
     "data": {
      "image/png": "[encoded data removed]",
      "text/plain": [
       "<Figure size 432x288 with 1 Axes>"
      ]
     },
     "metadata": {
      "needs_background": "light"
     },
     "output_type": "display_data"
    }
   ],
   "source": [
    "# lasso learning curve\n",
    "#\n",
    "####################################\n",
    "ar = []\n",
    "ar2 = []\n",
    "indices = []\n",
    "for i in range(100, len(training_set), 40):\n",
    "#     alpha = i*.1\n",
    "    test_model_32= sklearn.linear_model.Ridge(copy_X = True, fit_intercept = True, alpha = 0.0002, max_iter = 10000000)\n",
    "    test_model_32.fit(training_set[ : i], Y_training_set[ : i])\n",
    "    ar.append(rmsError(test_model_32.predict(training_set), Y_training_set))\n",
    "    ar2.append(rmsError(Y_cv_set, test_model_32.predict(cv_set)))\n",
    "    indices.append(i)\n",
    "\n",
    "fig = sns.pointplot(indices, ar, color = 'red', legend = True)\n",
    "fig = sns.pointplot(indices, ar2)\n",
    "fig.set(xlabel = 'no. of samples', ylabel = 'rms error')\n",
    "plt.xticks(rotation = 90)\n",
    "# fig.get_figure().savefig('../images/lasso_m.png', dpi = 500)"
   ]
  },
  {
   "cell_type": "code",
   "execution_count": 196,
   "metadata": {},
   "outputs": [
    {
     "data": {
      "image/png": "[encoded data removed]",
      "text/plain": [
       "<Figure size 432x288 with 1 Axes>"
      ]
     },
     "metadata": {
      "needs_background": "light"
     },
     "output_type": "display_data"
    }
   ],
   "source": [
    "minar = []\n",
    "ratios = []\n",
    "for r in range(1, 100, 5):\n",
    "#     print(r)\n",
    "#     ratio = r * .01\n",
    "    ratio = 0.99 + r * 0.0001\n",
    "    ar = []\n",
    "    ar2 = []\n",
    "    indices = []\n",
    "    for i in range(1, 2500, 250):\n",
    "        alpha = i * .0001\n",
    "        test_model_4 = sklearn.linear_model.ElasticNet(copy_X = True, fit_intercept = True, alpha = alpha, l1_ratio = ratio)    \n",
    "        test_model_4.fit(training_set, Y_training_set)\n",
    "        ar.append(rmsError(test_model_4.predict(training_set), Y_training_set))\n",
    "        ar2.append(rmsError(Y_cv_set, test_model_4.predict(cv_set)))\n",
    "        indices.append(str(alpha)[:6])\n",
    "    minar.append(np.min(ar2))\n",
    "    ratios.append(str(ratio)[:6])\n",
    "\n",
    "figg = sns.pointplot(x = ratios, y = minar, color = 'green')\n",
    "plt.xticks(rotation = 90)\n",
    "figg.set(xlabel = 'ratio', ylabel = 'min(error)')\n",
    "figg.get_figure().savefig('../images/elastic_ratio2.png', dpi = 500)"
   ]
  },
  {
   "cell_type": "code",
   "execution_count": 211,
   "metadata": {},
   "outputs": [
    {
     "name": "stdout",
     "output_type": "stream",
     "text": [
      "training error =\t 0.10419706413398194\n",
      "cv error =\t\t 0.09821391835749864\n"
     ]
    }
   ],
   "source": [
    "# Lasso output\n",
    "#\n",
    "############################\n",
    "test_model_5 = sklearn.linear_model.Lasso(copy_X = True, fit_intercept = True, alpha = .0002, tol = 0.000000001,\n",
    "                                          max_iter = 10000000)\n",
    "test_model_5.fit(training_data, Y['SalePrice'])\n",
    "print(\"training error =\\t\", rmsError(test_model_5.predict(training_set), Y_training_set))\n",
    "print(\"cv error =\\t\\t\", rmsError(Y_cv_set, test_model_5.predict(cv_set)))"
   ]
  },
  {
   "cell_type": "code",
   "execution_count": 212,
   "metadata": {},
   "outputs": [],
   "source": [
    "output = test_data[['Id']]"
   ]
  },
  {
   "cell_type": "code",
   "execution_count": 213,
   "metadata": {
    "scrolled": true
   },
   "outputs": [
    {
     "data": {
      "text/html": [
       "<div>\n",
       "<style scoped>\n",
       "    .dataframe tbody tr th:only-of-type {\n",
       "        vertical-align: middle;\n",
       "    }\n",
       "\n",
       "    .dataframe tbody tr th {\n",
       "        vertical-align: top;\n",
       "    }\n",
       "\n",
       "    .dataframe thead th {\n",
       "        text-align: right;\n",
       "    }\n",
       "</style>\n",
       "<table border=\"1\" class=\"dataframe\">\n",
       "  <thead>\n",
       "    <tr style=\"text-align: right;\">\n",
       "      <th></th>\n",
       "      <th>Id</th>\n",
       "    </tr>\n",
       "  </thead>\n",
       "  <tbody>\n",
       "    <tr>\n",
       "      <th>0</th>\n",
       "      <td>1461</td>\n",
       "    </tr>\n",
       "    <tr>\n",
       "      <th>1</th>\n",
       "      <td>1462</td>\n",
       "    </tr>\n",
       "    <tr>\n",
       "      <th>2</th>\n",
       "      <td>1463</td>\n",
       "    </tr>\n",
       "    <tr>\n",
       "      <th>3</th>\n",
       "      <td>1464</td>\n",
       "    </tr>\n",
       "    <tr>\n",
       "      <th>4</th>\n",
       "      <td>1465</td>\n",
       "    </tr>\n",
       "    <tr>\n",
       "      <th>5</th>\n",
       "      <td>1466</td>\n",
       "    </tr>\n",
       "    <tr>\n",
       "      <th>6</th>\n",
       "      <td>1467</td>\n",
       "    </tr>\n",
       "    <tr>\n",
       "      <th>7</th>\n",
       "      <td>1468</td>\n",
       "    </tr>\n",
       "    <tr>\n",
       "      <th>8</th>\n",
       "      <td>1469</td>\n",
       "    </tr>\n",
       "    <tr>\n",
       "      <th>9</th>\n",
       "      <td>1470</td>\n",
       "    </tr>\n",
       "    <tr>\n",
       "      <th>10</th>\n",
       "      <td>1471</td>\n",
       "    </tr>\n",
       "    <tr>\n",
       "      <th>11</th>\n",
       "      <td>1472</td>\n",
       "    </tr>\n",
       "    <tr>\n",
       "      <th>12</th>\n",
       "      <td>1473</td>\n",
       "    </tr>\n",
       "    <tr>\n",
       "      <th>13</th>\n",
       "      <td>1474</td>\n",
       "    </tr>\n",
       "    <tr>\n",
       "      <th>14</th>\n",
       "      <td>1475</td>\n",
       "    </tr>\n",
       "    <tr>\n",
       "      <th>15</th>\n",
       "      <td>1476</td>\n",
       "    </tr>\n",
       "    <tr>\n",
       "      <th>16</th>\n",
       "      <td>1477</td>\n",
       "    </tr>\n",
       "    <tr>\n",
       "      <th>17</th>\n",
       "      <td>1478</td>\n",
       "    </tr>\n",
       "    <tr>\n",
       "      <th>18</th>\n",
       "      <td>1479</td>\n",
       "    </tr>\n",
       "    <tr>\n",
       "      <th>19</th>\n",
       "      <td>1480</td>\n",
       "    </tr>\n",
       "    <tr>\n",
       "      <th>20</th>\n",
       "      <td>1481</td>\n",
       "    </tr>\n",
       "    <tr>\n",
       "      <th>21</th>\n",
       "      <td>1482</td>\n",
       "    </tr>\n",
       "    <tr>\n",
       "      <th>22</th>\n",
       "      <td>1483</td>\n",
       "    </tr>\n",
       "    <tr>\n",
       "      <th>23</th>\n",
       "      <td>1484</td>\n",
       "    </tr>\n",
       "    <tr>\n",
       "      <th>24</th>\n",
       "      <td>1485</td>\n",
       "    </tr>\n",
       "    <tr>\n",
       "      <th>25</th>\n",
       "      <td>1486</td>\n",
       "    </tr>\n",
       "    <tr>\n",
       "      <th>26</th>\n",
       "      <td>1487</td>\n",
       "    </tr>\n",
       "    <tr>\n",
       "      <th>27</th>\n",
       "      <td>1488</td>\n",
       "    </tr>\n",
       "    <tr>\n",
       "      <th>28</th>\n",
       "      <td>1489</td>\n",
       "    </tr>\n",
       "    <tr>\n",
       "      <th>29</th>\n",
       "      <td>1490</td>\n",
       "    </tr>\n",
       "    <tr>\n",
       "      <th>...</th>\n",
       "      <td>...</td>\n",
       "    </tr>\n",
       "    <tr>\n",
       "      <th>1429</th>\n",
       "      <td>2890</td>\n",
       "    </tr>\n",
       "    <tr>\n",
       "      <th>1430</th>\n",
       "      <td>2891</td>\n",
       "    </tr>\n",
       "    <tr>\n",
       "      <th>1431</th>\n",
       "      <td>2892</td>\n",
       "    </tr>\n",
       "    <tr>\n",
       "      <th>1432</th>\n",
       "      <td>2893</td>\n",
       "    </tr>\n",
       "    <tr>\n",
       "      <th>1433</th>\n",
       "      <td>2894</td>\n",
       "    </tr>\n",
       "    <tr>\n",
       "      <th>1434</th>\n",
       "      <td>2895</td>\n",
       "    </tr>\n",
       "    <tr>\n",
       "      <th>1435</th>\n",
       "      <td>2896</td>\n",
       "    </tr>\n",
       "    <tr>\n",
       "      <th>1436</th>\n",
       "      <td>2897</td>\n",
       "    </tr>\n",
       "    <tr>\n",
       "      <th>1437</th>\n",
       "      <td>2898</td>\n",
       "    </tr>\n",
       "    <tr>\n",
       "      <th>1438</th>\n",
       "      <td>2899</td>\n",
       "    </tr>\n",
       "    <tr>\n",
       "      <th>1439</th>\n",
       "      <td>2900</td>\n",
       "    </tr>\n",
       "    <tr>\n",
       "      <th>1440</th>\n",
       "      <td>2901</td>\n",
       "    </tr>\n",
       "    <tr>\n",
       "      <th>1441</th>\n",
       "      <td>2902</td>\n",
       "    </tr>\n",
       "    <tr>\n",
       "      <th>1442</th>\n",
       "      <td>2903</td>\n",
       "    </tr>\n",
       "    <tr>\n",
       "      <th>1443</th>\n",
       "      <td>2904</td>\n",
       "    </tr>\n",
       "    <tr>\n",
       "      <th>1444</th>\n",
       "      <td>2905</td>\n",
       "    </tr>\n",
       "    <tr>\n",
       "      <th>1445</th>\n",
       "      <td>2906</td>\n",
       "    </tr>\n",
       "    <tr>\n",
       "      <th>1446</th>\n",
       "      <td>2907</td>\n",
       "    </tr>\n",
       "    <tr>\n",
       "      <th>1447</th>\n",
       "      <td>2908</td>\n",
       "    </tr>\n",
       "    <tr>\n",
       "      <th>1448</th>\n",
       "      <td>2909</td>\n",
       "    </tr>\n",
       "    <tr>\n",
       "      <th>1449</th>\n",
       "      <td>2910</td>\n",
       "    </tr>\n",
       "    <tr>\n",
       "      <th>1450</th>\n",
       "      <td>2911</td>\n",
       "    </tr>\n",
       "    <tr>\n",
       "      <th>1451</th>\n",
       "      <td>2912</td>\n",
       "    </tr>\n",
       "    <tr>\n",
       "      <th>1452</th>\n",
       "      <td>2913</td>\n",
       "    </tr>\n",
       "    <tr>\n",
       "      <th>1453</th>\n",
       "      <td>2914</td>\n",
       "    </tr>\n",
       "    <tr>\n",
       "      <th>1454</th>\n",
       "      <td>2915</td>\n",
       "    </tr>\n",
       "    <tr>\n",
       "      <th>1455</th>\n",
       "      <td>2916</td>\n",
       "    </tr>\n",
       "    <tr>\n",
       "      <th>1456</th>\n",
       "      <td>2917</td>\n",
       "    </tr>\n",
       "    <tr>\n",
       "      <th>1457</th>\n",
       "      <td>2918</td>\n",
       "    </tr>\n",
       "    <tr>\n",
       "      <th>1458</th>\n",
       "      <td>2919</td>\n",
       "    </tr>\n",
       "  </tbody>\n",
       "</table>\n",
       "<p>1459 rows × 1 columns</p>\n",
       "</div>"
      ],
      "text/plain": [
       "        Id\n",
       "0     1461\n",
       "1     1462\n",
       "2     1463\n",
       "3     1464\n",
       "4     1465\n",
       "5     1466\n",
       "6     1467\n",
       "7     1468\n",
       "8     1469\n",
       "9     1470\n",
       "10    1471\n",
       "11    1472\n",
       "12    1473\n",
       "13    1474\n",
       "14    1475\n",
       "15    1476\n",
       "16    1477\n",
       "17    1478\n",
       "18    1479\n",
       "19    1480\n",
       "20    1481\n",
       "21    1482\n",
       "22    1483\n",
       "23    1484\n",
       "24    1485\n",
       "25    1486\n",
       "26    1487\n",
       "27    1488\n",
       "28    1489\n",
       "29    1490\n",
       "...    ...\n",
       "1429  2890\n",
       "1430  2891\n",
       "1431  2892\n",
       "1432  2893\n",
       "1433  2894\n",
       "1434  2895\n",
       "1435  2896\n",
       "1436  2897\n",
       "1437  2898\n",
       "1438  2899\n",
       "1439  2900\n",
       "1440  2901\n",
       "1441  2902\n",
       "1442  2903\n",
       "1443  2904\n",
       "1444  2905\n",
       "1445  2906\n",
       "1446  2907\n",
       "1447  2908\n",
       "1448  2909\n",
       "1449  2910\n",
       "1450  2911\n",
       "1451  2912\n",
       "1452  2913\n",
       "1453  2914\n",
       "1454  2915\n",
       "1455  2916\n",
       "1456  2917\n",
       "1457  2918\n",
       "1458  2919\n",
       "\n",
       "[1459 rows x 1 columns]"
      ]
     },
     "execution_count": 213,
     "metadata": {},
     "output_type": "execute_result"
    }
   ],
   "source": [
    "output"
   ]
  },
  {
   "cell_type": "code",
   "execution_count": 214,
   "metadata": {},
   "outputs": [],
   "source": [
    "output['SalePrice'] = np.expm1(test_model_5.predict(all_data_dum[len(train_data):]))"
   ]
  },
  {
   "cell_type": "code",
   "execution_count": 215,
   "metadata": {},
   "outputs": [],
   "source": [
    "output.to_csv('../Output/out.csv', index = False)"
   ]
  },
  {
   "cell_type": "code",
   "execution_count": 216,
   "metadata": {},
   "outputs": [
    {
     "data": {
      "text/plain": [
       "(2919, 446)"
      ]
     },
     "execution_count": 216,
     "metadata": {},
     "output_type": "execute_result"
    }
   ],
   "source": [
    "all_data_dum.shape"
   ]
  }
 ],
 "metadata": {
  "kernelspec": {
   "display_name": "Python 3",
   "language": "python",
   "name": "python3"
  },
  "language_info": {
   "codemirror_mode": {
    "name": "ipython",
    "version": 3
   },
   "file_extension": ".py",
   "mimetype": "text/x-python",
   "name": "python",
   "nbconvert_exporter": "python",
   "pygments_lexer": "ipython3",
   "version": "3.7.0"
  }
 },
 "nbformat": 4,
 "nbformat_minor": 2
}
