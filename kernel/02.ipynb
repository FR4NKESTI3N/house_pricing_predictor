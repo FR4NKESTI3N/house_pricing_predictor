{
 "cells": [
  {
   "cell_type": "code",
   "execution_count": 38,
   "metadata": {},
   "outputs": [],
   "source": [
    "import numpy as np,\\\n",
    "pandas as pd,\\\n",
    "seaborn as sns,\\\n",
    "matplotlib.pyplot as plt,\\\n",
    "sklearn.preprocessing as Scaler\n",
    "\n",
    "import sklearn\n",
    "from sklearn import linear_model\n",
    "from sklearn import preprocessing\n",
    "\n",
    "from scipy import stats\n",
    "\n",
    "import warnings\n",
    "warnings.filterwarnings('ignore')\n",
    "\n",
    "%matplotlib inline\n",
    "\n",
    "pd.set_option('display.float_format', lambda x: '{:.4f}'.format(x))\n",
    "\n",
    "import sqlalchemy\n",
    "from sqlalchemy import create_engine\n",
    "\n",
    "\n",
    "engine = create_engine(\"sqlite:////home/yash/kaggle/house.db\", echo=False)"
   ]
  },
  {
   "cell_type": "code",
   "execution_count": 39,
   "metadata": {},
   "outputs": [],
   "source": [
    "train_data = pd.read_sql('train', con = engine).drop(columns = ['index'])\n",
    "test_data = pd.read_sql('test', con = engine).drop(columns = ['index'])"
   ]
  },
  {
   "cell_type": "code",
   "execution_count": 40,
   "metadata": {},
   "outputs": [],
   "source": [
    "features_to_drop = ['GarageArea', 'TotRmsAbvGrd', 'TotalBsmtSF', 'Utilities']\n",
    "\n",
    "features_to_trans = ['MiscVal', 'PoolArea', 'LotArea', '3SsnPorch', 'LowQualFinSF',\n",
    "                     'KitchenAbvGr', 'BsmtFinSF2', 'ScreenPorch', 'BsmtHalfBath',\n",
    "                     'EnclosedPorch', 'MasVnrArea', 'OpenPorchSF', 'LotFrontage',\n",
    "                     'BsmtFinSF1', 'WoodDeckSF', '1stFlrSF',\n",
    "                     'GrLivArea', 'BsmtUnfSF', '2ndFlrSF', 'HalfBath']\n",
    "\n",
    "features_categorical = ['LotShape', 'OverallQual', 'OverallCond', 'LandContour', 'LotConfig',\n",
    "                        'GarageFinish', 'GarageQual', 'GarageCond', 'PavedDrive',\n",
    "                        'PoolQC', 'Fence', 'MiscFeature', 'SaleType', 'SaleCondition', 'MSZoning', 'MSSubClass',\n",
    "                        'Street', 'Alley', 'LandSlope', 'Neighborhood', 'Condition1', 'Condition2', 'BldgType',\n",
    "                        'HouseStyle', 'RoofStyle', 'RoofMatl', 'Exterior1st', 'Exterior2nd', 'MasVnrType', 'ExterQual',\n",
    "                        'ExterCond', 'Foundation', 'BsmtQual', 'BsmtCond', 'BsmtExposure', 'BsmtFinType1', 'BsmtFinType2',\n",
    "                        'Heating', 'HeatingQC', 'CentralAir', 'Electrical', 'KitchenQual', 'Functional', 'FireplaceQu',\n",
    "                        'GarageType']\n",
    "\n",
    "features_numerical = ['LotFrontage', 'LotArea', 'MasVnrArea', 'BsmtFinSF1', 'BsmtFinSF2', 'BsmtUnfSF', '1stFlrSF',\n",
    "                      '2ndFlrSF', 'LowQualFinSF', 'GrLivArea', 'BsmtFullBath', 'BsmtHalfBath', 'FullBath', 'HalfBath',\n",
    "                      'BedroomAbvGr', 'KitchenAbvGr', 'Fireplaces', 'GarageCars', 'WoodDeckSF', 'YrSold', 'YearBuilt',\n",
    "                      'OpenPorchSF', 'EnclosedPorch', '3SsnPorch', 'ScreenPorch', 'PoolArea', 'MiscVal', 'GarageYrBlt',\n",
    "                      'YearRemodAdd','MoSold']\n",
    "\n",
    "features_na_null = ['GarageFinish', 'GarageQual', 'GarageCond', 'PoolQC', 'Fence', 'MiscFeature', 'MSSubClass', 'Alley',\n",
    "                   'MasVnrType', 'BsmtQual', 'BsmtCond', 'BsmtExposure', 'BsmtFinType1', 'BsmtFinType2', 'FireplaceQu',\n",
    "                   'GarageType']\n",
    "\n",
    "features_na_zero = ['GarageYrBlt', 'GarageCars', 'BsmtFinSF1', 'BsmtFinSF2', 'BsmtUnfSF', 'BsmtFullBath', 'BsmtHalfBath',\n",
    "                   'MasVnrArea']\n",
    "\n",
    "\n",
    "# Randomize train_data before splitting\n",
    "#\n",
    "########################################\n",
    "train_data = train_data.sample(frac = 1).reset_index(drop = True)\n",
    "Y = train_data[['Id', 'SalePrice']]\n",
    "all_data = pd.concat((train_data.drop(columns = ['SalePrice']), test_data))\n",
    "\n",
    "# Drop features and fill NA\n",
    "#\n",
    "#########################################\n",
    "\n",
    "all_data = all_data.drop(columns = features_to_drop)\n",
    "\n",
    "all_data['MSZoning'] = all_data['MSZoning'].fillna('RL')\n",
    "all_data['Functional'] = all_data['Functional'].fillna('Typ')\n",
    "all_data['Electrical'] = all_data['Electrical'].fillna('SBrkr')\n",
    "all_data['SaleType'] = all_data['SaleType'].fillna('WD')\n",
    "all_data['KitchenQual'] = all_data['KitchenQual'].fillna('TA')\n",
    "all_data['Exterior1st'] = all_data['Exterior1st'].fillna('VinylSd')\n",
    "all_data['Exterior2nd'] = all_data['Exterior2nd'].fillna('VinylSd')\n",
    "\n",
    "all_data[features_na_null] = all_data[features_na_null].fillna(\"None\")\n",
    "\n",
    "all_data['LotFrontage'] = all_data.groupby(\"Neighborhood\")[\"LotFrontage\"].transform(lambda col: \n",
    "                                                                                    col.fillna(col.dropna().median()))\n",
    "\n",
    "all_data[features_na_zero] = all_data[features_na_zero].fillna(0)\n",
    "\n",
    "all_data[features_categorical] = all_data[features_categorical].fillna(\"None\")\n",
    "\n",
    "all_data[features_numerical] = all_data[features_numerical].fillna(0)"
   ]
  },
  {
   "cell_type": "code",
   "execution_count": 41,
   "metadata": {},
   "outputs": [],
   "source": [
    "# Apply log transform\n",
    "#\n",
    "#########################################\n",
    "\n",
    "Y['SalePrice'] = np.log1p(Y['SalePrice'])\n",
    "all_data[features_to_trans] = np.log1p(all_data[features_to_trans])"
   ]
  },
  {
   "cell_type": "code",
   "execution_count": 42,
   "metadata": {},
   "outputs": [],
   "source": [
    "all_data_dum = pd.get_dummies(all_data.drop('Id', axis = 1))"
   ]
  },
  {
   "cell_type": "code",
   "execution_count": 43,
   "metadata": {},
   "outputs": [],
   "source": [
    "Y.to_sql('Y', con = engine, if_exists = 'replace')\n",
    "all_data_dum[:len(train_data)].to_sql('traindata', con = engine, if_exists = 'replace')\n",
    "all_data_dum[len(train_data):].to_sql('testdata', con = engine, if_exists = 'replace')"
   ]
  },
  {
   "cell_type": "code",
   "execution_count": null,
   "metadata": {},
   "outputs": [],
   "source": []
  }
 ],
 "metadata": {
  "kernelspec": {
   "display_name": "Python 3",
   "language": "python",
   "name": "python3"
  },
  "language_info": {
   "codemirror_mode": {
    "name": "ipython",
    "version": 3
   },
   "file_extension": ".py",
   "mimetype": "text/x-python",
   "name": "python",
   "nbconvert_exporter": "python",
   "pygments_lexer": "ipython3",
   "version": "3.7.0"
  }
 },
 "nbformat": 4,
 "nbformat_minor": 2
}
